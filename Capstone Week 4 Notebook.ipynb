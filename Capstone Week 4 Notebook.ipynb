{
    "cells": [
        {
            "cell_type": "markdown",
            "metadata": {
                "collapsed": true
            },
            "source": "# Capstone Notebook Week 4"
        },
        {
            "cell_type": "markdown",
            "metadata": {},
            "source": "### Introduction/Business Problem: "
        },
        {
            "cell_type": "markdown",
            "metadata": {},
            "source": "My client is going to open a Tex-Mex restaurant in the Dallas area. This areas include: Bishop Arts District, Oak Lawn, Deep Ellum, Uptown and Lower Greenville (etc). He wants to know in which area would be more profitable and  also more competitive\n\nIn developing the recommendation, we need to make clear which factors to take into consideration.\n1. Current restaurant distribution in Dallas area. \n2. Population distribution in each area. \n3. Know most popular type of restaurant in each area. "
        },
        {
            "cell_type": "markdown",
            "metadata": {},
            "source": "### Data requirements: "
        },
        {
            "cell_type": "markdown",
            "metadata": {},
            "source": "Inputs:\n1. Zip-code data for Dallas county area  from a US zip data set at : https://simplemaps.com/data/us-zips.\n2. Farther detail including Population in each area from: https://www.zipdatamaps.com/{zipcode}.\n3. Foursquare restaurant data including venue info and other details ( zip, lng, lat, city, population). \n\n\nOutput: \n1. Top list of recommended zip codes to open a Tex-Mex restaurant in Dallas area (Top3)."
        },
        {
            "cell_type": "markdown",
            "metadata": {},
            "source": "### Data requirements cont:"
        },
        {
            "cell_type": "markdown",
            "metadata": {},
            "source": "In order to take into account these factors and reach a better decision we need to us a machine learning decision method. \n \nK-mean Method:\n1. To cluster according to favorite test.\n2. See population distribution in each areas/ number of guest pre restaurant.  \n "
        },
        {
            "cell_type": "markdown",
            "metadata": {},
            "source": "I will take the data and construct a content-based recommender to produce the final recommendations"
        }
    ],
    "metadata": {
        "kernelspec": {
            "display_name": "Python 3.6",
            "language": "python",
            "name": "python3"
        },
        "language_info": {
            "codemirror_mode": {
                "name": "ipython",
                "version": 3
            },
            "file_extension": ".py",
            "mimetype": "text/x-python",
            "name": "python",
            "nbconvert_exporter": "python",
            "pygments_lexer": "ipython3",
            "version": "3.6.9"
        }
    },
    "nbformat": 4,
    "nbformat_minor": 1
}