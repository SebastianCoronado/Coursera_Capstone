{
    "cells": [
        {
            "cell_type": "markdown",
            "metadata": {},
            "source": "**Segmenting and Clustering Neighborhoods in Toronto**"
        },
        {
            "cell_type": "markdown",
            "metadata": {},
            "source": "Peer-Graded Assignment "
        },
        {
            "cell_type": "markdown",
            "metadata": {},
            "source": "***Table of Contents***"
        },
        {
            "cell_type": "markdown",
            "metadata": {},
            "source": "***Q1***:\n1.1 Create Notebook\n1.2 Web Scraping\n1.3 Data to Pandas df\n1.4 Dataframe cleaning \n1.5 Notebook to Github repository "
        },
        {
            "cell_type": "markdown",
            "metadata": {},
            "source": "***Q2***:\n2.1 Geocoder for neighborhood coordinates\n2.2 Creating request df\n2.3 Notebook to Github repository"
        },
        {
            "cell_type": "markdown",
            "metadata": {},
            "source": "***Q3***:\n3.1 Test set of Toronto boroughs \n3.2 Analysis of Toronto neighborhoods\n3.3 Foursquare API for Toronto neighborhoods\n3.4 Common venue catagories,Folium maps to visualize neighborhoods. \n3.5 Grouping neighborhood clusters \n3.6 Notebook to Github repository "
        },
        {
            "cell_type": "markdown",
            "metadata": {},
            "source": "***Part Q1 ++++++++++++++++++++++++++++++++++++++++++++++++++++++++++++++++++++++++++++++++++++++++++++++++++++++++++++++++++***"
        },
        {
            "cell_type": "markdown",
            "metadata": {},
            "source": "***1.1 Creat Notebook***\n"
        },
        {
            "cell_type": "code",
            "execution_count": 8,
            "metadata": {},
            "outputs": [
                {
                    "name": "stdout",
                    "output_type": "stream",
                    "text": "Imported\n"
                }
            ],
            "source": "import numpy as np\nimport pandas as pd \nimport requests \n\nprint('Imported')"
        },
        {
            "cell_type": "markdown",
            "metadata": {},
            "source": "***1.2 Web Scraping***"
        },
        {
            "cell_type": "code",
            "execution_count": 9,
            "metadata": {},
            "outputs": [
                {
                    "name": "stdout",
                    "output_type": "stream",
                    "text": "Beautifulsoup and csv imported\n"
                }
            ],
            "source": "import requests\nfrom urllib.request import urlopen\nfrom bs4 import BeautifulSoup\nimport ssl\nimport csv\n\nprint('Beautifulsoup and csv imported')"
        },
        {
            "cell_type": "code",
            "execution_count": 10,
            "metadata": {},
            "outputs": [
                {
                    "name": "stdout",
                    "output_type": "stream",
                    "text": "SSL certificate errors ignored\n"
                }
            ],
            "source": "ctx = ssl.create_default_context()\nctx.check_hostname = False\nctx.verify_mode = ssl.CERT_NONE\n\nprint('SSL certificate errors ignored')"
        },
        {
            "cell_type": "code",
            "execution_count": 11,
            "metadata": {},
            "outputs": [
                {
                    "name": "stdout",
                    "output_type": "stream",
                    "text": "<!DOCTYPE html>\n<html class=\"client-nojs\" dir=\"ltr\" lang=\"en\">\n <head>\n  <meta charset=\"utf-8\"/>\n  <title>\n   List of postal codes of Canada: M - Wikipedia\n  </title>\n  <script>\n   document.documentElement.className=\"client-js\";RLCONF={\"wgBreakFrames\":!1,\"wgSeparatorTransformTable\":[\"\",\"\"],\"wgDigitTransformTable\":[\"\",\"\"],\"wgDefaultDateFormat\":\"dmy\",\"wgMonthNames\":[\"\",\"January\",\"February\",\"March\",\"April\",\"May\",\"June\",\"July\",\"August\",\"September\",\"October\",\"November\",\"December\"],\"wgRequestId\":\"XptG7wpAMNAAAUaw2@sAAAES\",\"wgCSPNonce\":!1,\"wgCanonicalNamespace\":\"\",\"wgCanonicalSpecialPageName\":!1,\"wgNamespaceNumber\":0,\"wgPageName\":\"List_of_postal_codes_of_Canada:_M\",\"wgTitle\":\"List of postal codes of Canada: M\",\"wgCurRevisionId\":951325562,\"wgRevisionId\":951325562,\"wgArticleId\":539066,\"wgIsArticle\":!0,\"wgIsRedirect\":!1,\"wgAction\":\"view\",\"wgUserName\":null,\"wgUserGroups\":[\"*\"],\"wgCategories\":[\"Articles with short description\",\"Communications in Ontario\",\"Postal codes in Canada\",\"Toronto\",\"Ontario-related lists\"],\"wgPageContentLanguage\":\"en\",\"wgPageContentModel\":\"wikitext\",\"wgRelevantPageName\":\"List_of_postal_codes_of_Canada:_M\",\"wgRelevantArticleId\":539066,\n\"wgIsProbablyEditable\":!0,\"wgRelevantPageIsProbablyEditable\":!0,\"wgRestrictionEdit\":[],\"wgRestrictionMove\":[],\"wgMediaViewerOnClick\":!0,\"wgMediaViewerEnabledByDefault\":!0,\"wgPopupsReferencePreviews\":!1,\"wgPopupsConflictsWithNavPopupGadget\":!1,\"wgVisualEditor\":{\"pageLanguageCode\":\"en\",\"pageLanguageDir\":\"ltr\",\"pageVariantFallbacks\":\"en\"},\"wgMFDisplayWikibaseDescriptions\":{\"search\":!0,\"nearby\":!0,\"watchlist\":!0,\"tagline\":!1},\"wgWMESchemaEditAttemptStepOversample\":!1,\"wgULSCurrentAutonym\":\"English\",\"wgNoticeProject\":\"wikipedia\",\"wgWikibaseItemId\":\"Q3248240\",\"wgCentralAuthMobileDomain\":!1,\"wgEditSubmitButtonLabelPublish\":!0};RLSTATE={\"ext.globalCssJs.user.styles\":\"ready\",\"site.styles\":\"ready\",\"noscript\":\"ready\",\"user.styles\":\"ready\",\"ext.globalCssJs.user\":\"ready\",\"user\":\"ready\",\"user.options\":\"loading\",\"ext.cite.styles\":\"ready\",\"jquery.tablesorter.styles\":\"ready\",\"skins.vector.styles.legacy\":\"ready\",\"wikibase.client.init\":\"ready\",\n\"ext.visualEditor.desktopArticleTarget.noscript\":\"ready\",\"ext.uls.interlanguage\":\"ready\",\"ext.wikimediaBadges\":\"ready\"};RLPAGEMODULES=[\"ext.cite.ux-enhancements\",\"site\",\"mediawiki.page.startup\",\"skins.vector.js\",\"mediawiki.page.ready\",\"jquery.tablesorter\",\"ext.gadget.ReferenceTooltips\",\"ext.gadget.charinsert\",\"ext.gadget.refToolbar\",\"ext.gadget.extra-toolbar-buttons\",\"ext.gadget.switcher\",\"ext.centralauth.centralautologin\",\"mmv.head\",\"mmv.bootstrap.autostart\",\"ext.popups\",\"ext.visualEditor.desktopArticleTarget.init\",\"ext.visualEditor.targetLoader\",\"ext.eventLogging\",\"ext.wikimediaEvents\",\"ext.navigationTiming\",\"ext.uls.compactlinks\",\"ext.uls.interface\",\"ext.cx.eventlogging.campaigns\",\"ext.quicksurveys.init\",\"ext.centralNotice.geoIP\",\"ext.centralNotice.startUp\"];\n  </script>\n  <script>\n   (RLQ=window.RLQ||[]).push(function(){mw.loader.implement(\"user.options@1hzgi\",function($,jQuery,require,module){/*@nomin*/mw.user.tokens.set({\"patrolToken\":\"+\\\\\",\"watchToken\":\"+\\\\\",\"csrfToken\":\"+\\\\\"});\n});});\n  </script>\n  <link href=\"/w/load.php?lang=en&amp;modules=ext.cite.styles%7Cext.uls.interlanguage%7Cext.visualEditor.desktopArticleTarget.noscript%7Cext.wikimediaBadges%7Cjquery.tablesorter.styles%7Cskins.vector.styles.legacy%7Cwikibase.client.init&amp;only=styles&amp;skin=vector\" rel=\"stylesheet\"/>\n  <script async=\"\" src=\"/w/load.php?lang=en&amp;modules=startup&amp;only=scripts&amp;raw=1&amp;skin=vector\">\n  </script>\n  <meta content=\"\" name=\"ResourceLoaderDynamicStyles\"/>\n  <link href=\"/w/load.php?lang=en&amp;modules=site.styles&amp;only=styles&amp;skin=vector\" rel=\"stylesheet\"/>\n  <meta content=\"MediaWiki 1.35.0-wmf.28\" name=\"generator\"/>\n  <meta content=\"origin\" name=\"referrer\"/>\n  <meta content=\"origin-when-crossorigin\" name=\"referrer\"/>\n  <meta content=\"origin-when-cross-origin\" name=\"referrer\"/>\n  <link href=\"/w/index.php?title=List_of_postal_codes_of_Canada:_M&amp;action=edit\" rel=\"alternate\" title=\"Edit this page\" type=\"application/x-wiki\"/>\n  <link href=\"/w/index.php?title=List_of_postal_codes_of_Canada:_M&amp;action=edit\" rel=\"edit\" title=\"Edit this page\"/>\n  <link href=\"/static/apple-touch/wikipedia.png\" rel=\"apple-touch-icon\"/>\n  <link href=\"/static/favicon/wikipedia.ico\" rel=\"shortcut icon\"/>\n  <link href=\"/w/opensearch_desc.php\" rel=\"search\" title=\"Wikipedia (en)\" type=\"application/opensearchdescription+xml\"/>\n  <link href=\"//en.wikipedia.org/w/api.php?action=rsd\" rel=\"EditURI\" type=\"application/rsd+xml\"/>\n  <link href=\"//creativecommons.org/licenses/by-sa/3.0/\" rel=\"license\"/>\n  <link href=\"/w/index.php?title=Special:RecentChanges&amp;feed=atom\" rel=\"alternate\" title=\"Wikipedia Atom feed\" type=\"application/atom+xml\"/>\n  <link href=\"https://en.wikipedia.org/wiki/List_of_postal_codes_of_Canada:_M\" rel=\"canonical\"/>\n  <link href=\"//login.wikimedia.org\" rel=\"dns-prefetch\"/>\n  <link href=\"//meta.wikimedia.org\" rel=\"dns-prefetch\"/>\n  <!--[if lt IE 9]><script src=\"/w/resources/lib/html5shiv/html5shiv.js\"></script><![endif]-->\n </head>\n <body class=\"mediawiki ltr sitedir-ltr mw-hide-empty-elt ns-0 ns-subject mw-editable page-List_of_postal_codes_of_Canada_M rootpage-List_of_postal_codes_of_Canada_M skin-vector action-view\">\n  <div class=\"noprint\" id=\"mw-page-base\">\n  </div>\n  <div class=\"noprint\" id=\"mw-head-base\">\n  </div>\n  <div class=\"mw-body\" id=\"content\" role=\"main\">\n   <a id=\"top\">\n   </a>\n   <div class=\"mw-body-content\" id=\"siteNotice\">\n    <!-- CentralNotice -->\n   </div>\n   <div class=\"mw-indicators mw-body-content\">\n   </div>\n   <h1 class=\"firstHeading\" id=\"firstHeading\" lang=\"en\">\n    List of postal codes of Canada: M\n   </h1>\n   <div class=\"mw-body-content\" id=\"bodyContent\">\n    <div class=\"noprint\" id=\"siteSub\">\n     From Wikipedia, the free encyclopedia\n    </div>\n    <div id=\"contentSub\">\n    </div>\n    <div id=\"jump-to-nav\">\n    </div>\n    <a class=\"mw-jump-link\" href=\"#mw-head\">\n     Jump to navigation\n    </a>\n    <a class=\"mw-jump-link\" href=\"#p-search\">\n     Jump to search\n    </a>\n    <div class=\"mw-content-ltr\" dir=\"ltr\" id=\"mw-content-text\" lang=\"en\">\n     <div class=\"mw-parser-output\">\n      <div class=\"shortdescription nomobile noexcerpt noprint searchaux\" style=\"display:none\">\n       Wikipedia list article\n      </div>\n      <p>\n       This is a list of\n       <a href=\"/wiki/Postal_codes_in_Canada\" title=\"Postal codes in Canada\">\n        postal codes in Canada\n       </a>\n       where the first letter is M. Postal codes beginning with M are located within the city of\n       <a href=\"/wiki/Toronto\" title=\"Toronto\">\n        Toronto\n       </a>\n       in the province of\n       <a href=\"/wiki/Ontario\" title=\"Ontario\">\n        Ontario\n       </a>\n       . Only the first three characters are listed, corresponding to the Forward Sortation Area.\n      </p>\n      <p>\n       <a href=\"/wiki/Canada_Post\" title=\"Canada Post\">\n        Canada Post\n       </a>\n       provides a free postal code look-up tool on its website,\n       <sup class=\"reference\" id=\"cite_ref-1\">\n        <a href=\"#cite_note-1\">\n         [1]\n        </a>\n       </sup>\n       via its\n       <a href=\"/wiki/Mobile_app\" title=\"Mobile app\">\n        applications\n       </a>\n       for such\n       <a class=\"mw-redirect\" href=\"/wiki/Smartphones\" title=\"Smartphones\">\n        smartphones\n       </a>\n       as the\n       <a href=\"/wiki/IPhone\" title=\"IPhone\">\n        iPhone\n       </a>\n       and\n       <a href=\"/wiki/BlackBerry\" title=\"BlackBerry\">\n        BlackBerry\n       </a>\n       ,\n       <sup class=\"reference\" id=\"cite_ref-2\">\n        <a href=\"#cite_note-2\">\n         [2]\n        </a>\n       </sup>\n       and sells hard-copy directories and\n       <a href=\"/wiki/CD-ROM\" title=\"CD-ROM\">\n        CD-ROMs\n       </a>\n       . Many vendors also sell validation tools, which allow customers to properly match addresses and postal codes. Hard-copy directories can also be consulted in all post offices, and some libraries.\n      </p>\n      <h2>\n       <span class=\"mw-headline\" id=\"Toronto_-_103_FSAs\">\n        <a href=\"/wiki/Toronto\" title=\"Toronto\">\n         Toronto\n        </a>\n        - 103\n        <a href=\"/wiki/Postal_codes_in_Canada#Forward_sortation_areas\" title=\"Postal codes in Canada\">\n         FSAs\n        </a>\n       </span>\n       <span class=\"mw-editsection\">\n        <span class=\"mw-editsection-bracket\">\n         [\n        </span>\n        <a href=\"/w/index.php?title=List_of_postal_codes_of_Canada:_M&amp;action=edit&amp;section=1\" title=\"Edit section: Toronto - 103 FSAs\">\n         edit\n        </a>\n        <span class=\"mw-editsection-bracket\">\n         ]\n        </span>\n       </span>\n      </h2>\n      <p>\n       Note: There are no rural FSAs in Toronto, hence no postal codes should start with M0, however, the postal code M0R 8T0 is assigned to an\n       <a href=\"/wiki/Amazon_(company)\" title=\"Amazon (company)\">\n        Amazon\n       </a>\n       warehouse in Mississauga, suggesting that Canada Post may be allocating the M0 FSA for high volume addresses.\n      </p>\n      <table class=\"wikitable sortable\">\n       <tbody>\n        <tr>\n         <th>\n          Postal code\n         </th>\n         <th>\n          Borough\n         </th>\n         <th>\n          Neighborhood\n         </th>\n        </tr>\n        <tr>\n         <td>\n          M1A\n         </td>\n         <td>\n          Not assigned\n         </td>\n         <td>\n         </td>\n        </tr>\n        <tr>\n         <td>\n          M2A\n         </td>\n         <td>\n          Not assigned\n         </td>\n         <td>\n         </td>\n        </tr>\n        <tr>\n         <td>\n          M3A\n         </td>\n         <td>\n          North York\n         </td>\n         <td>\n          Parkwoods\n         </td>\n        </tr>\n        <tr>\n         <td>\n          M4A\n         </td>\n         <td>\n          North York\n         </td>\n         <td>\n          Victoria Village\n         </td>\n        </tr>\n        <tr>\n         <td>\n          M5A\n         </td>\n         <td>\n          Downtown Toronto\n         </td>\n         <td>\n          Regent Park / Harbourfront\n         </td>\n        </tr>\n        <tr>\n         <td>\n          M6A\n         </td>\n         <td>\n          North York\n         </td>\n         <td>\n          Lawrence Manor / Lawrence Heights\n         </td>\n        </tr>\n        <tr>\n         <td>\n          M7A\n         </td>\n         <td>\n          Downtown Toronto\n         </td>\n         <td>\n          Queen's Park / Ontario Provincial Government\n         </td>\n        </tr>\n        <tr>\n         <td>\n          M8A\n         </td>\n         <td>\n          Not assigned\n         </td>\n         <td>\n         </td>\n        </tr>\n        <tr>\n         <td>\n          M9A\n         </td>\n         <td>\n          Etobicoke\n         </td>\n         <td>\n          Islington Avenue\n         </td>\n        </tr>\n        <tr>\n         <td>\n          M1B\n         </td>\n         <td>\n          Scarborough\n         </td>\n         <td>\n          Malvern / Rouge\n         </td>\n        </tr>\n        <tr>\n         <td>\n          M2B\n         </td>\n         <td>\n          Not assigned\n         </td>\n         <td>\n         </td>\n        </tr>\n        <tr>\n         <td>\n          M3B\n         </td>\n         <td>\n          North York\n         </td>\n         <td>\n          Don Mills\n         </td>\n        </tr>\n        <tr>\n         <td>\n          M4B\n         </td>\n         <td>\n          East York\n         </td>\n         <td>\n          Parkview Hill / Woodbine Gardens\n         </td>\n        </tr>\n        <tr>\n         <td>\n          M5B\n         </td>\n         <td>\n          Downtown Toronto\n         </td>\n         <td>\n          Garden District, Ryerson\n         </td>\n        </tr>\n        <tr>\n         <td>\n          M6B\n         </td>\n         <td>\n          North York\n         </td>\n         <td>\n          Glencairn\n         </td>\n        </tr>\n        <tr>\n         <td>\n          M7B\n         </td>\n         <td>\n          Not assigned\n         </td>\n         <td>\n         </td>\n        </tr>\n        <tr>\n         <td>\n          M8B\n         </td>\n         <td>\n          Not assigned\n         </td>\n         <td>\n         </td>\n        </tr>\n        <tr>\n         <td>\n          M9B\n         </td>\n         <td>\n          Etobicoke\n         </td>\n         <td>\n          West Deane Park / Princess Gardens / Martin Grove / Islington / Cloverdale\n         </td>\n        </tr>\n        <tr>\n         <td>\n          M1C\n         </td>\n         <td>\n          Scarborough\n         </td>\n         <td>\n          Rouge Hill / Port Union / Highland Creek\n         </td>\n        </tr>\n        <tr>\n         <td>\n          M2C\n         </td>\n         <td>\n          Not assigned\n         </td>\n         <td>\n         </td>\n        </tr>\n        <tr>\n         <td>\n          M3C\n         </td>\n         <td>\n          North York\n         </td>\n         <td>\n          Don Mills\n         </td>\n        </tr>\n        <tr>\n         <td>\n          M4C\n         </td>\n         <td>\n          East York\n         </td>\n         <td>\n          Woodbine Heights\n         </td>\n        </tr>\n        <tr>\n         <td>\n          M5C\n         </td>\n         <td>\n          Downtown Toronto\n         </td>\n         <td>\n          St. James Town\n         </td>\n        </tr>\n        <tr>\n         <td>\n          M6C\n         </td>\n         <td>\n          York\n         </td>\n         <td>\n          Humewood-Cedarvale\n         </td>\n        </tr>\n        <tr>\n         <td>\n          M7C\n         </td>\n         <td>\n          Not assigned\n         </td>\n         <td>\n         </td>\n        </tr>\n        <tr>\n         <td>\n          M8C\n         </td>\n         <td>\n          Not assigned\n         </td>\n         <td>\n         </td>\n        </tr>\n        <tr>\n         <td>\n          M9C\n         </td>\n         <td>\n          Etobicoke\n         </td>\n         <td>\n          Eringate / Bloordale Gardens / Old Burnhamthorpe / Markland Wood\n         </td>\n        </tr>\n        <tr>\n         <td>\n          M1E\n         </td>\n         <td>\n          Scarborough\n         </td>\n         <td>\n          Guildwood / Morningside / West Hill\n         </td>\n        </tr>\n        <tr>\n         <td>\n          M2E\n         </td>\n         <td>\n          Not assigned\n         </td>\n         <td>\n         </td>\n        </tr>\n        <tr>\n         <td>\n          M3E\n         </td>\n         <td>\n          Not assigned\n         </td>\n         <td>\n         </td>\n        </tr>\n        <tr>\n         <td>\n          M4E\n         </td>\n         <td>\n          East Toronto\n         </td>\n         <td>\n          The Beaches\n         </td>\n        </tr>\n        <tr>\n         <td>\n          M5E\n         </td>\n         <td>\n          Downtown Toronto\n         </td>\n         <td>\n          Berczy Park\n         </td>\n        </tr>\n        <tr>\n         <td>\n          M6E\n         </td>\n         <td>\n          York\n         </td>\n         <td>\n          Caledonia-Fairbanks\n         </td>\n        </tr>\n        <tr>\n         <td>\n          M7E\n         </td>\n         <td>\n          Not assigned\n         </td>\n         <td>\n         </td>\n        </tr>\n        <tr>\n         <td>\n          M8E\n         </td>\n         <td>\n          Not assigned\n         </td>\n         <td>\n         </td>\n        </tr>\n        <tr>\n         <td>\n          M9E\n         </td>\n         <td>\n          Not assigned\n         </td>\n         <td>\n         </td>\n        </tr>\n        <tr>\n         <td>\n          M1G\n         </td>\n         <td>\n          Scarborough\n         </td>\n         <td>\n          Woburn\n         </td>\n        </tr>\n        <tr>\n         <td>\n          M2G\n         </td>\n         <td>\n          Not assigned\n         </td>\n         <td>\n         </td>\n        </tr>\n        <tr>\n         <td>\n          M3G\n         </td>\n         <td>\n          Not assigned\n         </td>\n         <td>\n         </td>\n        </tr>\n        <tr>\n         <td>\n          M4G\n         </td>\n         <td>\n          East York\n         </td>\n         <td>\n          Leaside\n         </td>\n        </tr>\n        <tr>\n         <td>\n          M5G\n         </td>\n         <td>\n          Downtown Toronto\n         </td>\n         <td>\n          Central Bay Street\n         </td>\n        </tr>\n        <tr>\n         <td>\n          M6G\n         </td>\n         <td>\n          Downtown Toronto\n         </td>\n         <td>\n          Christie\n         </td>\n        </tr>\n        <tr>\n         <td>\n          M7G\n         </td>\n         <td>\n          Not assigned\n         </td>\n         <td>\n         </td>\n        </tr>\n        <tr>\n         <td>\n          M8G\n         </td>\n         <td>\n          Not assigned\n         </td>\n         <td>\n         </td>\n        </tr>\n        <tr>\n         <td>\n          M9G\n         </td>\n         <td>\n          Not assigned\n         </td>\n         <td>\n         </td>\n        </tr>\n        <tr>\n         <td>\n          M1H\n         </td>\n         <td>\n          Scarborough\n         </td>\n         <td>\n          Cedarbrae\n         </td>\n        </tr>\n        <tr>\n         <td>\n          M2H\n         </td>\n         <td>\n          North York\n         </td>\n         <td>\n          Hillcrest Village\n         </td>\n        </tr>\n        <tr>\n         <td>\n          M3H\n         </td>\n         <td>\n          North York\n         </td>\n         <td>\n          Bathurst Manor / Wilson Heights / Downsview North\n         </td>\n        </tr>\n        <tr>\n         <td>\n          M4H\n         </td>\n         <td>\n          East York\n         </td>\n         <td>\n          Thorncliffe Park\n         </td>\n        </tr>\n        <tr>\n         <td>\n          M5H\n         </td>\n         <td>\n          Downtown Toronto\n         </td>\n         <td>\n          Richmond / Adelaide / King\n         </td>\n        </tr>\n        <tr>\n         <td>\n          M6H\n         </td>\n         <td>\n          West Toronto\n         </td>\n         <td>\n          Dufferin / Dovercourt Village\n         </td>\n        </tr>\n        <tr>\n         <td>\n          M7H\n         </td>\n         <td>\n          Not assigned\n         </td>\n         <td>\n         </td>\n        </tr>\n        <tr>\n         <td>\n          M8H\n         </td>\n         <td>\n          Not assigned\n         </td>\n         <td>\n         </td>\n        </tr>\n        <tr>\n         <td>\n          M9H\n         </td>\n         <td>\n          Not assigned\n         </td>\n         <td>\n         </td>\n        </tr>\n        <tr>\n         <td>\n          M1J\n         </td>\n         <td>\n          Scarborough\n         </td>\n         <td>\n          Scarborough Village\n         </td>\n        </tr>\n        <tr>\n         <td>\n          M2J\n         </td>\n         <td>\n          North York\n         </td>\n         <td>\n          Fairview / Henry Farm / Oriole\n         </td>\n        </tr>\n        <tr>\n         <td>\n          M3J\n         </td>\n         <td>\n          North York\n         </td>\n         <td>\n          Northwood Park / York University\n         </td>\n        </tr>\n        <tr>\n         <td>\n          M4J\n         </td>\n         <td>\n          East York\n         </td>\n         <td>\n          East Toronto\n         </td>\n        </tr>\n        <tr>\n         <td>\n          M5J\n         </td>\n         <td>\n          Downtown Toronto\n         </td>\n         <td>\n          Harbourfront East / Union Station / Toronto Islands\n         </td>\n        </tr>\n        <tr>\n         <td>\n          M6J\n         </td>\n         <td>\n          West Toronto\n         </td>\n         <td>\n          Little Portugal / Trinity\n         </td>\n        </tr>\n        <tr>\n         <td>\n          M7J\n         </td>\n         <td>\n          Not assigned\n         </td>\n         <td>\n         </td>\n        </tr>\n        <tr>\n         <td>\n          M8J\n         </td>\n         <td>\n          Not assigned\n         </td>\n         <td>\n         </td>\n        </tr>\n        <tr>\n         <td>\n          M9J\n         </td>\n         <td>\n          Not assigned\n         </td>\n         <td>\n         </td>\n        </tr>\n        <tr>\n         <td>\n          M1K\n         </td>\n         <td>\n          Scarborough\n         </td>\n         <td>\n          Kennedy Park / Ionview / East Birchmount Park\n         </td>\n        </tr>\n        <tr>\n         <td>\n          M2K\n         </td>\n         <td>\n          North York\n         </td>\n         <td>\n          Bayview Village\n         </td>\n        </tr>\n        <tr>\n         <td>\n          M3K\n         </td>\n         <td>\n          North York\n         </td>\n         <td>\n          Downsview\n         </td>\n        </tr>\n        <tr>\n         <td>\n          M4K\n         </td>\n         <td>\n          East Toronto\n         </td>\n         <td>\n          The Danforth West / Riverdale\n         </td>\n        </tr>\n        <tr>\n         <td>\n          M5K\n         </td>\n         <td>\n          Downtown Toronto\n         </td>\n         <td>\n          Toronto Dominion Centre / Design Exchange\n         </td>\n        </tr>\n        <tr>\n         <td>\n          M6K\n         </td>\n         <td>\n          West Toronto\n         </td>\n         <td>\n          Brockton / Parkdale Village / Exhibition Place\n         </td>\n        </tr>\n        <tr>\n         <td>\n          M7K\n         </td>\n         <td>\n          Not assigned\n         </td>\n         <td>\n         </td>\n        </tr>\n        <tr>\n         <td>\n          M8K\n         </td>\n         <td>\n          Not assigned\n         </td>\n         <td>\n         </td>\n        </tr>\n        <tr>\n         <td>\n          M9K\n         </td>\n         <td>\n          Not assigned\n         </td>\n         <td>\n         </td>\n        </tr>\n        <tr>\n         <td>\n          M1L\n         </td>\n         <td>\n          Scarborough\n         </td>\n         <td>\n          Golden Mile / Clairlea / Oakridge\n         </td>\n        </tr>\n        <tr>\n         <td>\n          M2L\n         </td>\n         <td>\n          North York\n         </td>\n         <td>\n          York Mills / Silver Hills\n         </td>\n        </tr>\n        <tr>\n         <td>\n          M3L\n         </td>\n         <td>\n          North York\n         </td>\n         <td>\n          Downsview\n         </td>\n        </tr>\n        <tr>\n         <td>\n          M4L\n         </td>\n         <td>\n          East Toronto\n         </td>\n         <td>\n          India Bazaar / The Beaches West\n         </td>\n        </tr>\n        <tr>\n         <td>\n          M5L\n         </td>\n         <td>\n          Downtown Toronto\n         </td>\n         <td>\n          Commerce Court / Victoria Hotel\n         </td>\n        </tr>\n        <tr>\n         <td>\n          M6L\n         </td>\n         <td>\n          North York\n         </td>\n         <td>\n          North Park / Maple Leaf Park / Upwood Park\n         </td>\n        </tr>\n        <tr>\n         <td>\n          M7L\n         </td>\n         <td>\n          Not assigned\n         </td>\n         <td>\n         </td>\n        </tr>\n        <tr>\n         <td>\n          M8L\n         </td>\n         <td>\n          Not assigned\n         </td>\n         <td>\n         </td>\n        </tr>\n        <tr>\n         <td>\n          M9L\n         </td>\n         <td>\n          North York\n         </td>\n         <td>\n          Humber Summit\n         </td>\n        </tr>\n        <tr>\n         <td>\n          M1M\n         </td>\n         <td>\n          Scarborough\n         </td>\n         <td>\n          Cliffside / Cliffcrest / Scarborough Village West\n         </td>\n        </tr>\n        <tr>\n         <td>\n          M2M\n         </td>\n         <td>\n          North York\n         </td>\n         <td>\n          Willowdale / Newtonbrook\n         </td>\n        </tr>\n        <tr>\n         <td>\n          M3M\n         </td>\n         <td>\n          North York\n         </td>\n         <td>\n          Downsview\n         </td>\n        </tr>\n        <tr>\n         <td>\n          M4M\n         </td>\n         <td>\n          East Toronto\n         </td>\n         <td>\n          Studio District\n         </td>\n        </tr>\n        <tr>\n         <td>\n          M5M\n         </td>\n         <td>\n          North York\n         </td>\n         <td>\n          Bedford Park / Lawrence Manor East\n         </td>\n        </tr>\n        <tr>\n         <td>\n          M6M\n         </td>\n         <td>\n          York\n         </td>\n         <td>\n          Del Ray / Mount Dennis / Keelsdale and Silverthorn\n         </td>\n        </tr>\n        <tr>\n         <td>\n          M7M\n         </td>\n         <td>\n          Not assigned\n         </td>\n         <td>\n         </td>\n        </tr>\n        <tr>\n         <td>\n          M8M\n         </td>\n         <td>\n          Not assigned\n         </td>\n         <td>\n         </td>\n        </tr>\n        <tr>\n         <td>\n          M9M\n         </td>\n         <td>\n          North York\n         </td>\n         <td>\n          Humberlea / Emery\n         </td>\n        </tr>\n        <tr>\n         <td>\n          M1N\n         </td>\n         <td>\n          Scarborough\n         </td>\n         <td>\n          Birch Cliff / Cliffside West\n         </td>\n        </tr>\n        <tr>\n         <td>\n          M2N\n         </td>\n         <td>\n          North York\n         </td>\n         <td>\n          Willowdale\n         </td>\n        </tr>\n        <tr>\n         <td>\n          M3N\n         </td>\n         <td>\n          North York\n         </td>\n         <td>\n          Downsview\n         </td>\n        </tr>\n        <tr>\n         <td>\n          M4N\n         </td>\n         <td>\n          Central Toronto\n         </td>\n         <td>\n          Lawrence Park\n         </td>\n        </tr>\n        <tr>\n         <td>\n          M5N\n         </td>\n         <td>\n          Central Toronto\n         </td>\n         <td>\n          Roselawn\n         </td>\n        </tr>\n        <tr>\n         <td>\n          M6N\n         </td>\n         <td>\n          York\n         </td>\n         <td>\n          Runnymede / The Junction North\n         </td>\n        </tr>\n        <tr>\n         <td>\n          M7N\n         </td>\n         <td>\n          Not assigned\n         </td>\n         <td>\n         </td>\n        </tr>\n        <tr>\n         <td>\n          M8N\n         </td>\n         <td>\n          Not assigned\n         </td>\n         <td>\n         </td>\n        </tr>\n        <tr>\n         <td>\n          M9N\n         </td>\n         <td>\n          York\n         </td>\n         <td>\n          Weston\n         </td>\n        </tr>\n        <tr>\n         <td>\n          M1P\n         </td>\n         <td>\n          Scarborough\n         </td>\n         <td>\n          Dorset Park / Wexford Heights / Scarborough Town Centre\n         </td>\n        </tr>\n        <tr>\n         <td>\n          M2P\n         </td>\n         <td>\n          North York\n         </td>\n         <td>\n          York Mills West\n         </td>\n        </tr>\n        <tr>\n         <td>\n          M3P\n         </td>\n         <td>\n          Not assigned\n         </td>\n         <td>\n         </td>\n        </tr>\n        <tr>\n         <td>\n          M4P\n         </td>\n         <td>\n          Central Toronto\n         </td>\n         <td>\n          Davisville North\n         </td>\n        </tr>\n        <tr>\n         <td>\n          M5P\n         </td>\n         <td>\n          Central Toronto\n         </td>\n         <td>\n          Forest Hill North &amp; West\n         </td>\n        </tr>\n        <tr>\n         <td>\n          M6P\n         </td>\n         <td>\n          West Toronto\n         </td>\n         <td>\n          High Park / The Junction South\n         </td>\n        </tr>\n        <tr>\n         <td>\n          M7P\n         </td>\n         <td>\n          Not assigned\n         </td>\n         <td>\n         </td>\n        </tr>\n        <tr>\n         <td>\n          M8P\n         </td>\n         <td>\n          Not assigned\n         </td>\n         <td>\n         </td>\n        </tr>\n        <tr>\n         <td>\n          M9P\n         </td>\n         <td>\n          Etobicoke\n         </td>\n         <td>\n          Westmount\n         </td>\n        </tr>\n        <tr>\n         <td>\n          M1R\n         </td>\n         <td>\n          Scarborough\n         </td>\n         <td>\n          Wexford / Maryvale\n         </td>\n        </tr>\n        <tr>\n         <td>\n          M2R\n         </td>\n         <td>\n          North York\n         </td>\n         <td>\n          Willowdale\n         </td>\n        </tr>\n        <tr>\n         <td>\n          M3R\n         </td>\n         <td>\n          Not assigned\n         </td>\n         <td>\n         </td>\n        </tr>\n        <tr>\n         <td>\n          M4R\n         </td>\n         <td>\n          Central Toronto\n         </td>\n         <td>\n          North Toronto West\n         </td>\n        </tr>\n        <tr>\n         <td>\n          M5R\n         </td>\n         <td>\n          Central Toronto\n         </td>\n         <td>\n          The Annex / North Midtown / Yorkville\n         </td>\n        </tr>\n        <tr>\n         <td>\n          M6R\n         </td>\n         <td>\n          West Toronto\n         </td>\n         <td>\n          Parkdale / Roncesvalles\n         </td>\n        </tr>\n        <tr>\n         <td>\n          M7R\n         </td>\n         <td>\n          Mississauga\n         </td>\n         <td>\n          Canada Post Gateway Processing Centre\n         </td>\n        </tr>\n        <tr>\n         <td>\n          M8R\n         </td>\n         <td>\n          Not assigned\n         </td>\n         <td>\n         </td>\n        </tr>\n        <tr>\n         <td>\n          M9R\n         </td>\n         <td>\n          Etobicoke\n         </td>\n         <td>\n          Kingsview Village / St. Phillips / Martin Grove Gardens / Richview Gardens\n         </td>\n        </tr>\n        <tr>\n         <td>\n          M1S\n         </td>\n         <td>\n          Scarborough\n         </td>\n         <td>\n          Agincourt\n         </td>\n        </tr>\n        <tr>\n         <td>\n          M2S\n         </td>\n         <td>\n          Not assigned\n         </td>\n         <td>\n         </td>\n        </tr>\n        <tr>\n         <td>\n          M3S\n         </td>\n         <td>\n          Not assigned\n         </td>\n         <td>\n         </td>\n        </tr>\n        <tr>\n         <td>\n          M4S\n         </td>\n         <td>\n          Central Toronto\n         </td>\n         <td>\n          Davisville\n         </td>\n        </tr>\n        <tr>\n         <td>\n          M5S\n         </td>\n         <td>\n          Downtown Toronto\n         </td>\n         <td>\n          University of Toronto / Harbord\n         </td>\n        </tr>\n        <tr>\n         <td>\n          M6S\n         </td>\n         <td>\n          West Toronto\n         </td>\n         <td>\n          Runnymede / Swansea\n         </td>\n        </tr>\n        <tr>\n         <td>\n          M7S\n         </td>\n         <td>\n          Not assigned\n         </td>\n         <td>\n         </td>\n        </tr>\n        <tr>\n         <td>\n          M8S\n         </td>\n         <td>\n          Not assigned\n         </td>\n         <td>\n         </td>\n        </tr>\n        <tr>\n         <td>\n          M9S\n         </td>\n         <td>\n          Not assigned\n         </td>\n         <td>\n         </td>\n        </tr>\n        <tr>\n         <td>\n          M1T\n         </td>\n         <td>\n          Scarborough\n         </td>\n         <td>\n          Clarks Corners / Tam O'Shanter / Sullivan\n         </td>\n        </tr>\n        <tr>\n         <td>\n          M2T\n         </td>\n         <td>\n          Not assigned\n         </td>\n         <td>\n         </td>\n        </tr>\n        <tr>\n         <td>\n          M3T\n         </td>\n         <td>\n          Not assigned\n         </td>\n         <td>\n         </td>\n        </tr>\n        <tr>\n         <td>\n          M4T\n         </td>\n         <td>\n          Central Toronto\n         </td>\n         <td>\n          Moore Park / Summerhill East\n         </td>\n        </tr>\n        <tr>\n         <td>\n          M5T\n         </td>\n         <td>\n          Downtown Toronto\n         </td>\n         <td>\n          Kensington Market / Chinatown / Grange Park\n         </td>\n        </tr>\n        <tr>\n         <td>\n          M6T\n         </td>\n         <td>\n          Not assigned\n         </td>\n         <td>\n         </td>\n        </tr>\n        <tr>\n         <td>\n          M7T\n         </td>\n         <td>\n          Not assigned\n         </td>\n         <td>\n         </td>\n        </tr>\n        <tr>\n         <td>\n          M8T\n         </td>\n         <td>\n          Not assigned\n         </td>\n         <td>\n         </td>\n        </tr>\n        <tr>\n         <td>\n          M9T\n         </td>\n         <td>\n          Not assigned\n         </td>\n         <td>\n         </td>\n        </tr>\n        <tr>\n         <td>\n          M1V\n         </td>\n         <td>\n          Scarborough\n         </td>\n         <td>\n          Milliken / Agincourt North / Steeles East / L'Amoreaux East\n         </td>\n        </tr>\n        <tr>\n         <td>\n          M2V\n         </td>\n         <td>\n          Not assigned\n         </td>\n         <td>\n         </td>\n        </tr>\n        <tr>\n         <td>\n          M3V\n         </td>\n         <td>\n          Not assigned\n         </td>\n         <td>\n         </td>\n        </tr>\n        <tr>\n         <td>\n          M4V\n         </td>\n         <td>\n          Central Toronto\n         </td>\n         <td>\n          Summerhill West / Rathnelly / South Hill / Forest Hill SE / Deer Park\n         </td>\n        </tr>\n        <tr>\n         <td>\n          M5V\n         </td>\n         <td>\n          Downtown Toronto\n         </td>\n         <td>\n          CN Tower / King and Spadina / Railway Lands / Harbourfront West / Bathurst Quay / South Niagara / Island airport\n         </td>\n        </tr>\n        <tr>\n         <td>\n          M6V\n         </td>\n         <td>\n          Not assigned\n         </td>\n         <td>\n         </td>\n        </tr>\n        <tr>\n         <td>\n          M7V\n         </td>\n         <td>\n          Not assigned\n         </td>\n         <td>\n         </td>\n        </tr>\n        <tr>\n         <td>\n          M8V\n         </td>\n         <td>\n          Etobicoke\n         </td>\n         <td>\n          New Toronto / Mimico South / Humber Bay Shores\n         </td>\n        </tr>\n        <tr>\n         <td>\n          M9V\n         </td>\n         <td>\n          Etobicoke\n         </td>\n         <td>\n          South Steeles / Silverstone / Humbergate / Jamestown / Mount Olive / Beaumond Heights / Thistletown / Albion Gardens\n         </td>\n        </tr>\n        <tr>\n         <td>\n          M1W\n         </td>\n         <td>\n          Scarborough\n         </td>\n         <td>\n          Steeles West / L'Amoreaux West\n         </td>\n        </tr>\n        <tr>\n         <td>\n          M2W\n         </td>\n         <td>\n          Not assigned\n         </td>\n         <td>\n         </td>\n        </tr>\n        <tr>\n         <td>\n          M3W\n         </td>\n         <td>\n          Not assigned\n         </td>\n         <td>\n         </td>\n        </tr>\n        <tr>\n         <td>\n          M4W\n         </td>\n         <td>\n          Downtown Toronto\n         </td>\n         <td>\n          Rosedale\n         </td>\n        </tr>\n        <tr>\n         <td>\n          M5W\n         </td>\n         <td>\n          Downtown Toronto\n         </td>\n         <td>\n          Stn A PO Boxes\n         </td>\n        </tr>\n        <tr>\n         <td>\n          M6W\n         </td>\n         <td>\n          Not assigned\n         </td>\n         <td>\n         </td>\n        </tr>\n        <tr>\n         <td>\n          M7W\n         </td>\n         <td>\n          Not assigned\n         </td>\n         <td>\n         </td>\n        </tr>\n        <tr>\n         <td>\n          M8W\n         </td>\n         <td>\n          Etobicoke\n         </td>\n         <td>\n          Alderwood / Long Branch\n         </td>\n        </tr>\n        <tr>\n         <td>\n          M9W\n         </td>\n         <td>\n          Etobicoke\n         </td>\n         <td>\n          Northwest\n         </td>\n        </tr>\n        <tr>\n         <td>\n          M1X\n         </td>\n         <td>\n          Scarborough\n         </td>\n         <td>\n          Upper Rouge\n         </td>\n        </tr>\n        <tr>\n         <td>\n          M2X\n         </td>\n         <td>\n          Not assigned\n         </td>\n         <td>\n         </td>\n        </tr>\n        <tr>\n         <td>\n          M3X\n         </td>\n         <td>\n          Not assigned\n         </td>\n         <td>\n         </td>\n        </tr>\n        <tr>\n         <td>\n          M4X\n         </td>\n         <td>\n          Downtown Toronto\n         </td>\n         <td>\n          St. James Town / Cabbagetown\n         </td>\n        </tr>\n        <tr>\n         <td>\n          M5X\n         </td>\n         <td>\n          Downtown Toronto\n         </td>\n         <td>\n          First Canadian Place / Underground city\n         </td>\n        </tr>\n        <tr>\n         <td>\n          M6X\n         </td>\n         <td>\n          Not assigned\n         </td>\n         <td>\n         </td>\n        </tr>\n        <tr>\n         <td>\n          M7X\n         </td>\n         <td>\n          Not assigned\n         </td>\n         <td>\n         </td>\n        </tr>\n        <tr>\n         <td>\n          M8X\n         </td>\n         <td>\n          Etobicoke\n         </td>\n         <td>\n          The Kingsway / Montgomery Road  / Old Mill North\n         </td>\n        </tr>\n        <tr>\n         <td>\n          M9X\n         </td>\n         <td>\n          Not assigned\n         </td>\n         <td>\n         </td>\n        </tr>\n        <tr>\n         <td>\n          M1Y\n         </td>\n         <td>\n          Not assigned\n         </td>\n         <td>\n         </td>\n        </tr>\n        <tr>\n         <td>\n          M2Y\n         </td>\n         <td>\n          Not assigned\n         </td>\n         <td>\n         </td>\n        </tr>\n        <tr>\n         <td>\n          M3Y\n         </td>\n         <td>\n          Not assigned\n         </td>\n         <td>\n         </td>\n        </tr>\n        <tr>\n         <td>\n          M4Y\n         </td>\n         <td>\n          Downtown Toronto\n         </td>\n         <td>\n          Church and Wellesley\n         </td>\n        </tr>\n        <tr>\n         <td>\n          M5Y\n         </td>\n         <td>\n          Not assigned\n         </td>\n         <td>\n         </td>\n        </tr>\n        <tr>\n         <td>\n          M6Y\n         </td>\n         <td>\n          Not assigned\n         </td>\n         <td>\n         </td>\n        </tr>\n        <tr>\n         <td>\n          M7Y\n         </td>\n         <td>\n          East Toronto\n         </td>\n         <td>\n          Business reply mail Processing CentrE\n         </td>\n        </tr>\n        <tr>\n         <td>\n          M8Y\n         </td>\n         <td>\n          Etobicoke\n         </td>\n         <td>\n          Old Mill South / King's Mill Park / Sunnylea / Humber Bay / Mimico NE / The Queensway East / Royal York South East / Kingsway Park South East\n         </td>\n        </tr>\n        <tr>\n         <td>\n          M9Y\n         </td>\n         <td>\n          Not assigned\n         </td>\n         <td>\n         </td>\n        </tr>\n        <tr>\n         <td>\n          M1Z\n         </td>\n         <td>\n          Not assigned\n         </td>\n         <td>\n         </td>\n        </tr>\n        <tr>\n         <td>\n          M2Z\n         </td>\n         <td>\n          Not assigned\n         </td>\n         <td>\n         </td>\n        </tr>\n        <tr>\n         <td>\n          M3Z\n         </td>\n         <td>\n          Not assigned\n         </td>\n         <td>\n         </td>\n        </tr>\n        <tr>\n         <td>\n          M4Z\n         </td>\n         <td>\n          Not assigned\n         </td>\n         <td>\n         </td>\n        </tr>\n        <tr>\n         <td>\n          M5Z\n         </td>\n         <td>\n          Not assigned\n         </td>\n         <td>\n         </td>\n        </tr>\n        <tr>\n         <td>\n          M6Z\n         </td>\n         <td>\n          Not assigned\n         </td>\n         <td>\n         </td>\n        </tr>\n        <tr>\n         <td>\n          M7Z\n         </td>\n         <td>\n          Not assigned\n         </td>\n         <td>\n         </td>\n        </tr>\n        <tr>\n         <td>\n          M8Z\n         </td>\n         <td>\n          Etobicoke\n         </td>\n         <td>\n          Mimico NW / The Queensway West / South of Bloor / Kingsway Park South West / Royal York South West\n         </td>\n        </tr>\n        <tr>\n         <td>\n          M9Z\n         </td>\n         <td>\n          Not assigned\n         </td>\n         <td>\n         </td>\n        </tr>\n       </tbody>\n      </table>\n      <h2>\n       <span id=\"Most_populated_FSAs.5B3.5D\">\n       </span>\n       <span class=\"mw-headline\" id=\"Most_populated_FSAs[3]\">\n        Most populated FSAs\n        <sup class=\"reference\" id=\"cite_ref-statcan_3-0\">\n         <a href=\"#cite_note-statcan-3\">\n          [3]\n         </a>\n        </sup>\n       </span>\n       <span class=\"mw-editsection\">\n        <span class=\"mw-editsection-bracket\">\n         [\n        </span>\n        <a href=\"/w/index.php?title=List_of_postal_codes_of_Canada:_M&amp;action=edit&amp;section=2\" title=\"Edit section: Most populated FSAs[3]\">\n         edit\n        </a>\n        <span class=\"mw-editsection-bracket\">\n         ]\n        </span>\n       </span>\n      </h2>\n      <ol>\n       <li>\n        M1B, 65,129http://www.rfc-editor.org/info/rfc7617\n       </li>\n       <li>\n        M2N, 60,124http://www.rfc-editor.org/info/rfc7617\n       </li>\n       <li>\n        M1V, 55,250http://www.rfc-editor.org/info/rfc7617\n       </li>\n       <li>\n        M9V, 55,159http://www.rfc-editor.org/info/rfc7617\n       </li>\n       <li>\n        M2J, 54,391http://www.rfc-editor.org/info/rfc7617\n       </li>\n      </ol>\n      <h2>\n       <span id=\"Least_populated_FSAs.5B3.5D\">\n       </span>\n       <span class=\"mw-headline\" id=\"Least_populated_FSAs[3]\">\n        Least populated FSAs\n        <sup class=\"reference\" id=\"cite_ref-statcan_3-1\">\n         <a href=\"#cite_note-statcan-3\">\n          [3]\n         </a>\n        </sup>\n       </span>\n       <span class=\"mw-editsection\">\n        <span class=\"mw-editsection-bracket\">\n         [\n        </span>\n        <a href=\"/w/index.php?title=List_of_postal_codes_of_Canada:_M&amp;action=edit&amp;section=3\" title=\"Edit section: Least populated FSAs[3]\">\n         edit\n        </a>\n        <span class=\"mw-editsection-bracket\">\n         ]\n        </span>\n       </span>\n      </h2>\n      <ol>\n       <li>\n        M5K, 5\n       </li>\n       <li>\n        M5L, 5\n       </li>\n       <li>\n        M5W, 5\n       </li>\n       <li>\n        M5X, 5\n       </li>\n       <li>\n        M7A, 5\n       </li>\n      </ol>\n      <h2>\n       <span class=\"mw-headline\" id=\"References\">\n        References\n       </span>\n       <span class=\"mw-editsection\">\n        <span class=\"mw-editsection-bracket\">\n         [\n        </span>\n        <a href=\"/w/index.php?title=List_of_postal_codes_of_Canada:_M&amp;action=edit&amp;section=4\" title=\"Edit section: References\">\n         edit\n        </a>\n        <span class=\"mw-editsection-bracket\">\n         ]\n        </span>\n       </span>\n      </h2>\n      <div class=\"mw-references-wrap\">\n       <ol class=\"references\">\n        <li id=\"cite_note-1\">\n         <span class=\"mw-cite-backlink\">\n          <b>\n           <a href=\"#cite_ref-1\">\n            ^\n           </a>\n          </b>\n         </span>\n         <span class=\"reference-text\">\n          <cite class=\"citation web\" id=\"CITEREFCanada_Post\">\n           Canada Post.\n           <a class=\"external text\" href=\"https://www.canadapost.ca/cpotools/apps/fpc/personal/findByCity?execution=e2s1\" rel=\"nofollow\">\n            \"Canada Post - Find a Postal Code\"\n           </a>\n           <span class=\"reference-accessdate\">\n            . Retrieved\n            <span class=\"nowrap\">\n             9 November\n            </span>\n            2008\n           </span>\n           .\n          </cite>\n          <span class=\"Z3988\" title=\"ctx_ver=Z39.88-2004&amp;rft_val_fmt=info%3Aofi%2Ffmt%3Akev%3Amtx%3Abook&amp;rft.genre=unknown&amp;rft.btitle=Canada+Post+-+Find+a+Postal+Code&amp;rft.au=Canada+Post&amp;rft_id=https%3A%2F%2Fwww.canadapost.ca%2Fcpotools%2Fapps%2Ffpc%2Fpersonal%2FfindByCity%3Fexecution%3De2s1&amp;rfr_id=info%3Asid%2Fen.wikipedia.org%3AList+of+postal+codes+of+Canada%3A+M\">\n          </span>\n          <style data-mw-deduplicate=\"TemplateStyles:r951705291\">\n           .mw-parser-output cite.citation{font-style:inherit}.mw-parser-output .citation q{quotes:\"\\\"\"\"\\\"\"\"'\"\"'\"}.mw-parser-output .id-lock-free a,.mw-parser-output .citation .cs1-lock-free a{background-image:url(\"//upload.wikimedia.org/wikipedia/commons/thumb/6/65/Lock-green.svg/9px-Lock-green.svg.png\");background-image:linear-gradient(transparent,transparent),url(\"//upload.wikimedia.org/wikipedia/commons/6/65/Lock-green.svg\");background-repeat:no-repeat;background-size:9px;background-position:right .1em center}.mw-parser-output .id-lock-limited a,.mw-parser-output .id-lock-registration a,.mw-parser-output .citation .cs1-lock-limited a,.mw-parser-output .citation .cs1-lock-registration a{background-image:url(\"//upload.wikimedia.org/wikipedia/commons/thumb/d/d6/Lock-gray-alt-2.svg/9px-Lock-gray-alt-2.svg.png\");background-image:linear-gradient(transparent,transparent),url(\"//upload.wikimedia.org/wikipedia/commons/d/d6/Lock-gray-alt-2.svg\");background-repeat:no-repeat;background-size:9px;background-position:right .1em center}.mw-parser-output .id-lock-subscription a,.mw-parser-output .citation .cs1-lock-subscription a{background-image:url(\"//upload.wikimedia.org/wikipedia/commons/thumb/a/aa/Lock-red-alt-2.svg/9px-Lock-red-alt-2.svg.png\");background-image:linear-gradient(transparent,transparent),url(\"//upload.wikimedia.org/wikipedia/commons/a/aa/Lock-red-alt-2.svg\");background-repeat:no-repeat;background-size:9px;background-position:right .1em center}.mw-parser-output .cs1-subscription,.mw-parser-output .cs1-registration{color:#555}.mw-parser-output .cs1-subscription span,.mw-parser-output .cs1-registration span{border-bottom:1px dotted;cursor:help}.mw-parser-output .cs1-ws-icon a{background-image:url(\"//upload.wikimedia.org/wikipedia/commons/thumb/4/4c/Wikisource-logo.svg/12px-Wikisource-logo.svg.png\");background-image:linear-gradient(transparent,transparent),url(\"//upload.wikimedia.org/wikipedia/commons/4/4c/Wikisource-logo.svg\");background-repeat:no-repeat;background-size:12px;background-position:right .1em center}.mw-parser-output code.cs1-code{color:inherit;background:inherit;border:inherit;padding:inherit}.mw-parser-output .cs1-hidden-error{display:none;font-size:100%}.mw-parser-output .cs1-visible-error{font-size:100%}.mw-parser-output .cs1-maint{display:none;color:#33aa33;margin-left:0.3em}.mw-parser-output .cs1-subscription,.mw-parser-output .cs1-registration,.mw-parser-output .cs1-format{font-size:95%}.mw-parser-output .cs1-kern-left,.mw-parser-output .cs1-kern-wl-left{padding-left:0.2em}.mw-parser-output .cs1-kern-right,.mw-parser-output .cs1-kern-wl-right{padding-right:0.2em}.mw-parser-output .citation .mw-selflink{font-weight:inherit}\n          </style>\n         </span>\n        </li>\n        <li id=\"cite_note-2\">\n         <span class=\"mw-cite-backlink\">\n          <b>\n           <a href=\"#cite_ref-2\">\n            ^\n           </a>\n          </b>\n         </span>\n         <span class=\"reference-text\">\n          <cite class=\"citation web\">\n           <a class=\"external text\" href=\"https://web.archive.org/web/20110519093024/http://www.canadapost.ca/cpo/mc/personal/tools/mobileapp/default.jsf\" rel=\"nofollow\">\n            \"Mobile Apps\"\n           </a>\n           . Canada Post. Archived from\n           <a class=\"external text\" href=\"http://www.canadapost.ca/cpo/mc/personal/tools/mobileapp/default.jsf\" rel=\"nofollow\">\n            the original\n           </a>\n           on 2011-05-19.\n          </cite>\n          <span class=\"Z3988\" title=\"ctx_ver=Z39.88-2004&amp;rft_val_fmt=info%3Aofi%2Ffmt%3Akev%3Amtx%3Abook&amp;rft.genre=unknown&amp;rft.btitle=Mobile+Apps&amp;rft.pub=Canada+Post&amp;rft_id=http%3A%2F%2Fwww.canadapost.ca%2Fcpo%2Fmc%2Fpersonal%2Ftools%2Fmobileapp%2Fdefault.jsf&amp;rfr_id=info%3Asid%2Fen.wikipedia.org%3AList+of+postal+codes+of+Canada%3A+M\">\n          </span>\n          <link href=\"mw-data:TemplateStyles:r951705291\" rel=\"mw-deduplicated-inline-style\"/>\n         </span>\n        </li>\n        <li id=\"cite_note-statcan-3\">\n         <span class=\"mw-cite-backlink\">\n          ^\n          <a href=\"#cite_ref-statcan_3-0\">\n           <sup>\n            <i>\n             <b>\n              a\n             </b>\n            </i>\n           </sup>\n          </a>\n          <a href=\"#cite_ref-statcan_3-1\">\n           <sup>\n            <i>\n             <b>\n              b\n             </b>\n            </i>\n           </sup>\n          </a>\n         </span>\n         <span class=\"reference-text\">\n          <cite class=\"citation web\">\n           <a class=\"external text\" href=\"http://www12.statcan.ca/english/census06/data/popdwell/Table.cfm?T=1201&amp;SR=1&amp;S=0&amp;O=A&amp;RPP=9999&amp;PR=0&amp;CMA=0\" rel=\"nofollow\">\n            \"2006 Census of Population\"\n           </a>\n           . 15 October 2008.\n          </cite>\n          <span class=\"Z3988\" title=\"ctx_ver=Z39.88-2004&amp;rft_val_fmt=info%3Aofi%2Ffmt%3Akev%3Amtx%3Abook&amp;rft.genre=unknown&amp;rft.btitle=2006+Census+of+Population&amp;rft.date=2008-10-15&amp;rft_id=http%3A%2F%2Fwww12.statcan.ca%2Fenglish%2Fcensus06%2Fdata%2Fpopdwell%2FTable.cfm%3FT%3D1201%26SR%3D1%26S%3D0%26O%3DA%26RPP%3D9999%26PR%3D0%26CMA%3D0&amp;rfr_id=info%3Asid%2Fen.wikipedia.org%3AList+of+postal+codes+of+Canada%3A+M\">\n          </span>\n          <link href=\"mw-data:TemplateStyles:r951705291\" rel=\"mw-deduplicated-inline-style\"/>\n         </span>\n        </li>\n       </ol>\n      </div>\n      <table class=\"navbox\">\n       <tbody>\n        <tr>\n         <td style=\"width:36px; text-align:center\">\n          <a class=\"image\" href=\"/wiki/File:Flag_of_Canada.svg\" title=\"Flag of Canada\">\n           <img alt=\"Flag of Canada\" data-file-height=\"600\" data-file-width=\"1200\" decoding=\"async\" height=\"18\" src=\"//upload.wikimedia.org/wikipedia/en/thumb/c/cf/Flag_of_Canada.svg/36px-Flag_of_Canada.svg.png\" srcset=\"//upload.wikimedia.org/wikipedia/en/thumb/c/cf/Flag_of_Canada.svg/54px-Flag_of_Canada.svg.png 1.5x, //upload.wikimedia.org/wikipedia/en/thumb/c/cf/Flag_of_Canada.svg/72px-Flag_of_Canada.svg.png 2x\" width=\"36\"/>\n          </a>\n         </td>\n         <th class=\"navbox-title\" style=\"font-size:110%\">\n          <a href=\"/wiki/Postal_codes_in_Canada\" title=\"Postal codes in Canada\">\n           Canadian postal codes\n          </a>\n         </th>\n         <td style=\"width:36px; text-align:center\">\n          <a class=\"image\" href=\"/wiki/File:Canadian_postal_district_map_(without_legends).svg\">\n           <img alt=\"Canadian postal district map (without legends).svg\" data-file-height=\"846\" data-file-width=\"1000\" decoding=\"async\" height=\"18\" src=\"//upload.wikimedia.org/wikipedia/commons/thumb/e/eb/Canadian_postal_district_map_%28without_legends%29.svg/21px-Canadian_postal_district_map_%28without_legends%29.svg.png\" srcset=\"//upload.wikimedia.org/wikipedia/commons/thumb/e/eb/Canadian_postal_district_map_%28without_legends%29.svg/32px-Canadian_postal_district_map_%28without_legends%29.svg.png 1.5x, //upload.wikimedia.org/wikipedia/commons/thumb/e/eb/Canadian_postal_district_map_%28without_legends%29.svg/43px-Canadian_postal_district_map_%28without_legends%29.svg.png 2x\" width=\"21\"/>\n          </a>\n         </td>\n        </tr>\n        <tr>\n         <td colspan=\"3\" style=\"text-align:center; font-size: 100%;\">\n          <table cellspacing=\"0\" style=\"background-color: #F8F8F8;\" width=\"100%\">\n           <tbody>\n            <tr>\n             <td style=\"text-align:center; border:1px solid #aaa;\">\n              <a href=\"/wiki/Newfoundland_and_Labrador\" title=\"Newfoundland and Labrador\">\n               NL\n              </a>\n             </td>\n             <td style=\"text-align:center; border:1px solid #aaa;\">\n              <a href=\"/wiki/Nova_Scotia\" title=\"Nova Scotia\">\n               NS\n              </a>\n             </td>\n             <td style=\"text-align:center; border:1px solid #aaa;\">\n              <a href=\"/wiki/Prince_Edward_Island\" title=\"Prince Edward Island\">\n               PE\n              </a>\n             </td>\n             <td style=\"text-align:center; border:1px solid #aaa;\">\n              <a href=\"/wiki/New_Brunswick\" title=\"New Brunswick\">\n               NB\n              </a>\n             </td>\n             <td colspan=\"3\" style=\"text-align:center; border:1px solid #aaa;\">\n              <a href=\"/wiki/Quebec\" title=\"Quebec\">\n               QC\n              </a>\n             </td>\n             <td colspan=\"5\" style=\"text-align:center; border:1px solid #aaa;\">\n              <a href=\"/wiki/Ontario\" title=\"Ontario\">\n               ON\n              </a>\n             </td>\n             <td style=\"text-align:center; border:1px solid #aaa;\">\n              <a href=\"/wiki/Manitoba\" title=\"Manitoba\">\n               MB\n              </a>\n             </td>\n             <td style=\"text-align:center; border:1px solid #aaa;\">\n              <a href=\"/wiki/Saskatchewan\" title=\"Saskatchewan\">\n               SK\n              </a>\n             </td>\n             <td style=\"text-align:center; border:1px solid #aaa;\">\n              <a href=\"/wiki/Alberta\" title=\"Alberta\">\n               AB\n              </a>\n             </td>\n             <td style=\"text-align:center; border:1px solid #aaa;\">\n              <a href=\"/wiki/British_Columbia\" title=\"British Columbia\">\n               BC\n              </a>\n             </td>\n             <td style=\"text-align:center; border:1px solid #aaa;\">\n              <a href=\"/wiki/Nunavut\" title=\"Nunavut\">\n               NU\n              </a>\n              /\n              <a href=\"/wiki/Northwest_Territories\" title=\"Northwest Territories\">\n               NT\n              </a>\n             </td>\n             <td style=\"text-align:center; border:1px solid #aaa;\">\n              <a href=\"/wiki/Yukon\" title=\"Yukon\">\n               YT\n              </a>\n             </td>\n            </tr>\n            <tr>\n             <td align=\"center\" style=\"border: 1px solid #FF0000; background-color: #FFE0E0; font-size: 135%;\" width=\"5%\">\n              <a href=\"/wiki/List_of_postal_codes_of_Canada:_A\" title=\"List of postal codes of Canada: A\">\n               A\n              </a>\n             </td>\n             <td align=\"center\" style=\"border: 1px solid #FF4000; background-color: #FFE8E0; font-size: 135%;\" width=\"5%\">\n              <a href=\"/wiki/List_of_postal_codes_of_Canada:_B\" title=\"List of postal codes of Canada: B\">\n               B\n              </a>\n             </td>\n             <td align=\"center\" style=\"border: 1px solid #FF8000; background-color: #FFF0E0; font-size: 135%;\" width=\"5%\">\n              <a href=\"/wiki/List_of_postal_codes_of_Canada:_C\" title=\"List of postal codes of Canada: C\">\n               C\n              </a>\n             </td>\n             <td align=\"center\" style=\"border: 1px solid #FFC000; background-color: #FFF8E0; font-size: 135%;\" width=\"5%\">\n              <a href=\"/wiki/List_of_postal_codes_of_Canada:_E\" title=\"List of postal codes of Canada: E\">\n               E\n              </a>\n             </td>\n             <td align=\"center\" style=\"border: 1px solid #FFFF00; background-color: #FFFFE0; font-size: 135%;\" width=\"5%\">\n              <a href=\"/wiki/List_of_postal_codes_of_Canada:_G\" title=\"List of postal codes of Canada: G\">\n               G\n              </a>\n             </td>\n             <td align=\"center\" style=\"border: 1px solid #C0FF00; background-color: #F8FFE0; font-size: 135%;\" width=\"5%\">\n              <a href=\"/wiki/List_of_postal_codes_of_Canada:_H\" title=\"List of postal codes of Canada: H\">\n               H\n              </a>\n             </td>\n             <td align=\"center\" style=\"border: 1px solid #80FF00; background-color: #F0FFE0; font-size: 135%;\" width=\"5%\">\n              <a href=\"/wiki/List_of_postal_codes_of_Canada:_J\" title=\"List of postal codes of Canada: J\">\n               J\n              </a>\n             </td>\n             <td align=\"center\" style=\"border: 1px solid #00FF00; background-color: #E0FFE0; font-size: 135%;\" width=\"5%\">\n              <a href=\"/wiki/List_of_postal_codes_of_Canada:_K\" title=\"List of postal codes of Canada: K\">\n               K\n              </a>\n             </td>\n             <td align=\"center\" style=\"border: 1px solid #00FF80; background-color: #E0FFF0; font-size: 135%;\" width=\"5%\">\n              <a href=\"/wiki/List_of_postal_codes_of_Canada:_L\" title=\"List of postal codes of Canada: L\">\n               L\n              </a>\n             </td>\n             <td align=\"center\" style=\"border: 1px solid #E0FFF8; background-color: #00FFC0; font-size: 135%; color: black;\" width=\"5%\">\n              <a class=\"mw-selflink selflink\">\n               M\n              </a>\n             </td>\n             <td align=\"center\" style=\"border: 1px solid #00FFE0; background-color: #E0FFFC; font-size: 135%;\" width=\"5%\">\n              <a href=\"/wiki/List_of_postal_codes_of_Canada:_N\" title=\"List of postal codes of Canada: N\">\n               N\n              </a>\n             </td>\n             <td align=\"center\" style=\"border: 1px solid #00FFFF; background-color: #E0FFFF; font-size: 135%;\" width=\"5%\">\n              <a href=\"/wiki/List_of_postal_codes_of_Canada:_P\" title=\"List of postal codes of Canada: P\">\n               P\n              </a>\n             </td>\n             <td align=\"center\" style=\"border: 1px solid #00C0FF; background-color: #E0F8FF; font-size: 135%;\" width=\"5%\">\n              <a href=\"/wiki/List_of_postal_codes_of_Canada:_R\" title=\"List of postal codes of Canada: R\">\n               R\n              </a>\n             </td>\n             <td align=\"center\" style=\"border: 1px solid #0080FF; background-color: #E0F0FF; font-size: 135%;\" width=\"5%\">\n              <a href=\"/wiki/List_of_postal_codes_of_Canada:_S\" title=\"List of postal codes of Canada: S\">\n               S\n              </a>\n             </td>\n             <td align=\"center\" style=\"border: 1px solid #0040FF; background-color: #E0E8FF; font-size: 135%;\" width=\"5%\">\n              <a href=\"/wiki/List_of_postal_codes_of_Canada:_T\" title=\"List of postal codes of Canada: T\">\n               T\n              </a>\n             </td>\n             <td align=\"center\" style=\"border: 1px solid #0000FF; background-color: #E0E0FF; font-size: 135%;\" width=\"5%\">\n              <a href=\"/wiki/List_of_postal_codes_of_Canada:_V\" title=\"List of postal codes of Canada: V\">\n               V\n              </a>\n             </td>\n             <td align=\"center\" style=\"border: 1px solid #A000FF; background-color: #E8E0FF; font-size: 135%;\" width=\"5%\">\n              <a href=\"/wiki/List_of_postal_codes_of_Canada:_X\" title=\"List of postal codes of Canada: X\">\n               X\n              </a>\n             </td>\n             <td align=\"center\" style=\"border: 1px solid #FF00FF; background-color: #FFE0FF; font-size: 135%;\" width=\"5%\">\n              <a href=\"/wiki/List_of_postal_codes_of_Canada:_Y\" title=\"List of postal codes of Canada: Y\">\n               Y\n              </a>\n             </td>\n            </tr>\n           </tbody>\n          </table>\n         </td>\n        </tr>\n       </tbody>\n      </table>\n      <!-- \nNewPP limit report\nParsed by mw1366\nCached time: 20200418182903\nCache expiry: 2592000\nDynamic content: false\nComplications: [vary\u2010revision\u2010sha1]\nCPU time usage: 0.176 seconds\nReal time usage: 0.246 seconds\nPreprocessor visited node count: 251/1000000\nPost\u2010expand include size: 10509/2097152 bytes\nTemplate argument size: 195/2097152 bytes\nHighest expansion depth: 8/40\nExpensive parser function count: 0/500\nUnstrip recursion depth: 1/20\nUnstrip post\u2010expand size: 11794/5000000 bytes\nNumber of Wikibase entities loaded: 0/400\nLua time usage: 0.081/10.000 seconds\nLua memory usage: 2.33 MB/50 MB\n-->\n      <!--\nTransclusion expansion time report (%,ms,calls,template)\n100.00%  187.794      1 -total\n 55.51%  104.240      3 Template:Cite_web\n 36.20%   67.973      1 Template:Short_description\n 25.59%   48.056      1 Template:Pagetype\n  3.30%    6.202      1 Template:Canadian_postal_codes\n  2.09%    3.927      1 Template:Main_other\n-->\n      <!-- Saved in parser cache with key enwiki:pcache:idhash:539066-0!canonical and timestamp 20200418182903 and revision id 951325562\n -->\n     </div>\n     <noscript>\n      <img alt=\"\" height=\"1\" src=\"//en.wikipedia.org/wiki/Special:CentralAutoLogin/start?type=1x1\" style=\"border: none; position: absolute;\" title=\"\" width=\"1\"/>\n     </noscript>\n    </div>\n    <div class=\"printfooter\">\n     Retrieved from \"\n     <a dir=\"ltr\" href=\"https://en.wikipedia.org/w/index.php?title=List_of_postal_codes_of_Canada:_M&amp;oldid=951325562\">\n      https://en.wikipedia.org/w/index.php?title=List_of_postal_codes_of_Canada:_M&amp;oldid=951325562\n     </a>\n     \"\n    </div>\n    <div class=\"catlinks\" data-mw=\"interface\" id=\"catlinks\">\n     <div class=\"mw-normal-catlinks\" id=\"mw-normal-catlinks\">\n      <a href=\"/wiki/Help:Category\" title=\"Help:Category\">\n       Categories\n      </a>\n      :\n      <ul>\n       <li>\n        <a href=\"/wiki/Category:Communications_in_Ontario\" title=\"Category:Communications in Ontario\">\n         Communications in Ontario\n        </a>\n       </li>\n       <li>\n        <a href=\"/wiki/Category:Postal_codes_in_Canada\" title=\"Category:Postal codes in Canada\">\n         Postal codes in Canada\n        </a>\n       </li>\n       <li>\n        <a href=\"/wiki/Category:Toronto\" title=\"Category:Toronto\">\n         Toronto\n        </a>\n       </li>\n       <li>\n        <a href=\"/wiki/Category:Ontario-related_lists\" title=\"Category:Ontario-related lists\">\n         Ontario-related lists\n        </a>\n       </li>\n      </ul>\n     </div>\n     <div class=\"mw-hidden-catlinks mw-hidden-cats-hidden\" id=\"mw-hidden-catlinks\">\n      Hidden categories:\n      <ul>\n       <li>\n        <a href=\"/wiki/Category:Articles_with_short_description\" title=\"Category:Articles with short description\">\n         Articles with short description\n        </a>\n       </li>\n      </ul>\n     </div>\n    </div>\n    <div class=\"visualClear\">\n    </div>\n   </div>\n  </div>\n  <div id=\"mw-data-after-content\">\n   <div class=\"read-more-container\">\n   </div>\n  </div>\n  <div id=\"mw-navigation\">\n   <h2>\n    Navigation menu\n   </h2>\n   <div id=\"mw-head\">\n    <div aria-labelledby=\"p-personal-label\" class=\"\" id=\"p-personal\" role=\"navigation\">\n     <h3 id=\"p-personal-label\">\n      Personal tools\n     </h3>\n     <ul>\n      <li id=\"pt-anonuserpage\">\n       Not logged in\n      </li>\n      <li id=\"pt-anontalk\">\n       <a accesskey=\"n\" href=\"/wiki/Special:MyTalk\" title=\"Discussion about edits from this IP address [n]\">\n        Talk\n       </a>\n      </li>\n      <li id=\"pt-anoncontribs\">\n       <a accesskey=\"y\" href=\"/wiki/Special:MyContributions\" title=\"A list of edits made from this IP address [y]\">\n        Contributions\n       </a>\n      </li>\n      <li id=\"pt-createaccount\">\n       <a href=\"/w/index.php?title=Special:CreateAccount&amp;returnto=List+of+postal+codes+of+Canada%3A+M\" title=\"You are encouraged to create an account and log in; however, it is not mandatory\">\n        Create account\n       </a>\n      </li>\n      <li id=\"pt-login\">\n       <a accesskey=\"o\" href=\"/w/index.php?title=Special:UserLogin&amp;returnto=List+of+postal+codes+of+Canada%3A+M\" title=\"You're encouraged to log in; however, it's not mandatory. [o]\">\n        Log in\n       </a>\n      </li>\n     </ul>\n    </div>\n    <div id=\"left-navigation\">\n     <div aria-labelledby=\"p-namespaces-label\" class=\"vectorTabs\" id=\"p-namespaces\" role=\"navigation\">\n      <h3 id=\"p-namespaces-label\">\n       Namespaces\n      </h3>\n      <ul>\n       <li class=\"selected\" id=\"ca-nstab-main\">\n        <a accesskey=\"c\" href=\"/wiki/List_of_postal_codes_of_Canada:_M\" title=\"View the content page [c]\">\n         Article\n        </a>\n       </li>\n       <li id=\"ca-talk\">\n        <a accesskey=\"t\" href=\"/wiki/Talk:List_of_postal_codes_of_Canada:_M\" rel=\"discussion\" title=\"Discuss improvements to the content page [t]\">\n         Talk\n        </a>\n       </li>\n      </ul>\n     </div>\n     <div aria-labelledby=\"p-variants-label\" class=\"vectorMenu emptyPortlet\" id=\"p-variants\" role=\"navigation\">\n      <input aria-labelledby=\"p-variants-label\" class=\"vectorMenuCheckbox\" type=\"checkbox\"/>\n      <h3 id=\"p-variants-label\">\n       <span>\n        Variants\n       </span>\n      </h3>\n      <ul class=\"menu\">\n      </ul>\n     </div>\n    </div>\n    <div id=\"right-navigation\">\n     <div aria-labelledby=\"p-views-label\" class=\"vectorTabs\" id=\"p-views\" role=\"navigation\">\n      <h3 id=\"p-views-label\">\n       Views\n      </h3>\n      <ul>\n       <li class=\"collapsible selected\" id=\"ca-view\">\n        <a href=\"/wiki/List_of_postal_codes_of_Canada:_M\">\n         Read\n        </a>\n       </li>\n       <li class=\"collapsible\" id=\"ca-edit\">\n        <a accesskey=\"e\" href=\"/w/index.php?title=List_of_postal_codes_of_Canada:_M&amp;action=edit\" title=\"Edit this page [e]\">\n         Edit\n        </a>\n       </li>\n       <li class=\"collapsible\" id=\"ca-history\">\n        <a accesskey=\"h\" href=\"/w/index.php?title=List_of_postal_codes_of_Canada:_M&amp;action=history\" title=\"Past revisions of this page [h]\">\n         View history\n        </a>\n       </li>\n      </ul>\n     </div>\n     <div aria-labelledby=\"p-cactions-label\" class=\"vectorMenu emptyPortlet\" id=\"p-cactions\" role=\"navigation\">\n      <input aria-labelledby=\"p-cactions-label\" class=\"vectorMenuCheckbox\" type=\"checkbox\"/>\n      <h3 id=\"p-cactions-label\">\n       <span>\n        More\n       </span>\n      </h3>\n      <ul class=\"menu\">\n      </ul>\n     </div>\n     <div id=\"p-search\" role=\"search\">\n      <h3>\n       <label for=\"searchInput\">\n        Search\n       </label>\n      </h3>\n      <form action=\"/w/index.php\" id=\"searchform\">\n       <div id=\"simpleSearch\">\n        <input accesskey=\"f\" id=\"searchInput\" name=\"search\" placeholder=\"Search Wikipedia\" title=\"Search Wikipedia [f]\" type=\"search\"/>\n        <input name=\"title\" type=\"hidden\" value=\"Special:Search\"/>\n        <input class=\"searchButton mw-fallbackSearchButton\" id=\"mw-searchButton\" name=\"fulltext\" title=\"Search Wikipedia for this text\" type=\"submit\" value=\"Search\"/>\n        <input class=\"searchButton\" id=\"searchButton\" name=\"go\" title=\"Go to a page with this exact name if it exists\" type=\"submit\" value=\"Go\"/>\n       </div>\n      </form>\n     </div>\n    </div>\n   </div>\n   <div id=\"mw-panel\">\n    <div id=\"p-logo\" role=\"banner\">\n     <a class=\"mw-wiki-logo\" href=\"/wiki/Main_Page\" title=\"Visit the main page\">\n     </a>\n    </div>\n    <div aria-labelledby=\"p-navigation-label\" class=\"portal\" id=\"p-navigation\" role=\"navigation\">\n     <h3 id=\"p-navigation-label\">\n      Navigation\n     </h3>\n     <div class=\"body\">\n      <ul>\n       <li id=\"n-mainpage-description\">\n        <a accesskey=\"z\" href=\"/wiki/Main_Page\" title=\"Visit the main page [z]\">\n         Main page\n        </a>\n       </li>\n       <li id=\"n-contents\">\n        <a href=\"/wiki/Wikipedia:Contents\" title=\"Guides to browsing Wikipedia\">\n         Contents\n        </a>\n       </li>\n       <li id=\"n-featuredcontent\">\n        <a href=\"/wiki/Wikipedia:Featured_content\" title=\"Featured content \u2013 the best of Wikipedia\">\n         Featured content\n        </a>\n       </li>\n       <li id=\"n-currentevents\">\n        <a href=\"/wiki/Portal:Current_events\" title=\"Find background information on current events\">\n         Current events\n        </a>\n       </li>\n       <li id=\"n-randompage\">\n        <a accesskey=\"x\" href=\"/wiki/Special:Random\" title=\"Load a random article [x]\">\n         Random article\n        </a>\n       </li>\n       <li id=\"n-sitesupport\">\n        <a href=\"https://donate.wikimedia.org/wiki/Special:FundraiserRedirector?utm_source=donate&amp;utm_medium=sidebar&amp;utm_campaign=C13_en.wikipedia.org&amp;uselang=en\" title=\"Support us\">\n         Donate to Wikipedia\n        </a>\n       </li>\n       <li id=\"n-shoplink\">\n        <a href=\"//shop.wikimedia.org\" title=\"Visit the Wikipedia store\">\n         Wikipedia store\n        </a>\n       </li>\n      </ul>\n     </div>\n    </div>\n    <div aria-labelledby=\"p-interaction-label\" class=\"portal\" id=\"p-interaction\" role=\"navigation\">\n     <h3 id=\"p-interaction-label\">\n      Interaction\n     </h3>\n     <div class=\"body\">\n      <ul>\n       <li id=\"n-help\">\n        <a href=\"/wiki/Help:Contents\" title=\"Guidance on how to use and edit Wikipedia\">\n         Help\n        </a>\n       </li>\n       <li id=\"n-aboutsite\">\n        <a href=\"/wiki/Wikipedia:About\" title=\"Find out about Wikipedia\">\n         About Wikipedia\n        </a>\n       </li>\n       <li id=\"n-portal\">\n        <a href=\"/wiki/Wikipedia:Community_portal\" title=\"About the project, what you can do, where to find things\">\n         Community portal\n        </a>\n       </li>\n       <li id=\"n-recentchanges\">\n        <a accesskey=\"r\" href=\"/wiki/Special:RecentChanges\" title=\"A list of recent changes in the wiki [r]\">\n         Recent changes\n        </a>\n       </li>\n       <li id=\"n-contactpage\">\n        <a href=\"//en.wikipedia.org/wiki/Wikipedia:Contact_us\" title=\"How to contact Wikipedia\">\n         Contact page\n        </a>\n       </li>\n      </ul>\n     </div>\n    </div>\n    <div aria-labelledby=\"p-tb-label\" class=\"portal\" id=\"p-tb\" role=\"navigation\">\n     <h3 id=\"p-tb-label\">\n      Tools\n     </h3>\n     <div class=\"body\">\n      <ul>\n       <li id=\"t-whatlinkshere\">\n        <a accesskey=\"j\" href=\"/wiki/Special:WhatLinksHere/List_of_postal_codes_of_Canada:_M\" title=\"List of all English Wikipedia pages containing links to this page [j]\">\n         What links here\n        </a>\n       </li>\n       <li id=\"t-recentchangeslinked\">\n        <a accesskey=\"k\" href=\"/wiki/Special:RecentChangesLinked/List_of_postal_codes_of_Canada:_M\" rel=\"nofollow\" title=\"Recent changes in pages linked from this page [k]\">\n         Related changes\n        </a>\n       </li>\n       <li id=\"t-upload\">\n        <a accesskey=\"u\" href=\"/wiki/Wikipedia:File_Upload_Wizard\" title=\"Upload files [u]\">\n         Upload file\n        </a>\n       </li>\n       <li id=\"t-specialpages\">\n        <a accesskey=\"q\" href=\"/wiki/Special:SpecialPages\" title=\"A list of all special pages [q]\">\n         Special pages\n        </a>\n       </li>\n       <li id=\"t-permalink\">\n        <a href=\"/w/index.php?title=List_of_postal_codes_of_Canada:_M&amp;oldid=951325562\" title=\"Permanent link to this revision of the page\">\n         Permanent link\n        </a>\n       </li>\n       <li id=\"t-info\">\n        <a href=\"/w/index.php?title=List_of_postal_codes_of_Canada:_M&amp;action=info\" title=\"More information about this page\">\n         Page information\n        </a>\n       </li>\n       <li id=\"t-wikibase\">\n        <a accesskey=\"g\" href=\"https://www.wikidata.org/wiki/Special:EntityPage/Q3248240\" title=\"Link to connected data repository item [g]\">\n         Wikidata item\n        </a>\n       </li>\n       <li id=\"t-cite\">\n        <a href=\"/w/index.php?title=Special:CiteThisPage&amp;page=List_of_postal_codes_of_Canada%3A_M&amp;id=951325562&amp;wpFormIdentifier=titleform\" title=\"Information on how to cite this page\">\n         Cite this page\n        </a>\n       </li>\n      </ul>\n     </div>\n    </div>\n    <div aria-labelledby=\"p-coll-print_export-label\" class=\"portal\" id=\"p-coll-print_export\" role=\"navigation\">\n     <h3 id=\"p-coll-print_export-label\">\n      Print/export\n     </h3>\n     <div class=\"body\">\n      <ul>\n       <li id=\"coll-create_a_book\">\n        <a href=\"/w/index.php?title=Special:Book&amp;bookcmd=book_creator&amp;referer=List+of+postal+codes+of+Canada%3A+M\">\n         Create a book\n        </a>\n       </li>\n       <li id=\"coll-download-as-rl\">\n        <a href=\"/w/index.php?title=Special:ElectronPdf&amp;page=List+of+postal+codes+of+Canada%3A+M&amp;action=show-download-screen\">\n         Download as PDF\n        </a>\n       </li>\n       <li id=\"t-print\">\n        <a accesskey=\"p\" href=\"/w/index.php?title=List_of_postal_codes_of_Canada:_M&amp;printable=yes\" title=\"Printable version of this page [p]\">\n         Printable version\n        </a>\n       </li>\n      </ul>\n     </div>\n    </div>\n    <div aria-labelledby=\"p-lang-label\" class=\"portal\" id=\"p-lang\" role=\"navigation\">\n     <h3 id=\"p-lang-label\">\n      Languages\n     </h3>\n     <div class=\"body\">\n      <ul>\n       <li class=\"interlanguage-link interwiki-fr\">\n        <a class=\"interlanguage-link-target\" href=\"https://fr.wikipedia.org/wiki/Liste_des_codes_postaux_canadiens_d%C3%A9butant_par_M\" hreflang=\"fr\" lang=\"fr\" title=\"Liste des codes postaux canadiens d\u00e9butant par M \u2013 French\">\n         Fran\u00e7ais\n        </a>\n       </li>\n      </ul>\n      <div class=\"after-portlet after-portlet-lang\">\n       <span class=\"wb-langlinks-edit wb-langlinks-link\">\n        <a class=\"wbc-editpage\" href=\"https://www.wikidata.org/wiki/Special:EntityPage/Q3248240#sitelinks-wikipedia\" title=\"Edit interlanguage links\">\n         Edit links\n        </a>\n       </span>\n      </div>\n     </div>\n    </div>\n   </div>\n  </div>\n  <div id=\"footer\" role=\"contentinfo\">\n   <ul class=\"\" id=\"footer-info\">\n    <li id=\"footer-info-lastmod\">\n     This page was last edited on 16 April 2020, at 16:37\n     <span class=\"anonymous-show\">\n      (UTC)\n     </span>\n     .\n    </li>\n    <li id=\"footer-info-copyright\">\n     Text is available under the\n     <a href=\"//en.wikipedia.org/wiki/Wikipedia:Text_of_Creative_Commons_Attribution-ShareAlike_3.0_Unported_License\" rel=\"license\">\n      Creative Commons Attribution-ShareAlike License\n     </a>\n     <a href=\"//creativecommons.org/licenses/by-sa/3.0/\" rel=\"license\" style=\"display:none;\">\n     </a>\n     ;\nadditional terms may apply.  By using this site, you agree to the\n     <a href=\"//foundation.wikimedia.org/wiki/Terms_of_Use\">\n      Terms of Use\n     </a>\n     and\n     <a href=\"//foundation.wikimedia.org/wiki/Privacy_policy\">\n      Privacy Policy\n     </a>\n     . Wikipedia\u00ae is a registered trademark of the\n     <a href=\"//www.wikimediafoundation.org/\">\n      Wikimedia Foundation, Inc.\n     </a>\n     , a non-profit organization.\n    </li>\n   </ul>\n   <ul class=\"\" id=\"footer-places\">\n    <li id=\"footer-places-privacy\">\n     <a class=\"extiw\" href=\"https://foundation.wikimedia.org/wiki/Privacy_policy\" title=\"wmf:Privacy policy\">\n      Privacy policy\n     </a>\n    </li>\n    <li id=\"footer-places-about\">\n     <a href=\"/wiki/Wikipedia:About\" title=\"Wikipedia:About\">\n      About Wikipedia\n     </a>\n    </li>\n    <li id=\"footer-places-disclaimer\">\n     <a href=\"/wiki/Wikipedia:General_disclaimer\" title=\"Wikipedia:General disclaimer\">\n      Disclaimers\n     </a>\n    </li>\n    <li id=\"footer-places-contact\">\n     <a href=\"//en.wikipedia.org/wiki/Wikipedia:Contact_us\">\n      Contact Wikipedia\n     </a>\n    </li>\n    <li id=\"footer-places-developers\">\n     <a href=\"https://www.mediawiki.org/wiki/Special:MyLanguage/How_to_contribute\">\n      Developers\n     </a>\n    </li>\n    <li id=\"footer-places-statslink\">\n     <a href=\"https://stats.wikimedia.org/#/en.wikipedia.org\">\n      Statistics\n     </a>\n    </li>\n    <li id=\"footer-places-cookiestatement\">\n     <a href=\"https://foundation.wikimedia.org/wiki/Cookie_statement\">\n      Cookie statement\n     </a>\n    </li>\n    <li id=\"footer-places-mobileview\">\n     <a class=\"noprint stopMobileRedirectToggle\" href=\"//en.m.wikipedia.org/w/index.php?title=List_of_postal_codes_of_Canada:_M&amp;mobileaction=toggle_view_mobile\">\n      Mobile view\n     </a>\n    </li>\n   </ul>\n   <ul class=\"noprint\" id=\"footer-icons\">\n    <li id=\"footer-copyrightico\">\n     <a href=\"https://wikimediafoundation.org/\">\n      <img alt=\"Wikimedia Foundation\" height=\"31\" src=\"/static/images/wikimedia-button.png\" srcset=\"/static/images/wikimedia-button-1.5x.png 1.5x, /static/images/wikimedia-button-2x.png 2x\" width=\"88\"/>\n     </a>\n    </li>\n    <li id=\"footer-poweredbyico\">\n     <a href=\"https://www.mediawiki.org/\">\n      <img alt=\"Powered by MediaWiki\" height=\"31\" src=\"/static/images/poweredby_mediawiki_88x31.png\" srcset=\"/static/images/poweredby_mediawiki_132x47.png 1.5x, /static/images/poweredby_mediawiki_176x62.png 2x\" width=\"88\"/>\n     </a>\n    </li>\n   </ul>\n   <div style=\"clear: both;\">\n   </div>\n  </div>\n  <script>\n   (RLQ=window.RLQ||[]).push(function(){mw.config.set({\"wgPageParseReport\":{\"limitreport\":{\"cputime\":\"0.176\",\"walltime\":\"0.246\",\"ppvisitednodes\":{\"value\":251,\"limit\":1000000},\"postexpandincludesize\":{\"value\":10509,\"limit\":2097152},\"templateargumentsize\":{\"value\":195,\"limit\":2097152},\"expansiondepth\":{\"value\":8,\"limit\":40},\"expensivefunctioncount\":{\"value\":0,\"limit\":500},\"unstrip-depth\":{\"value\":1,\"limit\":20},\"unstrip-size\":{\"value\":11794,\"limit\":5000000},\"entityaccesscount\":{\"value\":0,\"limit\":400},\"timingprofile\":[\"100.00%  187.794      1 -total\",\" 55.51%  104.240      3 Template:Cite_web\",\" 36.20%   67.973      1 Template:Short_description\",\" 25.59%   48.056      1 Template:Pagetype\",\"  3.30%    6.202      1 Template:Canadian_postal_codes\",\"  2.09%    3.927      1 Template:Main_other\"]},\"scribunto\":{\"limitreport-timeusage\":{\"value\":\"0.081\",\"limit\":\"10.000\"},\"limitreport-memusage\":{\"value\":2441747,\"limit\":52428800}},\"cachereport\":{\"origin\":\"mw1366\",\"timestamp\":\"20200418182903\",\"ttl\":2592000,\"transientcontent\":false}}});});\n  </script>\n  <script type=\"application/ld+json\">\n   {\"@context\":\"https:\\/\\/schema.org\",\"@type\":\"Article\",\"name\":\"List of postal codes of Canada: M\",\"url\":\"https:\\/\\/en.wikipedia.org\\/wiki\\/List_of_postal_codes_of_Canada:_M\",\"sameAs\":\"http:\\/\\/www.wikidata.org\\/entity\\/Q3248240\",\"mainEntity\":\"http:\\/\\/www.wikidata.org\\/entity\\/Q3248240\",\"author\":{\"@type\":\"Organization\",\"name\":\"Contributors to Wikimedia projects\"},\"publisher\":{\"@type\":\"Organization\",\"name\":\"Wikimedia Foundation, Inc.\",\"logo\":{\"@type\":\"ImageObject\",\"url\":\"https:\\/\\/www.wikimedia.org\\/static\\/images\\/wmf-hor-googpub.png\"}},\"datePublished\":\"2004-03-20T10:02:13Z\",\"dateModified\":\"2020-04-16T16:37:27Z\",\"headline\":\"Wikimedia list article\"}\n  </script>\n  <script>\n   (RLQ=window.RLQ||[]).push(function(){mw.config.set({\"wgBackendResponseTime\":374,\"wgHostname\":\"mw1366\"});});\n  </script>\n </body>\n</html>\n\nsoup ready\n"
                }
            ],
            "source": "source = requests.get('https://en.wikipedia.org/wiki/List_of_postal_codes_of_Canada:_M').text\n\nsoup = BeautifulSoup(source, 'lxml')\n\nprint(soup.prettify())\nprint('soup ready')"
        },
        {
            "cell_type": "code",
            "execution_count": 12,
            "metadata": {},
            "outputs": [],
            "source": "table = soup.find('table', {'class': 'wikitable sortable'})\n"
        },
        {
            "cell_type": "code",
            "execution_count": 13,
            "metadata": {},
            "outputs": [],
            "source": "table_rows = table.find_all('tr')"
        },
        {
            "cell_type": "code",
            "execution_count": 14,
            "metadata": {},
            "outputs": [
                {
                    "name": "stdout",
                    "output_type": "stream",
                    "text": "  PostalCode           Borough                Neighborhood\n1        M1A      Not assigned                            \n2        M2A      Not assigned                            \n3        M3A        North York                   Parkwoods\n4        M4A        North York            Victoria Village\n5        M5A  Downtown Toronto  Regent Park / Harbourfront\n***\n    PostalCode       Borough  \\\n176        M5Z  Not assigned   \n177        M6Z  Not assigned   \n178        M7Z  Not assigned   \n179        M8Z     Etobicoke   \n180        M9Z  Not assigned   \n\n                                          Neighborhood  \n176                                                     \n177                                                     \n178                                                     \n179  Mimico NW / The Queensway West / South of Bloo...  \n180                                                     \n"
                }
            ],
            "source": "data = []\nfor row in table_rows:\n    data.append([t.text.strip() for t in row.find_all('td')])\n\ndf = pd.DataFrame(data, columns=['PostalCode', 'Borough', 'Neighborhood'])\ndf = df[~df['PostalCode'].isnull()] #filters out bad rows\n    \nprint(df.head(5))\nprint('***')\nprint(df.tail(5))"
        },
        {
            "cell_type": "markdown",
            "metadata": {},
            "source": "***1.3 Data to pandas df***"
        },
        {
            "cell_type": "code",
            "execution_count": 15,
            "metadata": {},
            "outputs": [
                {
                    "name": "stdout",
                    "output_type": "stream",
                    "text": "<class 'pandas.core.frame.DataFrame'>\nInt64Index: 180 entries, 1 to 180\nData columns (total 3 columns):\nPostalCode      180 non-null object\nBorough         180 non-null object\nNeighborhood    180 non-null object\ndtypes: object(3)\nmemory usage: 5.6+ KB\n"
                }
            ],
            "source": "df.info()"
        },
        {
            "cell_type": "code",
            "execution_count": 16,
            "metadata": {},
            "outputs": [
                {
                    "data": {
                        "text/plain": "(180, 3)"
                    },
                    "execution_count": 16,
                    "metadata": {},
                    "output_type": "execute_result"
                }
            ],
            "source": "df.shape"
        },
        {
            "cell_type": "markdown",
            "metadata": {},
            "source": "***1.4 Dataframe Cleaning***"
        },
        {
            "cell_type": "code",
            "execution_count": 17,
            "metadata": {},
            "outputs": [],
            "source": "import pandas\nimport requests\nfrom bs4 import BeautifulSoup\nwebsite_text = requests.get('https://en.wikipedia.org/wiki/List_of_postal_codes_of_Canada:_M').text\nsoup = BeautifulSoup(website_text, 'lxml')\n\ntable = soup.find('table', {'class': 'wikitable sortable'})\ntable_rows = table.find_all('tr')\n\ndata = []\nfor row in table_rows:\n    data.append([t.text.strip() for t in row.find_all('td')])\n    \ndf = pandas.DataFrame(data, columns=['PostalCode', 'Borough', 'Neighborhood'])\ndf = df[~df['PostalCode'].isnull()]\n\n#df.head(15)"
        },
        {
            "cell_type": "code",
            "execution_count": 18,
            "metadata": {},
            "outputs": [],
            "source": "df.drop(df[df['Borough']==\"Not assigned\"].index,axis=0, inplace=True)\n#df.head()"
        },
        {
            "cell_type": "code",
            "execution_count": 19,
            "metadata": {},
            "outputs": [],
            "source": "df1 = df.reset_index()"
        },
        {
            "cell_type": "code",
            "execution_count": 20,
            "metadata": {},
            "outputs": [
                {
                    "name": "stdout",
                    "output_type": "stream",
                    "text": "<class 'pandas.core.frame.DataFrame'>\nRangeIndex: 103 entries, 0 to 102\nData columns (total 4 columns):\nindex           103 non-null int64\nPostalCode      103 non-null object\nBorough         103 non-null object\nNeighborhood    103 non-null object\ndtypes: int64(1), object(3)\nmemory usage: 3.3+ KB\n"
                }
            ],
            "source": "df1.info()"
        },
        {
            "cell_type": "code",
            "execution_count": 21,
            "metadata": {},
            "outputs": [
                {
                    "data": {
                        "text/plain": "(103, 4)"
                    },
                    "execution_count": 21,
                    "metadata": {},
                    "output_type": "execute_result"
                }
            ],
            "source": "df1.shape"
        },
        {
            "cell_type": "code",
            "execution_count": 22,
            "metadata": {},
            "outputs": [
                {
                    "data": {
                        "text/html": "<div>\n<style scoped>\n    .dataframe tbody tr th:only-of-type {\n        vertical-align: middle;\n    }\n\n    .dataframe tbody tr th {\n        vertical-align: top;\n    }\n\n    .dataframe thead th {\n        text-align: right;\n    }\n</style>\n<table border=\"1\" class=\"dataframe\">\n  <thead>\n    <tr style=\"text-align: right;\">\n      <th></th>\n      <th>Borough</th>\n      <th>Neighborhood</th>\n    </tr>\n    <tr>\n      <th>PostalCode</th>\n      <th></th>\n      <th></th>\n    </tr>\n  </thead>\n  <tbody>\n    <tr>\n      <th>M1B</th>\n      <td>Scarborough</td>\n      <td>Malvern / Rouge</td>\n    </tr>\n    <tr>\n      <th>M1C</th>\n      <td>Scarborough</td>\n      <td>Rouge Hill / Port Union / Highland Creek</td>\n    </tr>\n    <tr>\n      <th>M1E</th>\n      <td>Scarborough</td>\n      <td>Guildwood / Morningside / West Hill</td>\n    </tr>\n    <tr>\n      <th>M1G</th>\n      <td>Scarborough</td>\n      <td>Woburn</td>\n    </tr>\n    <tr>\n      <th>M1H</th>\n      <td>Scarborough</td>\n      <td>Cedarbrae</td>\n    </tr>\n  </tbody>\n</table>\n</div>",
                        "text/plain": "                Borough                              Neighborhood\nPostalCode                                                       \nM1B         Scarborough                           Malvern / Rouge\nM1C         Scarborough  Rouge Hill / Port Union / Highland Creek\nM1E         Scarborough       Guildwood / Morningside / West Hill\nM1G         Scarborough                                    Woburn\nM1H         Scarborough                                 Cedarbrae"
                    },
                    "execution_count": 22,
                    "metadata": {},
                    "output_type": "execute_result"
                }
            ],
            "source": "df2= df1.groupby('PostalCode').agg(lambda x: ','.join(x))\n\ndf2.head()"
        },
        {
            "cell_type": "code",
            "execution_count": 23,
            "metadata": {},
            "outputs": [
                {
                    "name": "stdout",
                    "output_type": "stream",
                    "text": "<class 'pandas.core.frame.DataFrame'>\nIndex: 103 entries, M1B to M9W\nData columns (total 2 columns):\nBorough         103 non-null object\nNeighborhood    103 non-null object\ndtypes: object(2)\nmemory usage: 2.4+ KB\n"
                }
            ],
            "source": "df2.info()"
        },
        {
            "cell_type": "code",
            "execution_count": 24,
            "metadata": {},
            "outputs": [
                {
                    "data": {
                        "text/plain": "(103, 2)"
                    },
                    "execution_count": 24,
                    "metadata": {},
                    "output_type": "execute_result"
                }
            ],
            "source": "df2.shape"
        },
        {
            "cell_type": "code",
            "execution_count": 25,
            "metadata": {},
            "outputs": [
                {
                    "data": {
                        "text/html": "<div>\n<style scoped>\n    .dataframe tbody tr th:only-of-type {\n        vertical-align: middle;\n    }\n\n    .dataframe tbody tr th {\n        vertical-align: top;\n    }\n\n    .dataframe thead th {\n        text-align: right;\n    }\n</style>\n<table border=\"1\" class=\"dataframe\">\n  <thead>\n    <tr style=\"text-align: right;\">\n      <th></th>\n      <th>Borough</th>\n      <th>Neighborhood</th>\n    </tr>\n    <tr>\n      <th>PostalCode</th>\n      <th></th>\n      <th></th>\n    </tr>\n  </thead>\n  <tbody>\n    <tr>\n      <th>M1B</th>\n      <td>Scarborough</td>\n      <td>Malvern / Rouge</td>\n    </tr>\n    <tr>\n      <th>M1C</th>\n      <td>Scarborough</td>\n      <td>Rouge Hill / Port Union / Highland Creek</td>\n    </tr>\n    <tr>\n      <th>M1E</th>\n      <td>Scarborough</td>\n      <td>Guildwood / Morningside / West Hill</td>\n    </tr>\n    <tr>\n      <th>M1G</th>\n      <td>Scarborough</td>\n      <td>Woburn</td>\n    </tr>\n    <tr>\n      <th>M1H</th>\n      <td>Scarborough</td>\n      <td>Cedarbrae</td>\n    </tr>\n  </tbody>\n</table>\n</div>",
                        "text/plain": "                Borough                              Neighborhood\nPostalCode                                                       \nM1B         Scarborough                           Malvern / Rouge\nM1C         Scarborough  Rouge Hill / Port Union / Highland Creek\nM1E         Scarborough       Guildwood / Morningside / West Hill\nM1G         Scarborough                                    Woburn\nM1H         Scarborough                                 Cedarbrae"
                    },
                    "execution_count": 25,
                    "metadata": {},
                    "output_type": "execute_result"
                }
            ],
            "source": "df2.loc[df2['Neighborhood']==\"Not assigned\",'Neighborhood']=df2.loc[df2['Neighborhood']==\"Not assigned\",'Borough']\n\ndf2.head()"
        },
        {
            "cell_type": "code",
            "execution_count": 26,
            "metadata": {},
            "outputs": [
                {
                    "data": {
                        "text/html": "<div>\n<style scoped>\n    .dataframe tbody tr th:only-of-type {\n        vertical-align: middle;\n    }\n\n    .dataframe tbody tr th {\n        vertical-align: top;\n    }\n\n    .dataframe thead th {\n        text-align: right;\n    }\n</style>\n<table border=\"1\" class=\"dataframe\">\n  <thead>\n    <tr style=\"text-align: right;\">\n      <th></th>\n      <th>PostalCode</th>\n      <th>Borough</th>\n      <th>Neighborhood</th>\n    </tr>\n  </thead>\n  <tbody>\n    <tr>\n      <th>0</th>\n      <td>M1B</td>\n      <td>Scarborough</td>\n      <td>Malvern / Rouge</td>\n    </tr>\n    <tr>\n      <th>1</th>\n      <td>M1C</td>\n      <td>Scarborough</td>\n      <td>Rouge Hill / Port Union / Highland Creek</td>\n    </tr>\n    <tr>\n      <th>2</th>\n      <td>M1E</td>\n      <td>Scarborough</td>\n      <td>Guildwood / Morningside / West Hill</td>\n    </tr>\n    <tr>\n      <th>3</th>\n      <td>M1G</td>\n      <td>Scarborough</td>\n      <td>Woburn</td>\n    </tr>\n    <tr>\n      <th>4</th>\n      <td>M1H</td>\n      <td>Scarborough</td>\n      <td>Cedarbrae</td>\n    </tr>\n  </tbody>\n</table>\n</div>",
                        "text/plain": "  PostalCode      Borough                              Neighborhood\n0        M1B  Scarborough                           Malvern / Rouge\n1        M1C  Scarborough  Rouge Hill / Port Union / Highland Creek\n2        M1E  Scarborough       Guildwood / Morningside / West Hill\n3        M1G  Scarborough                                    Woburn\n4        M1H  Scarborough                                 Cedarbrae"
                    },
                    "execution_count": 26,
                    "metadata": {},
                    "output_type": "execute_result"
                }
            ],
            "source": "df3 = df2.reset_index()\n\ndf3.head()"
        },
        {
            "cell_type": "markdown",
            "metadata": {},
            "source": "***Removing duplicate boroughts***"
        },
        {
            "cell_type": "code",
            "execution_count": 27,
            "metadata": {},
            "outputs": [],
            "source": "df3['Borough']= df3['Borough'].str.replace('nan|[{}\\s]','').str.split(',').apply(set).str.join(',').str.strip(',').str.replace(\",{2,}\",\",\")\n"
        },
        {
            "cell_type": "code",
            "execution_count": 28,
            "metadata": {},
            "outputs": [
                {
                    "data": {
                        "text/html": "<div>\n<style scoped>\n    .dataframe tbody tr th:only-of-type {\n        vertical-align: middle;\n    }\n\n    .dataframe tbody tr th {\n        vertical-align: top;\n    }\n\n    .dataframe thead th {\n        text-align: right;\n    }\n</style>\n<table border=\"1\" class=\"dataframe\">\n  <thead>\n    <tr style=\"text-align: right;\">\n      <th></th>\n      <th>PostalCode</th>\n      <th>Borough</th>\n      <th>Neighborhood</th>\n    </tr>\n  </thead>\n  <tbody>\n    <tr>\n      <th>0</th>\n      <td>M1B</td>\n      <td>Scarborough</td>\n      <td>Malvern / Rouge</td>\n    </tr>\n    <tr>\n      <th>1</th>\n      <td>M1C</td>\n      <td>Scarborough</td>\n      <td>Rouge Hill / Port Union / Highland Creek</td>\n    </tr>\n    <tr>\n      <th>2</th>\n      <td>M1E</td>\n      <td>Scarborough</td>\n      <td>Guildwood / Morningside / West Hill</td>\n    </tr>\n    <tr>\n      <th>3</th>\n      <td>M1G</td>\n      <td>Scarborough</td>\n      <td>Woburn</td>\n    </tr>\n    <tr>\n      <th>4</th>\n      <td>M1H</td>\n      <td>Scarborough</td>\n      <td>Cedarbrae</td>\n    </tr>\n  </tbody>\n</table>\n</div>",
                        "text/plain": "  PostalCode      Borough                              Neighborhood\n0        M1B  Scarborough                           Malvern / Rouge\n1        M1C  Scarborough  Rouge Hill / Port Union / Highland Creek\n2        M1E  Scarborough       Guildwood / Morningside / West Hill\n3        M1G  Scarborough                                    Woburn\n4        M1H  Scarborough                                 Cedarbrae"
                    },
                    "execution_count": 28,
                    "metadata": {},
                    "output_type": "execute_result"
                }
            ],
            "source": "df3.head()"
        },
        {
            "cell_type": "code",
            "execution_count": 29,
            "metadata": {},
            "outputs": [
                {
                    "name": "stdout",
                    "output_type": "stream",
                    "text": "<class 'pandas.core.frame.DataFrame'>\nRangeIndex: 103 entries, 0 to 102\nData columns (total 3 columns):\nPostalCode      103 non-null object\nBorough         103 non-null object\nNeighborhood    103 non-null object\ndtypes: object(3)\nmemory usage: 2.5+ KB\n"
                }
            ],
            "source": "df3.info()"
        },
        {
            "cell_type": "code",
            "execution_count": 30,
            "metadata": {},
            "outputs": [
                {
                    "data": {
                        "text/plain": "(103, 3)"
                    },
                    "execution_count": 30,
                    "metadata": {},
                    "output_type": "execute_result"
                }
            ],
            "source": "df3.shape"
        },
        {
            "cell_type": "markdown",
            "metadata": {},
            "source": "***Part Q2 +++++++++++++++++++++++++++++++++++++++++++++++++++++++++++++++++++++++++++++++++++++++++++++++++++++++++++++++++++***"
        },
        {
            "cell_type": "code",
            "execution_count": 31,
            "metadata": {},
            "outputs": [
                {
                    "name": "stdout",
                    "output_type": "stream",
                    "text": "Requirement already satisfied: geopy in /opt/conda/envs/Python36/lib/python3.6/site-packages (1.18.1)\nRequirement already satisfied: geographiclib<2,>=1.49 in /opt/conda/envs/Python36/lib/python3.6/site-packages (from geopy) (1.49)\n"
                }
            ],
            "source": "!pip install geopy"
        },
        {
            "cell_type": "code",
            "execution_count": 32,
            "metadata": {},
            "outputs": [
                {
                    "name": "stdout",
                    "output_type": "stream",
                    "text": "latitude is :- 51.5073219 \nlogtitude is:- -0.1276474\n"
                }
            ],
            "source": "from geopy.geocoders import Nominatim \ngeolocator = Nominatim(user_agent=\"Clustering_Neighborhoods_in_Toronto\")\ncity = \"London\"\ncountry =\"Uk\"\nloc = geolocator.geocode(city+','+ country)\nprint(\"latitude is :-\" ,loc.latitude,\"\\nlogtitude is:-\"\n     , loc.longitude)"
        },
        {
            "cell_type": "code",
            "execution_count": 33,
            "metadata": {},
            "outputs": [
                {
                    "name": "stdout",
                    "output_type": "stream",
                    "text": "Parkwoods Village Drive, Parkway East, Don Valley East, North York, Toronto, Golden Horseshoe, Ontario, M3A 2X2, Canada\n\n(43.7587999, -79.3201966)\n\n{'place_id': 124974741, 'licence': 'Data \u00a9 OpenStreetMap contributors, ODbL 1.0. https://osm.org/copyright', 'osm_type': 'way', 'osm_id': 160406961, 'boundingbox': ['43.7576231', '43.761106', '-79.3239088', '-79.316215'], 'lat': '43.7587999', 'lon': '-79.3201966', 'display_name': 'Parkwoods Village Drive, Parkway East, Don Valley East, North York, Toronto, Golden Horseshoe, Ontario, M3A 2X2, Canada', 'class': 'highway', 'type': 'secondary', 'importance': 0.51}\n"
                }
            ],
            "source": "from  geopy.geocoders import Nominatim\ngeolocator = Nominatim(user_agent=\"Clustering_Neighborhoods_in_Toronto\")\nlocation = geolocator.geocode(\"Toronto, North York, Parkwoods\")\n\nprint(location.address)\nprint('')\nprint((location.latitude, location.longitude))\nprint('')\nprint(location.raw)"
        },
        {
            "cell_type": "code",
            "execution_count": 34,
            "metadata": {},
            "outputs": [
                {
                    "data": {
                        "text/html": "<div>\n<style scoped>\n    .dataframe tbody tr th:only-of-type {\n        vertical-align: middle;\n    }\n\n    .dataframe tbody tr th {\n        vertical-align: top;\n    }\n\n    .dataframe thead th {\n        text-align: right;\n    }\n</style>\n<table border=\"1\" class=\"dataframe\">\n  <thead>\n    <tr style=\"text-align: right;\">\n      <th></th>\n      <th>PostalCode</th>\n      <th>Borough</th>\n      <th>Neighborhood</th>\n    </tr>\n  </thead>\n  <tbody>\n    <tr>\n      <th>3</th>\n      <td>M3A</td>\n      <td>North York</td>\n      <td>Parkwoods</td>\n    </tr>\n    <tr>\n      <th>4</th>\n      <td>M4A</td>\n      <td>North York</td>\n      <td>Victoria Village</td>\n    </tr>\n    <tr>\n      <th>5</th>\n      <td>M5A</td>\n      <td>Downtown Toronto</td>\n      <td>Regent Park / Harbourfront</td>\n    </tr>\n    <tr>\n      <th>6</th>\n      <td>M6A</td>\n      <td>North York</td>\n      <td>Lawrence Manor / Lawrence Heights</td>\n    </tr>\n    <tr>\n      <th>7</th>\n      <td>M7A</td>\n      <td>Downtown Toronto</td>\n      <td>Queen's Park / Ontario Provincial Government</td>\n    </tr>\n  </tbody>\n</table>\n</div>",
                        "text/plain": "  PostalCode           Borough                                  Neighborhood\n3        M3A        North York                                     Parkwoods\n4        M4A        North York                              Victoria Village\n5        M5A  Downtown Toronto                    Regent Park / Harbourfront\n6        M6A        North York             Lawrence Manor / Lawrence Heights\n7        M7A  Downtown Toronto  Queen's Park / Ontario Provincial Government"
                    },
                    "execution_count": 34,
                    "metadata": {},
                    "output_type": "execute_result"
                }
            ],
            "source": "import pandas as pd \ndf.head()"
        },
        {
            "cell_type": "code",
            "execution_count": 35,
            "metadata": {},
            "outputs": [],
            "source": "import pandas as pd\ndf_geopy = pd.DataFrame({'PostalCode': ['M3A', 'M4A', 'M5A'],\n                         'Borough': ['North York', 'North York', 'Downtown Toronto'],\n                         'Neighborhood': ['Parkwoods', 'Victoria Village', 'Harbourfront'],})\n\nfrom geopy.geocoders import Nominatim\ngeolocator = Nominatim(user_agent=\"Clustering_Neighborhoods_in_Toronto\")"
        },
        {
            "cell_type": "code",
            "execution_count": 36,
            "metadata": {},
            "outputs": [],
            "source": "df_geopy1 = df3\n#df_geopy1"
        },
        {
            "cell_type": "code",
            "execution_count": 37,
            "metadata": {},
            "outputs": [
                {
                    "data": {
                        "text/html": "<div>\n<style scoped>\n    .dataframe tbody tr th:only-of-type {\n        vertical-align: middle;\n    }\n\n    .dataframe tbody tr th {\n        vertical-align: top;\n    }\n\n    .dataframe thead th {\n        text-align: right;\n    }\n</style>\n<table border=\"1\" class=\"dataframe\">\n  <thead>\n    <tr style=\"text-align: right;\">\n      <th></th>\n      <th>PostalCode</th>\n      <th>Borough</th>\n      <th>Neighborhood</th>\n      <th>address</th>\n    </tr>\n  </thead>\n  <tbody>\n    <tr>\n      <th>0</th>\n      <td>M1B</td>\n      <td>Scarborough</td>\n      <td>Malvern / Rouge</td>\n      <td>M1B, Scarborough, Malvern / Rouge</td>\n    </tr>\n    <tr>\n      <th>1</th>\n      <td>M1C</td>\n      <td>Scarborough</td>\n      <td>Rouge Hill / Port Union / Highland Creek</td>\n      <td>M1C, Scarborough, Rouge Hill / Port Union / Hi...</td>\n    </tr>\n    <tr>\n      <th>2</th>\n      <td>M1E</td>\n      <td>Scarborough</td>\n      <td>Guildwood / Morningside / West Hill</td>\n      <td>M1E, Scarborough, Guildwood / Morningside / We...</td>\n    </tr>\n    <tr>\n      <th>3</th>\n      <td>M1G</td>\n      <td>Scarborough</td>\n      <td>Woburn</td>\n      <td>M1G, Scarborough, Woburn</td>\n    </tr>\n    <tr>\n      <th>4</th>\n      <td>M1H</td>\n      <td>Scarborough</td>\n      <td>Cedarbrae</td>\n      <td>M1H, Scarborough, Cedarbrae</td>\n    </tr>\n  </tbody>\n</table>\n</div>",
                        "text/plain": "  PostalCode      Borough                              Neighborhood  \\\n0        M1B  Scarborough                           Malvern / Rouge   \n1        M1C  Scarborough  Rouge Hill / Port Union / Highland Creek   \n2        M1E  Scarborough       Guildwood / Morningside / West Hill   \n3        M1G  Scarborough                                    Woburn   \n4        M1H  Scarborough                                 Cedarbrae   \n\n                                             address  \n0                  M1B, Scarborough, Malvern / Rouge  \n1  M1C, Scarborough, Rouge Hill / Port Union / Hi...  \n2  M1E, Scarborough, Guildwood / Morningside / We...  \n3                           M1G, Scarborough, Woburn  \n4                        M1H, Scarborough, Cedarbrae  "
                    },
                    "execution_count": 37,
                    "metadata": {},
                    "output_type": "execute_result"
                }
            ],
            "source": "from geopy.geocoders import Nominatim\ngeolocator = Nominatim(user_agent=\"Clustering_Neighborhoods_in_Toronto\")\n\ndf_geopy1['address'] = df3[['PostalCode', 'Borough', 'Neighborhood']].apply(lambda x: ', '.join(x), axis=1 )\ndf_geopy1.head()"
        },
        {
            "cell_type": "code",
            "execution_count": 38,
            "metadata": {},
            "outputs": [],
            "source": "df_geopy1 = df3"
        },
        {
            "cell_type": "code",
            "execution_count": 39,
            "metadata": {},
            "outputs": [
                {
                    "data": {
                        "text/plain": "(103, 4)"
                    },
                    "execution_count": 39,
                    "metadata": {},
                    "output_type": "execute_result"
                }
            ],
            "source": "df_geopy1.shape"
        },
        {
            "cell_type": "code",
            "execution_count": 40,
            "metadata": {},
            "outputs": [
                {
                    "name": "stdout",
                    "output_type": "stream",
                    "text": "<class 'pandas.core.frame.DataFrame'>\nRangeIndex: 103 entries, 0 to 102\nData columns (total 4 columns):\nPostalCode      103 non-null object\nBorough         103 non-null object\nNeighborhood    103 non-null object\naddress         103 non-null object\ndtypes: object(4)\nmemory usage: 3.3+ KB\n"
                }
            ],
            "source": "df_geopy1.info()"
        },
        {
            "cell_type": "code",
            "execution_count": 41,
            "metadata": {},
            "outputs": [
                {
                    "name": "stdout",
                    "output_type": "stream",
                    "text": "<class 'pandas.core.frame.DataFrame'>\nInt64Index: 103 entries, 0 to 102\nData columns (total 4 columns):\nPostalCode      103 non-null object\nBorough         103 non-null object\nNeighborhood    103 non-null object\naddress         103 non-null object\ndtypes: object(4)\nmemory usage: 4.0+ KB\n"
                }
            ],
            "source": "df_geopy1.drop(df_geopy1[df_geopy1['Borough']==\"Notassigned\"].index,axis=0, inplace=True)\n#df_geopy1\n# code holds true up until i=102\ndf_geopy1.info()"
        },
        {
            "cell_type": "code",
            "execution_count": 42,
            "metadata": {},
            "outputs": [
                {
                    "data": {
                        "text/html": "<div>\n<style scoped>\n    .dataframe tbody tr th:only-of-type {\n        vertical-align: middle;\n    }\n\n    .dataframe tbody tr th {\n        vertical-align: top;\n    }\n\n    .dataframe thead th {\n        text-align: right;\n    }\n</style>\n<table border=\"1\" class=\"dataframe\">\n  <thead>\n    <tr style=\"text-align: right;\">\n      <th></th>\n      <th>PostalCode</th>\n      <th>Borough</th>\n      <th>Neighborhood</th>\n      <th>address</th>\n    </tr>\n  </thead>\n  <tbody>\n    <tr>\n      <th>0</th>\n      <td>M1B</td>\n      <td>Scarborough</td>\n      <td>Malvern / Rouge</td>\n      <td>M1B, Scarborough, Malvern / Rouge</td>\n    </tr>\n    <tr>\n      <th>1</th>\n      <td>M1C</td>\n      <td>Scarborough</td>\n      <td>Rouge Hill / Port Union / Highland Creek</td>\n      <td>M1C, Scarborough, Rouge Hill / Port Union / Hi...</td>\n    </tr>\n    <tr>\n      <th>2</th>\n      <td>M1E</td>\n      <td>Scarborough</td>\n      <td>Guildwood / Morningside / West Hill</td>\n      <td>M1E, Scarborough, Guildwood / Morningside / We...</td>\n    </tr>\n    <tr>\n      <th>3</th>\n      <td>M1G</td>\n      <td>Scarborough</td>\n      <td>Woburn</td>\n      <td>M1G, Scarborough, Woburn</td>\n    </tr>\n    <tr>\n      <th>4</th>\n      <td>M1H</td>\n      <td>Scarborough</td>\n      <td>Cedarbrae</td>\n      <td>M1H, Scarborough, Cedarbrae</td>\n    </tr>\n  </tbody>\n</table>\n</div>",
                        "text/plain": "  PostalCode      Borough                              Neighborhood  \\\n0        M1B  Scarborough                           Malvern / Rouge   \n1        M1C  Scarborough  Rouge Hill / Port Union / Highland Creek   \n2        M1E  Scarborough       Guildwood / Morningside / West Hill   \n3        M1G  Scarborough                                    Woburn   \n4        M1H  Scarborough                                 Cedarbrae   \n\n                                             address  \n0                  M1B, Scarborough, Malvern / Rouge  \n1  M1C, Scarborough, Rouge Hill / Port Union / Hi...  \n2  M1E, Scarborough, Guildwood / Morningside / We...  \n3                           M1G, Scarborough, Woburn  \n4                        M1H, Scarborough, Cedarbrae  "
                    },
                    "execution_count": 42,
                    "metadata": {},
                    "output_type": "execute_result"
                }
            ],
            "source": "df_geopy1.head()"
        },
        {
            "cell_type": "code",
            "execution_count": 43,
            "metadata": {},
            "outputs": [
                {
                    "data": {
                        "text/plain": "(103, 4)"
                    },
                    "execution_count": 43,
                    "metadata": {},
                    "output_type": "execute_result"
                }
            ],
            "source": "df_geopy1.shape"
        },
        {
            "cell_type": "code",
            "execution_count": 44,
            "metadata": {},
            "outputs": [],
            "source": "df_geopy1.to_csv('geopy1.csv')"
        },
        {
            "cell_type": "code",
            "execution_count": 45,
            "metadata": {},
            "outputs": [],
            "source": "from  geopy.geocoders import Nominatim\ngeolocator = Nominatim(user_agent=\"Clustering_Neighborhoods_in_Toronto\")\nlocation = geolocator.geocode(\"M1G, Scarborough, Woburn\")\n\n\n#print(location.address)\n\n#print((location.latitude, location.longitude))\n\n#print(location.raw)"
        },
        {
            "cell_type": "code",
            "execution_count": 46,
            "metadata": {},
            "outputs": [
                {
                    "name": "stdout",
                    "output_type": "stream",
                    "text": "Requirement already satisfied: geocoder in /opt/conda/envs/Python36/lib/python3.6/site-packages (1.38.1)\nRequirement already satisfied: ratelim in /opt/conda/envs/Python36/lib/python3.6/site-packages (from geocoder) (0.1.6)\nRequirement already satisfied: click in /opt/conda/envs/Python36/lib/python3.6/site-packages (from geocoder) (7.0)\nRequirement already satisfied: requests in /opt/conda/envs/Python36/lib/python3.6/site-packages (from geocoder) (2.21.0)\nRequirement already satisfied: future in /opt/conda/envs/Python36/lib/python3.6/site-packages (from geocoder) (0.17.1)\nRequirement already satisfied: six in /opt/conda/envs/Python36/lib/python3.6/site-packages (from geocoder) (1.12.0)\nRequirement already satisfied: decorator in /opt/conda/envs/Python36/lib/python3.6/site-packages (from ratelim->geocoder) (4.3.2)\nRequirement already satisfied: idna<2.9,>=2.5 in /opt/conda/envs/Python36/lib/python3.6/site-packages (from requests->geocoder) (2.8)\nRequirement already satisfied: certifi>=2017.4.17 in /opt/conda/envs/Python36/lib/python3.6/site-packages (from requests->geocoder) (2020.4.5.1)\nRequirement already satisfied: urllib3<1.25,>=1.21.1 in /opt/conda/envs/Python36/lib/python3.6/site-packages (from requests->geocoder) (1.24.1)\nRequirement already satisfied: chardet<3.1.0,>=3.0.2 in /opt/conda/envs/Python36/lib/python3.6/site-packages (from requests->geocoder) (3.0.4)\n"
                }
            ],
            "source": "!pip install geocoder"
        },
        {
            "cell_type": "code",
            "execution_count": 47,
            "metadata": {},
            "outputs": [],
            "source": "df3.to_csv('geopy.csv')"
        },
        {
            "cell_type": "code",
            "execution_count": 48,
            "metadata": {},
            "outputs": [],
            "source": "import csv\n\nwith open('geopy.csv') as csvfile:\n     reader = csv.DictReader(csvfile)\n     #for row in reader:\n         #print(row['PostalCode'],row['Borough'], row['Neighborhood'] )"
        },
        {
            "cell_type": "code",
            "execution_count": 49,
            "metadata": {},
            "outputs": [],
            "source": "from  geopy.geocoders import Nominatim\ngeolocator = Nominatim(user_agent=\"Clustering_Neighborhoods_in_Toronto\")\nlocation = geolocator.geocode(\"M1B Scarborough Rouge,Malvern\")\n\n#print(location.address)\n\n#print((location.latitude, location.longitude))\n\n#print(location.raw)"
        },
        {
            "cell_type": "code",
            "execution_count": 50,
            "metadata": {},
            "outputs": [],
            "source": "from  geopy.geocoders import Nominatim\ngeolocator = Nominatim(user_agent=\"Clustering_Neighborhoods_in_Toronto\")\nlocation = geolocator.geocode(\"Toronto, Highland Creek\")\n\n#print(location.address)\n\n#print((location.latitude, location.longitude))\n\n#print(location.raw)\n\n#M1C Scarborough Highland Creek,Rouge Hill,Port Union = no address"
        },
        {
            "cell_type": "code",
            "execution_count": 51,
            "metadata": {},
            "outputs": [],
            "source": "from  geopy.geocoders import Nominatim\ngeolocator = Nominatim(user_agent=\"Clustering_Neighborhoods_in_Toronto\")\nlocation = geolocator.geocode(\"Toronto, Morningside\")\n\n#print(location.address)\n\n#print((location.latitude, location.longitude))\n\n#print(location.raw)\n\n#M1E Scarborough Guildwood,Morningside,West Hill = no address"
        },
        {
            "cell_type": "markdown",
            "metadata": {},
            "source": "***Get Coordinates***"
        },
        {
            "cell_type": "code",
            "execution_count": 52,
            "metadata": {},
            "outputs": [],
            "source": "import pandas, os\n#os.listdir()"
        },
        {
            "cell_type": "code",
            "execution_count": 53,
            "metadata": {},
            "outputs": [],
            "source": "df_geopy=df3\n#df_geopy.head()"
        },
        {
            "cell_type": "code",
            "execution_count": 54,
            "metadata": {},
            "outputs": [],
            "source": "import geopy\n#dir(geopy)"
        },
        {
            "cell_type": "code",
            "execution_count": 55,
            "metadata": {},
            "outputs": [
                {
                    "data": {
                        "text/plain": "pandas.core.frame.DataFrame"
                    },
                    "execution_count": 55,
                    "metadata": {},
                    "output_type": "execute_result"
                }
            ],
            "source": "type(df_geopy)"
        },
        {
            "cell_type": "code",
            "execution_count": 56,
            "metadata": {},
            "outputs": [
                {
                    "name": "stdout",
                    "output_type": "stream",
                    "text": "<class 'pandas.core.frame.DataFrame'>\nInt64Index: 103 entries, 0 to 102\nData columns (total 4 columns):\nPostalCode      103 non-null object\nBorough         103 non-null object\nNeighborhood    103 non-null object\naddress         103 non-null object\ndtypes: object(4)\nmemory usage: 4.0+ KB\n"
                }
            ],
            "source": "df_geopy.info()"
        },
        {
            "cell_type": "markdown",
            "metadata": {},
            "source": "***Importing Geopy***:"
        },
        {
            "cell_type": "code",
            "execution_count": 57,
            "metadata": {},
            "outputs": [
                {
                    "name": "stdout",
                    "output_type": "stream",
                    "text": "Requirement already satisfied: geopy in /opt/conda/envs/Python36/lib/python3.6/site-packages (1.18.1)\nRequirement already satisfied: geographiclib<2,>=1.49 in /opt/conda/envs/Python36/lib/python3.6/site-packages (from geopy) (1.49)\n"
                }
            ],
            "source": "!pip install geopy"
        },
        {
            "cell_type": "code",
            "execution_count": 58,
            "metadata": {},
            "outputs": [
                {
                    "name": "stdout",
                    "output_type": "stream",
                    "text": "Nominatim imported\n"
                }
            ],
            "source": "from geopy.geocoders import Nominatim\nprint('Nominatim imported')"
        },
        {
            "cell_type": "markdown",
            "metadata": {},
            "source": "***Connection to OpenStreetMap***"
        },
        {
            "cell_type": "code",
            "execution_count": 59,
            "metadata": {},
            "outputs": [
                {
                    "data": {
                        "text/html": "<div>\n<style scoped>\n    .dataframe tbody tr th:only-of-type {\n        vertical-align: middle;\n    }\n\n    .dataframe tbody tr th {\n        vertical-align: top;\n    }\n\n    .dataframe thead th {\n        text-align: right;\n    }\n</style>\n<table border=\"1\" class=\"dataframe\">\n  <thead>\n    <tr style=\"text-align: right;\">\n      <th></th>\n      <th>PostalCode</th>\n      <th>Borough</th>\n      <th>Neighborhood</th>\n      <th>address</th>\n    </tr>\n  </thead>\n  <tbody>\n    <tr>\n      <th>0</th>\n      <td>M1B</td>\n      <td>Scarborough</td>\n      <td>Malvern / Rouge</td>\n      <td>M1B,Scarborough,Malvern / Rouge</td>\n    </tr>\n    <tr>\n      <th>1</th>\n      <td>M1C</td>\n      <td>Scarborough</td>\n      <td>Rouge Hill / Port Union / Highland Creek</td>\n      <td>M1C,Scarborough,Rouge Hill / Port Union / High...</td>\n    </tr>\n    <tr>\n      <th>2</th>\n      <td>M1E</td>\n      <td>Scarborough</td>\n      <td>Guildwood / Morningside / West Hill</td>\n      <td>M1E,Scarborough,Guildwood / Morningside / West...</td>\n    </tr>\n    <tr>\n      <th>3</th>\n      <td>M1G</td>\n      <td>Scarborough</td>\n      <td>Woburn</td>\n      <td>M1G,Scarborough,Woburn</td>\n    </tr>\n    <tr>\n      <th>4</th>\n      <td>M1H</td>\n      <td>Scarborough</td>\n      <td>Cedarbrae</td>\n      <td>M1H,Scarborough,Cedarbrae</td>\n    </tr>\n  </tbody>\n</table>\n</div>",
                        "text/plain": "  PostalCode      Borough                              Neighborhood  \\\n0        M1B  Scarborough                           Malvern / Rouge   \n1        M1C  Scarborough  Rouge Hill / Port Union / Highland Creek   \n2        M1E  Scarborough       Guildwood / Morningside / West Hill   \n3        M1G  Scarborough                                    Woburn   \n4        M1H  Scarborough                                 Cedarbrae   \n\n                                             address  \n0                    M1B,Scarborough,Malvern / Rouge  \n1  M1C,Scarborough,Rouge Hill / Port Union / High...  \n2  M1E,Scarborough,Guildwood / Morningside / West...  \n3                             M1G,Scarborough,Woburn  \n4                          M1H,Scarborough,Cedarbrae  "
                    },
                    "execution_count": 59,
                    "metadata": {},
                    "output_type": "execute_result"
                }
            ],
            "source": "df_geopy['address']=df_geopy['PostalCode'] + ',' + df_geopy['Borough'] + ','+ df_geopy['Neighborhood']\ndf_geopy.head()"
        },
        {
            "cell_type": "code",
            "execution_count": 60,
            "metadata": {},
            "outputs": [],
            "source": "nom = Nominatim(user_agent=\"Clustering_Neighborhoods_in_Toronto\")"
        },
        {
            "cell_type": "code",
            "execution_count": 61,
            "metadata": {},
            "outputs": [],
            "source": "n=nom.geocode('M1B, Scarborough, Rouge,Malvern')\nn"
        },
        {
            "cell_type": "code",
            "execution_count": 62,
            "metadata": {},
            "outputs": [
                {
                    "ename": "AttributeError",
                    "evalue": "'NoneType' object has no attribute 'latitude'",
                    "output_type": "error",
                    "traceback": [
                        "\u001b[0;31m---------------------------------------------------------------------------\u001b[0m",
                        "\u001b[0;31mAttributeError\u001b[0m                            Traceback (most recent call last)",
                        "\u001b[0;32m<ipython-input-62-f2eba8427407>\u001b[0m in \u001b[0;36m<module>\u001b[0;34m\u001b[0m\n\u001b[0;32m----> 1\u001b[0;31m \u001b[0mn\u001b[0m\u001b[0;34m.\u001b[0m\u001b[0mlatitude\u001b[0m\u001b[0;34m\u001b[0m\u001b[0;34m\u001b[0m\u001b[0m\n\u001b[0m",
                        "\u001b[0;31mAttributeError\u001b[0m: 'NoneType' object has no attribute 'latitude'"
                    ]
                }
            ],
            "source": "n.latitude"
        },
        {
            "cell_type": "code",
            "execution_count": 63,
            "metadata": {},
            "outputs": [
                {
                    "data": {
                        "text/plain": "NoneType"
                    },
                    "execution_count": 63,
                    "metadata": {},
                    "output_type": "execute_result"
                }
            ],
            "source": "type(n)"
        },
        {
            "cell_type": "markdown",
            "metadata": {},
            "source": "***Watch for None values***"
        },
        {
            "cell_type": "code",
            "execution_count": 64,
            "metadata": {},
            "outputs": [
                {
                    "name": "stdout",
                    "output_type": "stream",
                    "text": "None\n"
                }
            ],
            "source": "n2=nom.geocode('M1E Scarborough Guildwood,Morningside,West Hill')\nprint(n2)"
        },
        {
            "cell_type": "code",
            "execution_count": 65,
            "metadata": {},
            "outputs": [
                {
                    "data": {
                        "text/html": "<div>\n<style scoped>\n    .dataframe tbody tr th:only-of-type {\n        vertical-align: middle;\n    }\n\n    .dataframe tbody tr th {\n        vertical-align: top;\n    }\n\n    .dataframe thead th {\n        text-align: right;\n    }\n</style>\n<table border=\"1\" class=\"dataframe\">\n  <thead>\n    <tr style=\"text-align: right;\">\n      <th></th>\n      <th>PostalCode</th>\n      <th>Borough</th>\n      <th>Neighborhood</th>\n      <th>address</th>\n      <th>Coordinates</th>\n    </tr>\n  </thead>\n  <tbody>\n    <tr>\n      <th>0</th>\n      <td>M1B</td>\n      <td>Scarborough</td>\n      <td>Malvern / Rouge</td>\n      <td>M1B,Scarborough,Malvern / Rouge</td>\n      <td>None</td>\n    </tr>\n    <tr>\n      <th>1</th>\n      <td>M1C</td>\n      <td>Scarborough</td>\n      <td>Rouge Hill / Port Union / Highland Creek</td>\n      <td>M1C,Scarborough,Rouge Hill / Port Union / High...</td>\n      <td>None</td>\n    </tr>\n    <tr>\n      <th>2</th>\n      <td>M1E</td>\n      <td>Scarborough</td>\n      <td>Guildwood / Morningside / West Hill</td>\n      <td>M1E,Scarborough,Guildwood / Morningside / West...</td>\n      <td>None</td>\n    </tr>\n    <tr>\n      <th>3</th>\n      <td>M1G</td>\n      <td>Scarborough</td>\n      <td>Woburn</td>\n      <td>M1G,Scarborough,Woburn</td>\n      <td>(Woburn, Scarborough\u2014Guildwood, Scarborough, T...</td>\n    </tr>\n    <tr>\n      <th>4</th>\n      <td>M1H</td>\n      <td>Scarborough</td>\n      <td>Cedarbrae</td>\n      <td>M1H,Scarborough,Cedarbrae</td>\n      <td>None</td>\n    </tr>\n  </tbody>\n</table>\n</div>",
                        "text/plain": "  PostalCode      Borough                              Neighborhood  \\\n0        M1B  Scarborough                           Malvern / Rouge   \n1        M1C  Scarborough  Rouge Hill / Port Union / Highland Creek   \n2        M1E  Scarborough       Guildwood / Morningside / West Hill   \n3        M1G  Scarborough                                    Woburn   \n4        M1H  Scarborough                                 Cedarbrae   \n\n                                             address  \\\n0                    M1B,Scarborough,Malvern / Rouge   \n1  M1C,Scarborough,Rouge Hill / Port Union / High...   \n2  M1E,Scarborough,Guildwood / Morningside / West...   \n3                             M1G,Scarborough,Woburn   \n4                          M1H,Scarborough,Cedarbrae   \n\n                                         Coordinates  \n0                                               None  \n1                                               None  \n2                                               None  \n3  (Woburn, Scarborough\u2014Guildwood, Scarborough, T...  \n4                                               None  "
                    },
                    "execution_count": 65,
                    "metadata": {},
                    "output_type": "execute_result"
                }
            ],
            "source": "df_geopy['Coordinates'] =df_geopy['address'].apply(nom.geocode)\ndf_geopy.head()"
        },
        {
            "cell_type": "code",
            "execution_count": 66,
            "metadata": {},
            "outputs": [
                {
                    "name": "stdout",
                    "output_type": "stream",
                    "text": "<class 'pandas.core.frame.DataFrame'>\nInt64Index: 103 entries, 0 to 102\nData columns (total 5 columns):\nPostalCode      103 non-null object\nBorough         103 non-null object\nNeighborhood    103 non-null object\naddress         103 non-null object\nCoordinates     2 non-null object\ndtypes: object(5)\nmemory usage: 4.8+ KB\n"
                }
            ],
            "source": "df_geopy.info()"
        },
        {
            "cell_type": "code",
            "execution_count": 67,
            "metadata": {},
            "outputs": [],
            "source": "df_geopy.Coordinates[0]"
        },
        {
            "cell_type": "code",
            "execution_count": 68,
            "metadata": {},
            "outputs": [
                {
                    "name": "stdout",
                    "output_type": "stream",
                    "text": "None\n"
                }
            ],
            "source": "print(df_geopy.Coordinates[1])"
        },
        {
            "cell_type": "code",
            "execution_count": 69,
            "metadata": {},
            "outputs": [
                {
                    "data": {
                        "text/html": "<div>\n<style scoped>\n    .dataframe tbody tr th:only-of-type {\n        vertical-align: middle;\n    }\n\n    .dataframe tbody tr th {\n        vertical-align: top;\n    }\n\n    .dataframe thead th {\n        text-align: right;\n    }\n</style>\n<table border=\"1\" class=\"dataframe\">\n  <thead>\n    <tr style=\"text-align: right;\">\n      <th></th>\n      <th>PostalCode</th>\n      <th>Borough</th>\n      <th>Neighborhood</th>\n      <th>address</th>\n      <th>Coordinates</th>\n      <th>latitude</th>\n      <th>longitude</th>\n    </tr>\n  </thead>\n  <tbody>\n    <tr>\n      <th>0</th>\n      <td>M1B</td>\n      <td>Scarborough</td>\n      <td>Malvern / Rouge</td>\n      <td>M1B,Scarborough,Malvern / Rouge</td>\n      <td>None</td>\n      <td>NaN</td>\n      <td>NaN</td>\n    </tr>\n    <tr>\n      <th>1</th>\n      <td>M1C</td>\n      <td>Scarborough</td>\n      <td>Rouge Hill / Port Union / Highland Creek</td>\n      <td>M1C,Scarborough,Rouge Hill / Port Union / High...</td>\n      <td>None</td>\n      <td>NaN</td>\n      <td>NaN</td>\n    </tr>\n    <tr>\n      <th>2</th>\n      <td>M1E</td>\n      <td>Scarborough</td>\n      <td>Guildwood / Morningside / West Hill</td>\n      <td>M1E,Scarborough,Guildwood / Morningside / West...</td>\n      <td>None</td>\n      <td>NaN</td>\n      <td>NaN</td>\n    </tr>\n    <tr>\n      <th>3</th>\n      <td>M1G</td>\n      <td>Scarborough</td>\n      <td>Woburn</td>\n      <td>M1G,Scarborough,Woburn</td>\n      <td>(Woburn, Scarborough\u2014Guildwood, Scarborough, T...</td>\n      <td>43.759824</td>\n      <td>-79.225291</td>\n    </tr>\n    <tr>\n      <th>4</th>\n      <td>M1H</td>\n      <td>Scarborough</td>\n      <td>Cedarbrae</td>\n      <td>M1H,Scarborough,Cedarbrae</td>\n      <td>None</td>\n      <td>NaN</td>\n      <td>NaN</td>\n    </tr>\n  </tbody>\n</table>\n</div>",
                        "text/plain": "  PostalCode      Borough                              Neighborhood  \\\n0        M1B  Scarborough                           Malvern / Rouge   \n1        M1C  Scarborough  Rouge Hill / Port Union / Highland Creek   \n2        M1E  Scarborough       Guildwood / Morningside / West Hill   \n3        M1G  Scarborough                                    Woburn   \n4        M1H  Scarborough                                 Cedarbrae   \n\n                                             address  \\\n0                    M1B,Scarborough,Malvern / Rouge   \n1  M1C,Scarborough,Rouge Hill / Port Union / High...   \n2  M1E,Scarborough,Guildwood / Morningside / West...   \n3                             M1G,Scarborough,Woburn   \n4                          M1H,Scarborough,Cedarbrae   \n\n                                         Coordinates   latitude  longitude  \n0                                               None        NaN        NaN  \n1                                               None        NaN        NaN  \n2                                               None        NaN        NaN  \n3  (Woburn, Scarborough\u2014Guildwood, Scarborough, T...  43.759824 -79.225291  \n4                                               None        NaN        NaN  "
                    },
                    "execution_count": 69,
                    "metadata": {},
                    "output_type": "execute_result"
                }
            ],
            "source": "df_geopy['latitude']=df_geopy['Coordinates'].apply(lambda x: x.latitude if x !=None else None)\ndf_geopy['longitude']=df_geopy['Coordinates'].apply(lambda x: x.longitude if x !=None else None)\ndf_geopy.head()"
        },
        {
            "cell_type": "code",
            "execution_count": 70,
            "metadata": {},
            "outputs": [],
            "source": "df_geopy.to_csv('geo_loc_py.csv')"
        },
        {
            "cell_type": "code",
            "execution_count": 72,
            "metadata": {},
            "outputs": [
                {
                    "name": "stdout",
                    "output_type": "stream",
                    "text": "The latitude of M1B,Scarborough,Malvern / Rouge is nan and its longitude is nan\n"
                }
            ],
            "source": "print('The latitude of', df_geopy.address[0],  'is', df_geopy.latitude[0], 'and its longitude is',df_geopy.longitude[0])"
        },
        {
            "cell_type": "markdown",
            "metadata": {},
            "source": "***2.2 csv to request dataframe***"
        },
        {
            "cell_type": "code",
            "execution_count": 73,
            "metadata": {},
            "outputs": [
                {
                    "data": {
                        "text/html": "<div>\n<style scoped>\n    .dataframe tbody tr th:only-of-type {\n        vertical-align: middle;\n    }\n\n    .dataframe tbody tr th {\n        vertical-align: top;\n    }\n\n    .dataframe thead th {\n        text-align: right;\n    }\n</style>\n<table border=\"1\" class=\"dataframe\">\n  <thead>\n    <tr style=\"text-align: right;\">\n      <th></th>\n      <th>Unnamed: 0</th>\n      <th>PostalCode</th>\n      <th>Borough</th>\n      <th>Neighborhood</th>\n      <th>address</th>\n    </tr>\n  </thead>\n  <tbody>\n    <tr>\n      <th>0</th>\n      <td>0</td>\n      <td>M1B</td>\n      <td>Scarborough</td>\n      <td>Malvern / Rouge</td>\n      <td>M1B, Scarborough, Malvern / Rouge</td>\n    </tr>\n    <tr>\n      <th>1</th>\n      <td>1</td>\n      <td>M1C</td>\n      <td>Scarborough</td>\n      <td>Rouge Hill / Port Union / Highland Creek</td>\n      <td>M1C, Scarborough, Rouge Hill / Port Union / Hi...</td>\n    </tr>\n    <tr>\n      <th>2</th>\n      <td>2</td>\n      <td>M1E</td>\n      <td>Scarborough</td>\n      <td>Guildwood / Morningside / West Hill</td>\n      <td>M1E, Scarborough, Guildwood / Morningside / We...</td>\n    </tr>\n    <tr>\n      <th>3</th>\n      <td>3</td>\n      <td>M1G</td>\n      <td>Scarborough</td>\n      <td>Woburn</td>\n      <td>M1G, Scarborough, Woburn</td>\n    </tr>\n    <tr>\n      <th>4</th>\n      <td>4</td>\n      <td>M1H</td>\n      <td>Scarborough</td>\n      <td>Cedarbrae</td>\n      <td>M1H, Scarborough, Cedarbrae</td>\n    </tr>\n  </tbody>\n</table>\n</div>",
                        "text/plain": "   Unnamed: 0 PostalCode      Borough  \\\n0           0        M1B  Scarborough   \n1           1        M1C  Scarborough   \n2           2        M1E  Scarborough   \n3           3        M1G  Scarborough   \n4           4        M1H  Scarborough   \n\n                               Neighborhood  \\\n0                           Malvern / Rouge   \n1  Rouge Hill / Port Union / Highland Creek   \n2       Guildwood / Morningside / West Hill   \n3                                    Woburn   \n4                                 Cedarbrae   \n\n                                             address  \n0                  M1B, Scarborough, Malvern / Rouge  \n1  M1C, Scarborough, Rouge Hill / Port Union / Hi...  \n2  M1E, Scarborough, Guildwood / Morningside / We...  \n3                           M1G, Scarborough, Woburn  \n4                        M1H, Scarborough, Cedarbrae  "
                    },
                    "execution_count": 73,
                    "metadata": {},
                    "output_type": "execute_result"
                }
            ],
            "source": "\nimport pandas as pd \nimport requests\nimport io\n \ndata2 = pd.read_csv(\"geopy.csv\") \n\ndata2.head()"
        },
        {
            "cell_type": "code",
            "execution_count": null,
            "metadata": {},
            "outputs": [],
            "source": ""
        },
        {
            "cell_type": "code",
            "execution_count": 74,
            "metadata": {},
            "outputs": [
                {
                    "data": {
                        "text/html": "<div>\n<style scoped>\n    .dataframe tbody tr th:only-of-type {\n        vertical-align: middle;\n    }\n\n    .dataframe tbody tr th {\n        vertical-align: top;\n    }\n\n    .dataframe thead th {\n        text-align: right;\n    }\n</style>\n<table border=\"1\" class=\"dataframe\">\n  <thead>\n    <tr style=\"text-align: right;\">\n      <th></th>\n      <th>Postal Code</th>\n      <th>Latitude</th>\n      <th>Longitude</th>\n    </tr>\n  </thead>\n  <tbody>\n    <tr>\n      <th>0</th>\n      <td>M1B</td>\n      <td>43.806686</td>\n      <td>-79.194353</td>\n    </tr>\n    <tr>\n      <th>1</th>\n      <td>M1C</td>\n      <td>43.784535</td>\n      <td>-79.160497</td>\n    </tr>\n    <tr>\n      <th>2</th>\n      <td>M1E</td>\n      <td>43.763573</td>\n      <td>-79.188711</td>\n    </tr>\n    <tr>\n      <th>3</th>\n      <td>M1G</td>\n      <td>43.770992</td>\n      <td>-79.216917</td>\n    </tr>\n    <tr>\n      <th>4</th>\n      <td>M1H</td>\n      <td>43.773136</td>\n      <td>-79.239476</td>\n    </tr>\n  </tbody>\n</table>\n</div>",
                        "text/plain": "  Postal Code   Latitude  Longitude\n0         M1B  43.806686 -79.194353\n1         M1C  43.784535 -79.160497\n2         M1E  43.763573 -79.188711\n3         M1G  43.770992 -79.216917\n4         M1H  43.773136 -79.239476"
                    },
                    "execution_count": 74,
                    "metadata": {},
                    "output_type": "execute_result"
                }
            ],
            "source": "\ndata3 = pd.read_csv(\"https://raw.githubusercontent.com/Juankboards/toronto_neighborhood_clustering/master/Geospatial_Coordinates.csv\") \n# Preview the first 5 lines of the loaded data \ndata3.head()"
        },
        {
            "cell_type": "code",
            "execution_count": 75,
            "metadata": {},
            "outputs": [],
            "source": "data3.rename(columns={'Postal Code': 'PostalCode'}, inplace=True)\n#data3.head()"
        },
        {
            "cell_type": "code",
            "execution_count": 76,
            "metadata": {},
            "outputs": [
                {
                    "data": {
                        "text/html": "<div>\n<style scoped>\n    .dataframe tbody tr th:only-of-type {\n        vertical-align: middle;\n    }\n\n    .dataframe tbody tr th {\n        vertical-align: top;\n    }\n\n    .dataframe thead th {\n        text-align: right;\n    }\n</style>\n<table border=\"1\" class=\"dataframe\">\n  <thead>\n    <tr style=\"text-align: right;\">\n      <th></th>\n      <th>PostalCode</th>\n      <th>Latitude</th>\n      <th>Longitude</th>\n      <th>Unnamed: 0</th>\n      <th>Borough</th>\n      <th>Neighborhood</th>\n      <th>address</th>\n    </tr>\n  </thead>\n  <tbody>\n    <tr>\n      <th>0</th>\n      <td>M1B</td>\n      <td>43.806686</td>\n      <td>-79.194353</td>\n      <td>0</td>\n      <td>Scarborough</td>\n      <td>Malvern / Rouge</td>\n      <td>M1B, Scarborough, Malvern / Rouge</td>\n    </tr>\n    <tr>\n      <th>1</th>\n      <td>M1C</td>\n      <td>43.784535</td>\n      <td>-79.160497</td>\n      <td>1</td>\n      <td>Scarborough</td>\n      <td>Rouge Hill / Port Union / Highland Creek</td>\n      <td>M1C, Scarborough, Rouge Hill / Port Union / Hi...</td>\n    </tr>\n    <tr>\n      <th>2</th>\n      <td>M1E</td>\n      <td>43.763573</td>\n      <td>-79.188711</td>\n      <td>2</td>\n      <td>Scarborough</td>\n      <td>Guildwood / Morningside / West Hill</td>\n      <td>M1E, Scarborough, Guildwood / Morningside / We...</td>\n    </tr>\n    <tr>\n      <th>3</th>\n      <td>M1G</td>\n      <td>43.770992</td>\n      <td>-79.216917</td>\n      <td>3</td>\n      <td>Scarborough</td>\n      <td>Woburn</td>\n      <td>M1G, Scarborough, Woburn</td>\n    </tr>\n    <tr>\n      <th>4</th>\n      <td>M1H</td>\n      <td>43.773136</td>\n      <td>-79.239476</td>\n      <td>4</td>\n      <td>Scarborough</td>\n      <td>Cedarbrae</td>\n      <td>M1H, Scarborough, Cedarbrae</td>\n    </tr>\n  </tbody>\n</table>\n</div>",
                        "text/plain": "  PostalCode   Latitude  Longitude  Unnamed: 0      Borough  \\\n0        M1B  43.806686 -79.194353           0  Scarborough   \n1        M1C  43.784535 -79.160497           1  Scarborough   \n2        M1E  43.763573 -79.188711           2  Scarborough   \n3        M1G  43.770992 -79.216917           3  Scarborough   \n4        M1H  43.773136 -79.239476           4  Scarborough   \n\n                               Neighborhood  \\\n0                           Malvern / Rouge   \n1  Rouge Hill / Port Union / Highland Creek   \n2       Guildwood / Morningside / West Hill   \n3                                    Woburn   \n4                                 Cedarbrae   \n\n                                             address  \n0                  M1B, Scarborough, Malvern / Rouge  \n1  M1C, Scarborough, Rouge Hill / Port Union / Hi...  \n2  M1E, Scarborough, Guildwood / Morningside / We...  \n3                           M1G, Scarborough, Woburn  \n4                        M1H, Scarborough, Cedarbrae  "
                    },
                    "execution_count": 76,
                    "metadata": {},
                    "output_type": "execute_result"
                }
            ],
            "source": "data1 = pd.merge(data3, data2, how='inner', on=None, left_on=None, right_on=None,\n         left_index=False, right_index=False, sort=True,\n         suffixes=('_x', '_y'), copy=True, indicator=False,\n         validate=None)\n\ndata1.head()"
        },
        {
            "cell_type": "code",
            "execution_count": 77,
            "metadata": {},
            "outputs": [
                {
                    "name": "stdout",
                    "output_type": "stream",
                    "text": "<class 'pandas.core.frame.DataFrame'>\nInt64Index: 103 entries, 0 to 102\nData columns (total 7 columns):\nPostalCode      103 non-null object\nLatitude        103 non-null float64\nLongitude       103 non-null float64\nUnnamed: 0      103 non-null int64\nBorough         103 non-null object\nNeighborhood    103 non-null object\naddress         103 non-null object\ndtypes: float64(2), int64(1), object(4)\nmemory usage: 6.4+ KB\n"
                }
            ],
            "source": "data1.info()"
        },
        {
            "cell_type": "code",
            "execution_count": 78,
            "metadata": {},
            "outputs": [
                {
                    "data": {
                        "text/plain": "['PostalCode',\n 'Latitude',\n 'Longitude',\n 'Unnamed: 0',\n 'Borough',\n 'Neighborhood',\n 'address']"
                    },
                    "execution_count": 78,
                    "metadata": {},
                    "output_type": "execute_result"
                }
            ],
            "source": "cols = data1.columns.tolist()\ncols"
        },
        {
            "cell_type": "code",
            "execution_count": 79,
            "metadata": {},
            "outputs": [
                {
                    "data": {
                        "text/plain": "['PostalCode', 'Borough', 'Neighborhood', 'Latitude', 'Longitude']"
                    },
                    "execution_count": 79,
                    "metadata": {},
                    "output_type": "execute_result"
                }
            ],
            "source": "new_column_order = ['PostalCode',\n 'Borough',\n 'Neighborhood',\n 'Latitude',\n 'Longitude']\nnew_column_order"
        },
        {
            "cell_type": "code",
            "execution_count": 80,
            "metadata": {},
            "outputs": [
                {
                    "data": {
                        "text/html": "<div>\n<style scoped>\n    .dataframe tbody tr th:only-of-type {\n        vertical-align: middle;\n    }\n\n    .dataframe tbody tr th {\n        vertical-align: top;\n    }\n\n    .dataframe thead th {\n        text-align: right;\n    }\n</style>\n<table border=\"1\" class=\"dataframe\">\n  <thead>\n    <tr style=\"text-align: right;\">\n      <th></th>\n      <th>PostalCode</th>\n      <th>Borough</th>\n      <th>Neighborhood</th>\n      <th>Latitude</th>\n      <th>Longitude</th>\n    </tr>\n  </thead>\n  <tbody>\n    <tr>\n      <th>0</th>\n      <td>M1B</td>\n      <td>Scarborough</td>\n      <td>Malvern / Rouge</td>\n      <td>43.806686</td>\n      <td>-79.194353</td>\n    </tr>\n    <tr>\n      <th>1</th>\n      <td>M1C</td>\n      <td>Scarborough</td>\n      <td>Rouge Hill / Port Union / Highland Creek</td>\n      <td>43.784535</td>\n      <td>-79.160497</td>\n    </tr>\n    <tr>\n      <th>2</th>\n      <td>M1E</td>\n      <td>Scarborough</td>\n      <td>Guildwood / Morningside / West Hill</td>\n      <td>43.763573</td>\n      <td>-79.188711</td>\n    </tr>\n    <tr>\n      <th>3</th>\n      <td>M1G</td>\n      <td>Scarborough</td>\n      <td>Woburn</td>\n      <td>43.770992</td>\n      <td>-79.216917</td>\n    </tr>\n    <tr>\n      <th>4</th>\n      <td>M1H</td>\n      <td>Scarborough</td>\n      <td>Cedarbrae</td>\n      <td>43.773136</td>\n      <td>-79.239476</td>\n    </tr>\n  </tbody>\n</table>\n</div>",
                        "text/plain": "  PostalCode      Borough                              Neighborhood  \\\n0        M1B  Scarborough                           Malvern / Rouge   \n1        M1C  Scarborough  Rouge Hill / Port Union / Highland Creek   \n2        M1E  Scarborough       Guildwood / Morningside / West Hill   \n3        M1G  Scarborough                                    Woburn   \n4        M1H  Scarborough                                 Cedarbrae   \n\n    Latitude  Longitude  \n0  43.806686 -79.194353  \n1  43.784535 -79.160497  \n2  43.763573 -79.188711  \n3  43.770992 -79.216917  \n4  43.773136 -79.239476  "
                    },
                    "execution_count": 80,
                    "metadata": {},
                    "output_type": "execute_result"
                }
            ],
            "source": "data1 = data1[new_column_order]\ndata1.head()"
        },
        {
            "cell_type": "code",
            "execution_count": 81,
            "metadata": {},
            "outputs": [
                {
                    "data": {
                        "text/html": "<div>\n<style scoped>\n    .dataframe tbody tr th:only-of-type {\n        vertical-align: middle;\n    }\n\n    .dataframe tbody tr th {\n        vertical-align: top;\n    }\n\n    .dataframe thead th {\n        text-align: right;\n    }\n</style>\n<table border=\"1\" class=\"dataframe\">\n  <thead>\n    <tr style=\"text-align: right;\">\n      <th></th>\n      <th>PostalCode</th>\n      <th>Borough</th>\n      <th>Neighborhood</th>\n      <th>Latitude</th>\n      <th>Longitude</th>\n    </tr>\n  </thead>\n  <tbody>\n    <tr>\n      <th>12</th>\n      <td>M1S</td>\n      <td>Scarborough</td>\n      <td>Agincourt</td>\n      <td>43.794200</td>\n      <td>-79.262029</td>\n    </tr>\n    <tr>\n      <th>89</th>\n      <td>M8W</td>\n      <td>Etobicoke</td>\n      <td>Alderwood / Long Branch</td>\n      <td>43.602414</td>\n      <td>-79.543484</td>\n    </tr>\n    <tr>\n      <th>28</th>\n      <td>M3H</td>\n      <td>NorthYork</td>\n      <td>Bathurst Manor / Wilson Heights / Downsview North</td>\n      <td>43.754328</td>\n      <td>-79.442259</td>\n    </tr>\n    <tr>\n      <th>19</th>\n      <td>M2K</td>\n      <td>NorthYork</td>\n      <td>Bayview Village</td>\n      <td>43.786947</td>\n      <td>-79.385975</td>\n    </tr>\n    <tr>\n      <th>62</th>\n      <td>M5M</td>\n      <td>NorthYork</td>\n      <td>Bedford Park / Lawrence Manor East</td>\n      <td>43.733283</td>\n      <td>-79.419750</td>\n    </tr>\n  </tbody>\n</table>\n</div>",
                        "text/plain": "   PostalCode      Borough                                       Neighborhood  \\\n12        M1S  Scarborough                                          Agincourt   \n89        M8W    Etobicoke                            Alderwood / Long Branch   \n28        M3H    NorthYork  Bathurst Manor / Wilson Heights / Downsview North   \n19        M2K    NorthYork                                    Bayview Village   \n62        M5M    NorthYork                 Bedford Park / Lawrence Manor East   \n\n     Latitude  Longitude  \n12  43.794200 -79.262029  \n89  43.602414 -79.543484  \n28  43.754328 -79.442259  \n19  43.786947 -79.385975  \n62  43.733283 -79.419750  "
                    },
                    "execution_count": 81,
                    "metadata": {},
                    "output_type": "execute_result"
                }
            ],
            "source": "sorted_df = data1.sort_values([ 'Neighborhood', 'Latitude'], ascending=[True, True])\nsorted_df.head()\n# no idea how to get it exacly like the exqample"
        },
        {
            "cell_type": "code",
            "execution_count": 82,
            "metadata": {},
            "outputs": [
                {
                    "data": {
                        "text/html": "<div>\n<style scoped>\n    .dataframe tbody tr th:only-of-type {\n        vertical-align: middle;\n    }\n\n    .dataframe tbody tr th {\n        vertical-align: top;\n    }\n\n    .dataframe thead th {\n        text-align: right;\n    }\n</style>\n<table border=\"1\" class=\"dataframe\">\n  <thead>\n    <tr style=\"text-align: right;\">\n      <th></th>\n      <th>index</th>\n      <th>PostalCode</th>\n      <th>Borough</th>\n      <th>Neighborhood</th>\n      <th>Latitude</th>\n      <th>Longitude</th>\n    </tr>\n  </thead>\n  <tbody>\n    <tr>\n      <th>0</th>\n      <td>12</td>\n      <td>M1S</td>\n      <td>Scarborough</td>\n      <td>Agincourt</td>\n      <td>43.794200</td>\n      <td>-79.262029</td>\n    </tr>\n    <tr>\n      <th>1</th>\n      <td>89</td>\n      <td>M8W</td>\n      <td>Etobicoke</td>\n      <td>Alderwood / Long Branch</td>\n      <td>43.602414</td>\n      <td>-79.543484</td>\n    </tr>\n    <tr>\n      <th>2</th>\n      <td>28</td>\n      <td>M3H</td>\n      <td>NorthYork</td>\n      <td>Bathurst Manor / Wilson Heights / Downsview North</td>\n      <td>43.754328</td>\n      <td>-79.442259</td>\n    </tr>\n    <tr>\n      <th>3</th>\n      <td>19</td>\n      <td>M2K</td>\n      <td>NorthYork</td>\n      <td>Bayview Village</td>\n      <td>43.786947</td>\n      <td>-79.385975</td>\n    </tr>\n    <tr>\n      <th>4</th>\n      <td>62</td>\n      <td>M5M</td>\n      <td>NorthYork</td>\n      <td>Bedford Park / Lawrence Manor East</td>\n      <td>43.733283</td>\n      <td>-79.419750</td>\n    </tr>\n  </tbody>\n</table>\n</div>",
                        "text/plain": "   index PostalCode      Borough  \\\n0     12        M1S  Scarborough   \n1     89        M8W    Etobicoke   \n2     28        M3H    NorthYork   \n3     19        M2K    NorthYork   \n4     62        M5M    NorthYork   \n\n                                        Neighborhood   Latitude  Longitude  \n0                                          Agincourt  43.794200 -79.262029  \n1                            Alderwood / Long Branch  43.602414 -79.543484  \n2  Bathurst Manor / Wilson Heights / Downsview North  43.754328 -79.442259  \n3                                    Bayview Village  43.786947 -79.385975  \n4                 Bedford Park / Lawrence Manor East  43.733283 -79.419750  "
                    },
                    "execution_count": 82,
                    "metadata": {},
                    "output_type": "execute_result"
                }
            ],
            "source": "sorted_df.reset_index(inplace=True)\nsorted_df.head()\n"
        },
        {
            "cell_type": "code",
            "execution_count": 83,
            "metadata": {},
            "outputs": [
                {
                    "data": {
                        "text/plain": "['index', 'PostalCode', 'Borough', 'Neighborhood', 'Latitude', 'Longitude']"
                    },
                    "execution_count": 83,
                    "metadata": {},
                    "output_type": "execute_result"
                }
            ],
            "source": "sorted_cols =sorted_df.columns.tolist()\nsorted_cols"
        },
        {
            "cell_type": "code",
            "execution_count": 84,
            "metadata": {},
            "outputs": [
                {
                    "data": {
                        "text/plain": "['PostalCode', 'Borough', 'Neighborhood', 'Latitude', 'Longitude']"
                    },
                    "execution_count": 84,
                    "metadata": {},
                    "output_type": "execute_result"
                }
            ],
            "source": "new_column_order2 = ['PostalCode',\n 'Borough',\n 'Neighborhood',\n 'Latitude',\n 'Longitude']\nnew_column_order2"
        },
        {
            "cell_type": "code",
            "execution_count": 85,
            "metadata": {},
            "outputs": [
                {
                    "data": {
                        "text/html": "<div>\n<style scoped>\n    .dataframe tbody tr th:only-of-type {\n        vertical-align: middle;\n    }\n\n    .dataframe tbody tr th {\n        vertical-align: top;\n    }\n\n    .dataframe thead th {\n        text-align: right;\n    }\n</style>\n<table border=\"1\" class=\"dataframe\">\n  <thead>\n    <tr style=\"text-align: right;\">\n      <th></th>\n      <th>PostalCode</th>\n      <th>Borough</th>\n      <th>Neighborhood</th>\n      <th>Latitude</th>\n      <th>Longitude</th>\n    </tr>\n  </thead>\n  <tbody>\n    <tr>\n      <th>0</th>\n      <td>M1S</td>\n      <td>Scarborough</td>\n      <td>Agincourt</td>\n      <td>43.794200</td>\n      <td>-79.262029</td>\n    </tr>\n    <tr>\n      <th>1</th>\n      <td>M8W</td>\n      <td>Etobicoke</td>\n      <td>Alderwood / Long Branch</td>\n      <td>43.602414</td>\n      <td>-79.543484</td>\n    </tr>\n    <tr>\n      <th>2</th>\n      <td>M3H</td>\n      <td>NorthYork</td>\n      <td>Bathurst Manor / Wilson Heights / Downsview North</td>\n      <td>43.754328</td>\n      <td>-79.442259</td>\n    </tr>\n    <tr>\n      <th>3</th>\n      <td>M2K</td>\n      <td>NorthYork</td>\n      <td>Bayview Village</td>\n      <td>43.786947</td>\n      <td>-79.385975</td>\n    </tr>\n    <tr>\n      <th>4</th>\n      <td>M5M</td>\n      <td>NorthYork</td>\n      <td>Bedford Park / Lawrence Manor East</td>\n      <td>43.733283</td>\n      <td>-79.419750</td>\n    </tr>\n  </tbody>\n</table>\n</div>",
                        "text/plain": "  PostalCode      Borough                                       Neighborhood  \\\n0        M1S  Scarborough                                          Agincourt   \n1        M8W    Etobicoke                            Alderwood / Long Branch   \n2        M3H    NorthYork  Bathurst Manor / Wilson Heights / Downsview North   \n3        M2K    NorthYork                                    Bayview Village   \n4        M5M    NorthYork                 Bedford Park / Lawrence Manor East   \n\n    Latitude  Longitude  \n0  43.794200 -79.262029  \n1  43.602414 -79.543484  \n2  43.754328 -79.442259  \n3  43.786947 -79.385975  \n4  43.733283 -79.419750  "
                    },
                    "execution_count": 85,
                    "metadata": {},
                    "output_type": "execute_result"
                }
            ],
            "source": "sorted_dataframe = sorted_df[new_column_order]\nsorted_dataframe.head()"
        },
        {
            "cell_type": "markdown",
            "metadata": {},
            "source": "***2.3 Notebook to Github repository***"
        },
        {
            "cell_type": "code",
            "execution_count": 86,
            "metadata": {},
            "outputs": [],
            "source": "sorted_dataframe.to_csv('sorted_geoloc.csv')"
        },
        {
            "cell_type": "markdown",
            "metadata": {},
            "source": "*** Part Q3 +++++++++++++++++++++++++++++++++++++++++++++++++++++++++++++++++++++++++++++++++++++++++++++++++++++++++++++++++ ***"
        },
        {
            "cell_type": "markdown",
            "metadata": {},
            "source": "***3.1 Test Boroughs in Toronto***"
        },
        {
            "cell_type": "code",
            "execution_count": 87,
            "metadata": {},
            "outputs": [
                {
                    "name": "stdout",
                    "output_type": "stream",
                    "text": "Libraries imported.\n"
                }
            ],
            "source": "import numpy as np # library to handle data in a vectorized manner\n\nimport pandas as pd # library for data analsysis\npd.set_option('display.max_columns', None)\npd.set_option('display.max_rows', None)\n\nimport json # library to handle JSON files\n\n#!conda install -c conda-forge geopy --yes # uncomment this line if you haven't completed the Foursquare API lab\nfrom geopy.geocoders import Nominatim # convert an address into latitude and longitude values\n\nimport requests # library to handle requests\nfrom pandas.io.json import json_normalize # tranform JSON file into a pandas dataframe\n\n# Matplotlib and associated plotting modules\nimport matplotlib.cm as cm\nimport matplotlib.colors as colors\n\n# import k-means from clustering stage\nfrom sklearn.cluster import KMeans\n\n#!conda install -c conda-forge folium=0.5.0 --yes # uncomment this line if you haven't completed the Foursquare API lab\nimport folium # map rendering library\n\nprint('Libraries imported.')"
        },
        {
            "cell_type": "code",
            "execution_count": 88,
            "metadata": {},
            "outputs": [],
            "source": "# library to handle JSON files\n\nimport pandas as pd\n\nimport json\n\nsorted_dataframe.to_json(path_or_buf='geo_toronto.json', orient='table')"
        },
        {
            "cell_type": "code",
            "execution_count": 89,
            "metadata": {},
            "outputs": [],
            "source": "with open('geo_toronto.json') as json_data:\n    Toronto_data = json.load(json_data)"
        },
        {
            "cell_type": "code",
            "execution_count": 90,
            "metadata": {},
            "outputs": [
                {
                    "data": {
                        "text/plain": "{'index': 0,\n 'PostalCode': 'M1S',\n 'Borough': 'Scarborough',\n 'Neighborhood': 'Agincourt',\n 'Latitude': 43.7942003,\n 'Longitude': -79.2620294}"
                    },
                    "execution_count": 90,
                    "metadata": {},
                    "output_type": "execute_result"
                }
            ],
            "source": "neighborhoods_data = Toronto_data['data']\nneighborhoods_data[0]\n#Let's take a look at the first item in this list."
        },
        {
            "cell_type": "code",
            "execution_count": 91,
            "metadata": {},
            "outputs": [
                {
                    "name": "stdout",
                    "output_type": "stream",
                    "text": "<class 'pandas.core.frame.DataFrame'>\nRangeIndex: 103 entries, 0 to 102\nData columns (total 5 columns):\nPostalCode      103 non-null object\nBorough         103 non-null object\nNeighborhood    103 non-null object\nLatitude        103 non-null float64\nLongitude       103 non-null float64\ndtypes: float64(2), object(3)\nmemory usage: 4.1+ KB\n"
                },
                {
                    "data": {
                        "text/plain": "(103, 5)"
                    },
                    "execution_count": 91,
                    "metadata": {},
                    "output_type": "execute_result"
                }
            ],
            "source": "sorted_dataframe.info()\nsorted_dataframe.shape"
        },
        {
            "cell_type": "code",
            "execution_count": 92,
            "metadata": {},
            "outputs": [
                {
                    "data": {
                        "text/html": "<div>\n<style scoped>\n    .dataframe tbody tr th:only-of-type {\n        vertical-align: middle;\n    }\n\n    .dataframe tbody tr th {\n        vertical-align: top;\n    }\n\n    .dataframe thead th {\n        text-align: right;\n    }\n</style>\n<table border=\"1\" class=\"dataframe\">\n  <thead>\n    <tr style=\"text-align: right;\">\n      <th></th>\n      <th>PostalCode</th>\n      <th>Borough</th>\n      <th>Neighborhood</th>\n      <th>Latitude</th>\n      <th>Longitude</th>\n    </tr>\n  </thead>\n  <tbody>\n    <tr>\n      <th>0</th>\n      <td>M1S</td>\n      <td>Scarborough</td>\n      <td>Agincourt</td>\n      <td>43.794200</td>\n      <td>-79.262029</td>\n    </tr>\n    <tr>\n      <th>1</th>\n      <td>M8W</td>\n      <td>Etobicoke</td>\n      <td>Alderwood / Long Branch</td>\n      <td>43.602414</td>\n      <td>-79.543484</td>\n    </tr>\n    <tr>\n      <th>2</th>\n      <td>M3H</td>\n      <td>NorthYork</td>\n      <td>Bathurst Manor / Wilson Heights / Downsview North</td>\n      <td>43.754328</td>\n      <td>-79.442259</td>\n    </tr>\n    <tr>\n      <th>3</th>\n      <td>M2K</td>\n      <td>NorthYork</td>\n      <td>Bayview Village</td>\n      <td>43.786947</td>\n      <td>-79.385975</td>\n    </tr>\n    <tr>\n      <th>4</th>\n      <td>M5M</td>\n      <td>NorthYork</td>\n      <td>Bedford Park / Lawrence Manor East</td>\n      <td>43.733283</td>\n      <td>-79.419750</td>\n    </tr>\n  </tbody>\n</table>\n</div>",
                        "text/plain": "  PostalCode      Borough                                       Neighborhood  \\\n0        M1S  Scarborough                                          Agincourt   \n1        M8W    Etobicoke                            Alderwood / Long Branch   \n2        M3H    NorthYork  Bathurst Manor / Wilson Heights / Downsview North   \n3        M2K    NorthYork                                    Bayview Village   \n4        M5M    NorthYork                 Bedford Park / Lawrence Manor East   \n\n    Latitude  Longitude  \n0  43.794200 -79.262029  \n1  43.602414 -79.543484  \n2  43.754328 -79.442259  \n3  43.786947 -79.385975  \n4  43.733283 -79.419750  "
                    },
                    "execution_count": 92,
                    "metadata": {},
                    "output_type": "execute_result"
                }
            ],
            "source": "sorted_dataframe.head()"
        },
        {
            "cell_type": "code",
            "execution_count": 93,
            "metadata": {},
            "outputs": [
                {
                    "name": "stdout",
                    "output_type": "stream",
                    "text": "The dataframe has 10 boroughs and 103 neighborhoods.\n"
                }
            ],
            "source": "print('The dataframe has {} boroughs and {} neighborhoods.'.format(\n        len(sorted_dataframe['Borough'].unique()),\n        sorted_dataframe.shape[0]\n    )\n)"
        },
        {
            "cell_type": "code",
            "execution_count": null,
            "metadata": {},
            "outputs": [],
            "source": ""
        },
        {
            "cell_type": "code",
            "execution_count": null,
            "metadata": {},
            "outputs": [],
            "source": ""
        },
        {
            "cell_type": "code",
            "execution_count": null,
            "metadata": {},
            "outputs": [],
            "source": ""
        },
        {
            "cell_type": "code",
            "execution_count": null,
            "metadata": {},
            "outputs": [],
            "source": ""
        },
        {
            "cell_type": "markdown",
            "metadata": {},
            "source": "*** How to get coordonates***"
        },
        {
            "cell_type": "code",
            "execution_count": 94,
            "metadata": {},
            "outputs": [
                {
                    "name": "stdout",
                    "output_type": "stream",
                    "text": "The geograpical coordinate of Adelaide are -34.9281805, 138.5999312.\n"
                }
            ],
            "source": "address = 'Adelaide'\n\ngeolocator = Nominatim(user_agent=\"Clustering_Neighborhoods_in_Toronto\")\nlocation = geolocator.geocode(address)\nlatitude = location.latitude\nlongitude = location.longitude\nprint('The geograpical coordinate of Adelaide are {}, {}.'.format(latitude, longitude))"
        },
        {
            "cell_type": "markdown",
            "metadata": {},
            "source": "***How to map with Folium***"
        },
        {
            "cell_type": "code",
            "execution_count": 95,
            "metadata": {},
            "outputs": [
                {
                    "name": "stdout",
                    "output_type": "stream",
                    "text": "Solving environment: - ^C\nfailed\n\nCondaError: KeyboardInterrupt\n\n"
                }
            ],
            "source": "!conda install -c conda-forge folium=0.5.0 "
        },
        {
            "cell_type": "markdown",
            "metadata": {},
            "source": "***Generate Maps, open them on browser!***"
        },
        {
            "cell_type": "code",
            "execution_count": 96,
            "metadata": {},
            "outputs": [
                {
                    "name": "stdout",
                    "output_type": "stream",
                    "text": "imported pandas & folium\n"
                }
            ],
            "source": "import pandas as pd\nimport folium\n\nprint('imported pandas & folium')"
        },
        {
            "cell_type": "markdown",
            "metadata": {},
            "source": "***Map generated with folium default markers***"
        },
        {
            "cell_type": "code",
            "execution_count": 97,
            "metadata": {},
            "outputs": [],
            "source": "import pandas as pd\nimport folium\n\n#grab a random sample from df\nsubset_of_df = sorted_dataframe.sample(n=11)\nmap_test = folium.Map(location=[subset_of_df['Latitude'].mean(), \n                                subset_of_df['Longitude'].mean()], \n                      zoom_start=10)\n\n\n    \n#map_test\n\n#open map_test.html in browser\nmap_test.save(\"map_test.html\")\n\n# if you cannot generate the maps open PGA_map_*.html from the zip file\n"
        },
        {
            "cell_type": "markdown",
            "metadata": {},
            "source": "***Test Borough data, map with markerClusters:***"
        },
        {
            "cell_type": "code",
            "execution_count": 98,
            "metadata": {},
            "outputs": [],
            "source": "from folium.plugins import MarkerCluster\nmap_borough = folium.Map(location=[subset_of_df['Latitude'].mean(), \n subset_of_df['Longitude'].mean()], \n zoom_start=10)\nmc = MarkerCluster()\n#creating a Marker for each point in df_sample. Each point will get a popup with their zip\nfor row in subset_of_df.itertuples():\n    mc.add_child(folium.Marker(location=[row.Latitude,  row.Longitude],\n                 popup=row.Borough))\n    map_borough.add_child(mc)\n\n\n#map_borough\n\n#open in map_borough.html browser \nmap_borough.save(\"map_borough.html\")\n\n#if you cannot generate the maps open PGA_map_*.html from the zip file"
        },
        {
            "cell_type": "markdown",
            "metadata": {},
            "source": "***3.2 Analysis on Toronto Neighborhoods***"
        },
        {
            "cell_type": "code",
            "execution_count": 99,
            "metadata": {},
            "outputs": [],
            "source": "import pandas as pd\nimport folium\n\n\n\n#grab a random sample from df\ntoronto_n = sorted_dataframe.sample(n=20)\nmap_toronto = folium.Map(location=[toronto_n['Latitude'].mean(), \n                                toronto_n['Longitude'].mean()], \n                      zoom_start=10)\n#creating a Marker for each point in df_sample. Each point will get a popup with their zip\nfor row in toronto_n.itertuples():\n    map_toronto.add_child(folium.Marker(location=[row.Latitude ,row.Longitude],\n           popup=row.Neighborhood))\n\n    \nmap_toronto \n\n#open map_toronto.html in browser\n\nmap_toronto.save(\"map_toronto20.html\")\n\n#if you cannot generate the maps open PGA_map_*.html from the zip file"
        },
        {
            "cell_type": "markdown",
            "metadata": {},
            "source": "***3.3 Foursquare API to Explore Neighborhoods in Toronto***"
        },
        {
            "cell_type": "code",
            "execution_count": 100,
            "metadata": {},
            "outputs": [
                {
                    "data": {
                        "text/html": "<div>\n<style scoped>\n    .dataframe tbody tr th:only-of-type {\n        vertical-align: middle;\n    }\n\n    .dataframe tbody tr th {\n        vertical-align: top;\n    }\n\n    .dataframe thead th {\n        text-align: right;\n    }\n</style>\n<table border=\"1\" class=\"dataframe\">\n  <thead>\n    <tr style=\"text-align: right;\">\n      <th></th>\n      <th>PostalCode</th>\n      <th>Borough</th>\n      <th>Neighborhood</th>\n      <th>Latitude</th>\n      <th>Longitude</th>\n    </tr>\n  </thead>\n  <tbody>\n    <tr>\n      <th>0</th>\n      <td>M1S</td>\n      <td>Scarborough</td>\n      <td>Agincourt</td>\n      <td>43.794200</td>\n      <td>-79.262029</td>\n    </tr>\n    <tr>\n      <th>1</th>\n      <td>M8W</td>\n      <td>Etobicoke</td>\n      <td>Alderwood / Long Branch</td>\n      <td>43.602414</td>\n      <td>-79.543484</td>\n    </tr>\n    <tr>\n      <th>2</th>\n      <td>M3H</td>\n      <td>NorthYork</td>\n      <td>Bathurst Manor / Wilson Heights / Downsview North</td>\n      <td>43.754328</td>\n      <td>-79.442259</td>\n    </tr>\n    <tr>\n      <th>3</th>\n      <td>M2K</td>\n      <td>NorthYork</td>\n      <td>Bayview Village</td>\n      <td>43.786947</td>\n      <td>-79.385975</td>\n    </tr>\n    <tr>\n      <th>4</th>\n      <td>M5M</td>\n      <td>NorthYork</td>\n      <td>Bedford Park / Lawrence Manor East</td>\n      <td>43.733283</td>\n      <td>-79.419750</td>\n    </tr>\n  </tbody>\n</table>\n</div>",
                        "text/plain": "  PostalCode      Borough                                       Neighborhood  \\\n0        M1S  Scarborough                                          Agincourt   \n1        M8W    Etobicoke                            Alderwood / Long Branch   \n2        M3H    NorthYork  Bathurst Manor / Wilson Heights / Downsview North   \n3        M2K    NorthYork                                    Bayview Village   \n4        M5M    NorthYork                 Bedford Park / Lawrence Manor East   \n\n    Latitude  Longitude  \n0  43.794200 -79.262029  \n1  43.602414 -79.543484  \n2  43.754328 -79.442259  \n3  43.786947 -79.385975  \n4  43.733283 -79.419750  "
                    },
                    "execution_count": 100,
                    "metadata": {},
                    "output_type": "execute_result"
                }
            ],
            "source": "sorted_dataframe.head()"
        },
        {
            "cell_type": "code",
            "execution_count": 101,
            "metadata": {},
            "outputs": [
                {
                    "name": "stdout",
                    "output_type": "stream",
                    "text": "<class 'pandas.core.frame.DataFrame'>\nRangeIndex: 103 entries, 0 to 102\nData columns (total 5 columns):\nPostalCode      103 non-null object\nBorough         103 non-null object\nNeighborhood    103 non-null object\nLatitude        103 non-null float64\nLongitude       103 non-null float64\ndtypes: float64(2), object(3)\nmemory usage: 4.1+ KB\n"
                }
            ],
            "source": "sorted_dataframe.info()"
        },
        {
            "cell_type": "code",
            "execution_count": 102,
            "metadata": {},
            "outputs": [
                {
                    "name": "stdout",
                    "output_type": "stream",
                    "text": "The dataframe has 10 boroughs and 103 neighborhoods.\n"
                }
            ],
            "source": "print('The dataframe has {} boroughs and {} neighborhoods.'.format(\n        len(sorted_dataframe['Borough'].unique()),\n        sorted_dataframe.shape[0]\n    )\n)"
        },
        {
            "cell_type": "code",
            "execution_count": 103,
            "metadata": {},
            "outputs": [
                {
                    "name": "stdout",
                    "output_type": "stream",
                    "text": "The geograpical coordinate of Toronto are 43.6534817, -79.3839347.\n"
                }
            ],
            "source": "address = 'Toronto, CA'\n\ngeolocator = Nominatim(user_agent=\"Clustering_Neighborhoods_in_Toronto\")\nlocation = geolocator.geocode(address)\nlatitude = location.latitude\nlongitude = location.longitude\nprint('The geograpical coordinate of Toronto are {}, {}.'.format(latitude, longitude))"
        },
        {
            "cell_type": "markdown",
            "metadata": {},
            "source": "***Create Map of Toronto***"
        },
        {
            "cell_type": "code",
            "execution_count": 104,
            "metadata": {},
            "outputs": [],
            "source": "# create map of Toronto using latitude and longitude values\nmap_toronto_neighborhoods = folium.Map(location=[latitude, longitude], zoom_start=10)\n\n# add markers to map\nfor lat, lng, borough, neighborhood in zip(sorted_dataframe['Latitude'], sorted_dataframe['Longitude'], sorted_dataframe['Borough'], sorted_dataframe['Neighborhood']):\n    label = '{}, {}'.format(neighborhood, borough)\n    label = folium.Popup(label, parse_html=True)\n    folium.CircleMarker(\n        [lat, lng],\n        radius=2,\n        popup=label,\n        color='blue',\n        fill=True,\n        fill_color='#3186cc',\n        fill_opacity=0.7,\n        parse_html=False).add_to(map_toronto_neighborhoods)  \n    \nmap_toronto_neighborhoods\n\nmap_toronto_neighborhoods.save(\"map_toronto_neighbourhoods.html\")\n\n#open map_toronto_neighborhoods.html in browser\n#if you cannot generate the maps open PGA_map_*.html from the zip file"
        },
        {
            "cell_type": "code",
            "execution_count": 105,
            "metadata": {},
            "outputs": [
                {
                    "name": "stdout",
                    "output_type": "stream",
                    "text": "The geograpical coordinates of York, Toronto are 43.67910515, -79.49118414007154.\n"
                }
            ],
            "source": "address = 'York, Toronto'\n\ngeolocator = Nominatim(user_agent=\"Clustering_Neighborhoods_in_Toronto\")\nlocation = geolocator.geocode(address)\nlatitude = location.latitude\nlongitude = location.longitude\nprint('The geograpical coordinates of York, Toronto are {}, {}.'.format(latitude, longitude))"
        },
        {
            "cell_type": "code",
            "execution_count": 106,
            "metadata": {},
            "outputs": [
                {
                    "data": {
                        "text/html": "<div>\n<style scoped>\n    .dataframe tbody tr th:only-of-type {\n        vertical-align: middle;\n    }\n\n    .dataframe tbody tr th {\n        vertical-align: top;\n    }\n\n    .dataframe thead th {\n        text-align: right;\n    }\n</style>\n<table border=\"1\" class=\"dataframe\">\n  <thead>\n    <tr style=\"text-align: right;\">\n      <th></th>\n      <th>PostalCode</th>\n      <th>Borough</th>\n      <th>Neighborhood</th>\n      <th>Latitude</th>\n      <th>Longitude</th>\n    </tr>\n  </thead>\n  <tbody>\n    <tr>\n      <th>0</th>\n      <td>M6E</td>\n      <td>York</td>\n      <td>Caledonia-Fairbanks</td>\n      <td>43.689026</td>\n      <td>-79.453512</td>\n    </tr>\n    <tr>\n      <th>1</th>\n      <td>M6M</td>\n      <td>York</td>\n      <td>Del Ray / Mount Dennis / Keelsdale and Silvert...</td>\n      <td>43.691116</td>\n      <td>-79.476013</td>\n    </tr>\n    <tr>\n      <th>2</th>\n      <td>M6C</td>\n      <td>York</td>\n      <td>Humewood-Cedarvale</td>\n      <td>43.693781</td>\n      <td>-79.428191</td>\n    </tr>\n    <tr>\n      <th>3</th>\n      <td>M6N</td>\n      <td>York</td>\n      <td>Runnymede / The Junction North</td>\n      <td>43.673185</td>\n      <td>-79.487262</td>\n    </tr>\n    <tr>\n      <th>4</th>\n      <td>M9N</td>\n      <td>York</td>\n      <td>Weston</td>\n      <td>43.706876</td>\n      <td>-79.518188</td>\n    </tr>\n  </tbody>\n</table>\n</div>",
                        "text/plain": "  PostalCode Borough                                       Neighborhood  \\\n0        M6E    York                                Caledonia-Fairbanks   \n1        M6M    York  Del Ray / Mount Dennis / Keelsdale and Silvert...   \n2        M6C    York                                 Humewood-Cedarvale   \n3        M6N    York                     Runnymede / The Junction North   \n4        M9N    York                                             Weston   \n\n    Latitude  Longitude  \n0  43.689026 -79.453512  \n1  43.691116 -79.476013  \n2  43.693781 -79.428191  \n3  43.673185 -79.487262  \n4  43.706876 -79.518188  "
                    },
                    "execution_count": 106,
                    "metadata": {},
                    "output_type": "execute_result"
                }
            ],
            "source": "york_data = sorted_dataframe[sorted_dataframe['Borough'] == 'York'].reset_index(drop=True)\nyork_data"
        },
        {
            "cell_type": "code",
            "execution_count": 107,
            "metadata": {},
            "outputs": [
                {
                    "name": "stdout",
                    "output_type": "stream",
                    "text": "<class 'pandas.core.frame.DataFrame'>\nRangeIndex: 5 entries, 0 to 4\nData columns (total 5 columns):\nPostalCode      5 non-null object\nBorough         5 non-null object\nNeighborhood    5 non-null object\nLatitude        5 non-null float64\nLongitude       5 non-null float64\ndtypes: float64(2), object(3)\nmemory usage: 280.0+ bytes\n"
                }
            ],
            "source": "york_data.info()"
        },
        {
            "cell_type": "code",
            "execution_count": 108,
            "metadata": {},
            "outputs": [],
            "source": "# create map of Manhattan using latitude and longitude values\nmap_york_toronto = folium.Map(location=[latitude, longitude], zoom_start=11)\n\n# add markers to map\nfor lat, lng, label in zip(york_data['Latitude'], york_data['Longitude'], york_data['Neighborhood']):\n    label = folium.Popup(label, parse_html=True)\n    folium.CircleMarker(\n        [lat, lng],\n        radius=5,\n        popup=label,\n        color='blue',\n        fill=True,\n        fill_color='#3186cc',\n        fill_opacity=0.7,\n        parse_html=False).add_to(map_york_toronto)  \n    \nmap_york_toronto\n\nmap_york_toronto.save(\"map_york_toronto.html\")\n\n#open map_york_toronto.html in browser\n#if you cannot generate the maps open PGA_map_*.html from the zip file\n"
        },
        {
            "cell_type": "code",
            "execution_count": null,
            "metadata": {},
            "outputs": [],
            "source": ""
        },
        {
            "cell_type": "code",
            "execution_count": 109,
            "metadata": {},
            "outputs": [
                {
                    "name": "stdout",
                    "output_type": "stream",
                    "text": "My credentails: ***\nCLIENT_ID: 1N5Y02JWCUQPQPTM01N3UTLYMIGXTXX4PWQQWSBOHL0B3N1K\nCLIENT_SECRET:WBWV1QH453VRI2E1DM52CYCYZQFXFWB0UHDF3N1BJ4CIDM1P\n"
                }
            ],
            "source": "CLIENT_ID = '1N5Y02JWCUQPQPTM01N3UTLYMIGXTXX4PWQQWSBOHL0B3N1K' # your Foursquare ID\nCLIENT_SECRET = 'WBWV1QH453VRI2E1DM52CYCYZQFXFWB0UHDF3N1BJ4CIDM1P' # your Foursquare Secret\nVERSION = '20180605' # Foursquare API version\nprint('My credentails: ***')\nprint('CLIENT_ID: ' + CLIENT_ID)\nprint('CLIENT_SECRET:' + CLIENT_SECRET)"
        },
        {
            "cell_type": "code",
            "execution_count": 110,
            "metadata": {},
            "outputs": [
                {
                    "name": "stdout",
                    "output_type": "stream",
                    "text": "<class 'pandas.core.frame.DataFrame'>\nRangeIndex: 5 entries, 0 to 4\nData columns (total 5 columns):\nPostalCode      5 non-null object\nBorough         5 non-null object\nNeighborhood    5 non-null object\nLatitude        5 non-null float64\nLongitude       5 non-null float64\ndtypes: float64(2), object(3)\nmemory usage: 280.0+ bytes\n"
                }
            ],
            "source": "york_data.info()"
        },
        {
            "cell_type": "code",
            "execution_count": 111,
            "metadata": {},
            "outputs": [
                {
                    "name": "stdout",
                    "output_type": "stream",
                    "text": "Latitude and longitude values of Caledonia-Fairbanks are 43.6890256, -79.453512.\n"
                }
            ],
            "source": "neighborhood_latitude = york_data.loc[0, 'Latitude'] # neighborhood latitude value\nneighborhood_longitude = york_data.loc[0, 'Longitude'] # neighborhood longitude value\n\nneighborhood_name = york_data.loc[0, 'Neighborhood'] # neighborhood name\n\nprint('Latitude and longitude values of {} are {}, {}.'.format(neighborhood_name, \n                                                               neighborhood_latitude, \n                                                               neighborhood_longitude))"
        },
        {
            "cell_type": "code",
            "execution_count": 112,
            "metadata": {},
            "outputs": [
                {
                    "data": {
                        "text/plain": "'https://api.foursquare.com/v2/venues/explore?&client_id=1N5Y02JWCUQPQPTM01N3UTLYMIGXTXX4PWQQWSBOHL0B3N1K&client_secret=WBWV1QH453VRI2E1DM52CYCYZQFXFWB0UHDF3N1BJ4CIDM1P&v=20180605&ll=43.6890256,-79.453512&radius=500&limit=100'"
                    },
                    "execution_count": 112,
                    "metadata": {},
                    "output_type": "execute_result"
                }
            ],
            "source": "LIMIT = 100\nradius = 500\nurl = 'https://api.foursquare.com/v2/venues/explore?&client_id={}&client_secret={}&v={}&ll={},{}&radius={}&limit={}'.format(\nCLIENT_ID, \n\nCLIENT_SECRET, \n\nVERSION, \n\nneighborhood_latitude, \n\nneighborhood_longitude, \n\nradius, \n\nLIMIT)\n\nurl"
        },
        {
            "cell_type": "code",
            "execution_count": 113,
            "metadata": {},
            "outputs": [],
            "source": "york_results = requests.get(url).json()\n#york_results"
        },
        {
            "cell_type": "markdown",
            "metadata": {},
            "source": "***3.4 Get Common Venue Categories in Neighborhood***"
        },
        {
            "cell_type": "code",
            "execution_count": 114,
            "metadata": {},
            "outputs": [],
            "source": "# function that extracts the category of the venue\ndef get_category_type(row):\n    try:\n        categories_list = row['categories']\n    except:\n        categories_list = row['venue.categories']\n        \n    if len(categories_list) == 0:\n        return None\n    else:\n        return categories_list[0]['name']"
        },
        {
            "cell_type": "code",
            "execution_count": 115,
            "metadata": {},
            "outputs": [
                {
                    "data": {
                        "text/html": "<div>\n<style scoped>\n    .dataframe tbody tr th:only-of-type {\n        vertical-align: middle;\n    }\n\n    .dataframe tbody tr th {\n        vertical-align: top;\n    }\n\n    .dataframe thead th {\n        text-align: right;\n    }\n</style>\n<table border=\"1\" class=\"dataframe\">\n  <thead>\n    <tr style=\"text-align: right;\">\n      <th></th>\n      <th>name</th>\n      <th>categories</th>\n      <th>lat</th>\n      <th>lng</th>\n    </tr>\n  </thead>\n  <tbody>\n    <tr>\n      <th>0</th>\n      <td>Nairn Park</td>\n      <td>Park</td>\n      <td>43.690654</td>\n      <td>-79.456300</td>\n    </tr>\n    <tr>\n      <th>1</th>\n      <td>Maximum Woman</td>\n      <td>Women's Store</td>\n      <td>43.690651</td>\n      <td>-79.456333</td>\n    </tr>\n    <tr>\n      <th>2</th>\n      <td>Fairbanks Pool</td>\n      <td>Pool</td>\n      <td>43.691959</td>\n      <td>-79.448922</td>\n    </tr>\n    <tr>\n      <th>3</th>\n      <td>Fairbank Memorial Park</td>\n      <td>Park</td>\n      <td>43.692028</td>\n      <td>-79.448924</td>\n    </tr>\n  </tbody>\n</table>\n</div>",
                        "text/plain": "                     name     categories        lat        lng\n0              Nairn Park           Park  43.690654 -79.456300\n1           Maximum Woman  Women's Store  43.690651 -79.456333\n2          Fairbanks Pool           Pool  43.691959 -79.448922\n3  Fairbank Memorial Park           Park  43.692028 -79.448924"
                    },
                    "execution_count": 115,
                    "metadata": {},
                    "output_type": "execute_result"
                }
            ],
            "source": "york_venues = york_results['response']['groups'][0]['items']\n    \nyork_nearby_venues = json_normalize(york_venues) # flatten JSON\n\n# filter columns\nyork_filtered_columns = ['venue.name', 'venue.categories', 'venue.location.lat', 'venue.location.lng']\nyork_nearby_venues = york_nearby_venues.loc[:, york_filtered_columns]\n\n# filter the category for each row\nyork_nearby_venues['venue.categories'] = york_nearby_venues.apply(get_category_type, axis=1)\n\n# clean columns\nyork_nearby_venues.columns = [col.split(\".\")[-1] for col in york_nearby_venues.columns]\n\nyork_nearby_venues.head()"
        },
        {
            "cell_type": "code",
            "execution_count": 116,
            "metadata": {},
            "outputs": [
                {
                    "name": "stdout",
                    "output_type": "stream",
                    "text": "<class 'pandas.core.frame.DataFrame'>\nRangeIndex: 4 entries, 0 to 3\nData columns (total 4 columns):\nname          4 non-null object\ncategories    4 non-null object\nlat           4 non-null float64\nlng           4 non-null float64\ndtypes: float64(2), object(2)\nmemory usage: 208.0+ bytes\n"
                }
            ],
            "source": "york_nearby_venues.info()"
        },
        {
            "cell_type": "code",
            "execution_count": 117,
            "metadata": {},
            "outputs": [
                {
                    "name": "stdout",
                    "output_type": "stream",
                    "text": "4 venues were returned by Foursquare.\n"
                }
            ],
            "source": "print('{} venues were returned by Foursquare.'.format(york_nearby_venues.shape[0]))"
        },
        {
            "cell_type": "markdown",
            "metadata": {},
            "source": "***Explore Neighborhoods in York***"
        },
        {
            "cell_type": "code",
            "execution_count": 118,
            "metadata": {},
            "outputs": [],
            "source": "def getNearbyVenues(names, latitudes, longitudes, radius=500):\n    \n    venues_list=[]\n    for name, lat, lng in zip(names, latitudes, longitudes):\n        print(name)\n            \n        # create the API request URL\n        url = 'https://api.foursquare.com/v2/venues/explore?&client_id={}&client_secret={}&v={}&ll={},{}&radius={}&limit={}'.format(\n            CLIENT_ID, \n            CLIENT_SECRET, \n            VERSION, \n            lat, \n            lng, \n            radius, \n            LIMIT)\n            \n        # make the GET request\n        results = requests.get(url).json()[\"response\"]['groups'][0]['items']\n        \n        # return only relevant information for each nearby venue\n        venues_list.append([(\n            name, \n            lat, \n            lng, \n            v['venue']['name'], \n            v['venue']['location']['lat'], \n            v['venue']['location']['lng'],  \n            v['venue']['categories'][0]['name']) for v in results])\n\n    nearby_venues = pd.DataFrame([item for venue_list in venues_list for item in venue_list])\n    nearby_venues.columns = ['Neighbourhood', \n                  'Neighbourhood Latitude', \n                  'Neighbourhood Longitude', \n                  'Venue', \n                  'Venue Latitude', \n                  'Venue Longitude', \n                  'Venue Category']\n    \n    return(nearby_venues)"
        },
        {
            "cell_type": "code",
            "execution_count": 119,
            "metadata": {},
            "outputs": [
                {
                    "name": "stdout",
                    "output_type": "stream",
                    "text": "Caledonia-Fairbanks\nDel Ray / Mount Dennis / Keelsdale and Silverthorn\nHumewood-Cedarvale\nRunnymede / The Junction North\nWeston\n"
                }
            ],
            "source": "york_venues = getNearbyVenues(names=york_data['Neighborhood'],\n                                   latitudes=york_data['Latitude'],\n                                   longitudes=york_data['Longitude']\n                                  )"
        },
        {
            "cell_type": "code",
            "execution_count": 120,
            "metadata": {},
            "outputs": [
                {
                    "data": {
                        "text/html": "<div>\n<style scoped>\n    .dataframe tbody tr th:only-of-type {\n        vertical-align: middle;\n    }\n\n    .dataframe tbody tr th {\n        vertical-align: top;\n    }\n\n    .dataframe thead th {\n        text-align: right;\n    }\n</style>\n<table border=\"1\" class=\"dataframe\">\n  <thead>\n    <tr style=\"text-align: right;\">\n      <th></th>\n      <th>Neighbourhood</th>\n      <th>Neighbourhood Latitude</th>\n      <th>Neighbourhood Longitude</th>\n      <th>Venue</th>\n      <th>Venue Latitude</th>\n      <th>Venue Longitude</th>\n      <th>Venue Category</th>\n    </tr>\n  </thead>\n  <tbody>\n    <tr>\n      <th>0</th>\n      <td>Caledonia-Fairbanks</td>\n      <td>43.689026</td>\n      <td>-79.453512</td>\n      <td>Nairn Park</td>\n      <td>43.690654</td>\n      <td>-79.456300</td>\n      <td>Park</td>\n    </tr>\n    <tr>\n      <th>1</th>\n      <td>Caledonia-Fairbanks</td>\n      <td>43.689026</td>\n      <td>-79.453512</td>\n      <td>Maximum Woman</td>\n      <td>43.690651</td>\n      <td>-79.456333</td>\n      <td>Women's Store</td>\n    </tr>\n    <tr>\n      <th>2</th>\n      <td>Caledonia-Fairbanks</td>\n      <td>43.689026</td>\n      <td>-79.453512</td>\n      <td>Fairbanks Pool</td>\n      <td>43.691959</td>\n      <td>-79.448922</td>\n      <td>Pool</td>\n    </tr>\n    <tr>\n      <th>3</th>\n      <td>Caledonia-Fairbanks</td>\n      <td>43.689026</td>\n      <td>-79.453512</td>\n      <td>Fairbank Memorial Park</td>\n      <td>43.692028</td>\n      <td>-79.448924</td>\n      <td>Park</td>\n    </tr>\n    <tr>\n      <th>4</th>\n      <td>Del Ray / Mount Dennis / Keelsdale and Silvert...</td>\n      <td>43.691116</td>\n      <td>-79.476013</td>\n      <td>Subway</td>\n      <td>43.690218</td>\n      <td>-79.474050</td>\n      <td>Sandwich Place</td>\n    </tr>\n  </tbody>\n</table>\n</div>",
                        "text/plain": "                                       Neighbourhood  Neighbourhood Latitude  \\\n0                                Caledonia-Fairbanks               43.689026   \n1                                Caledonia-Fairbanks               43.689026   \n2                                Caledonia-Fairbanks               43.689026   \n3                                Caledonia-Fairbanks               43.689026   \n4  Del Ray / Mount Dennis / Keelsdale and Silvert...               43.691116   \n\n   Neighbourhood Longitude                   Venue  Venue Latitude  \\\n0               -79.453512              Nairn Park       43.690654   \n1               -79.453512           Maximum Woman       43.690651   \n2               -79.453512          Fairbanks Pool       43.691959   \n3               -79.453512  Fairbank Memorial Park       43.692028   \n4               -79.476013                  Subway       43.690218   \n\n   Venue Longitude  Venue Category  \n0       -79.456300            Park  \n1       -79.456333   Women's Store  \n2       -79.448922            Pool  \n3       -79.448924            Park  \n4       -79.474050  Sandwich Place  "
                    },
                    "execution_count": 120,
                    "metadata": {},
                    "output_type": "execute_result"
                }
            ],
            "source": "york_venues.head()"
        },
        {
            "cell_type": "code",
            "execution_count": 121,
            "metadata": {},
            "outputs": [
                {
                    "name": "stdout",
                    "output_type": "stream",
                    "text": "<class 'pandas.core.frame.DataFrame'>\nRangeIndex: 19 entries, 0 to 18\nData columns (total 7 columns):\nNeighbourhood              19 non-null object\nNeighbourhood Latitude     19 non-null float64\nNeighbourhood Longitude    19 non-null float64\nVenue                      19 non-null object\nVenue Latitude             19 non-null float64\nVenue Longitude            19 non-null float64\nVenue Category             19 non-null object\ndtypes: float64(4), object(3)\nmemory usage: 1.1+ KB\n"
                }
            ],
            "source": "york_venues.info()"
        },
        {
            "cell_type": "code",
            "execution_count": 122,
            "metadata": {},
            "outputs": [
                {
                    "data": {
                        "text/html": "<div>\n<style scoped>\n    .dataframe tbody tr th:only-of-type {\n        vertical-align: middle;\n    }\n\n    .dataframe tbody tr th {\n        vertical-align: top;\n    }\n\n    .dataframe thead th {\n        text-align: right;\n    }\n</style>\n<table border=\"1\" class=\"dataframe\">\n  <thead>\n    <tr style=\"text-align: right;\">\n      <th></th>\n      <th>Neighbourhood Latitude</th>\n      <th>Neighbourhood Longitude</th>\n      <th>Venue</th>\n      <th>Venue Latitude</th>\n      <th>Venue Longitude</th>\n      <th>Venue Category</th>\n    </tr>\n    <tr>\n      <th>Neighbourhood</th>\n      <th></th>\n      <th></th>\n      <th></th>\n      <th></th>\n      <th></th>\n      <th></th>\n    </tr>\n  </thead>\n  <tbody>\n    <tr>\n      <th>Caledonia-Fairbanks</th>\n      <td>4</td>\n      <td>4</td>\n      <td>4</td>\n      <td>4</td>\n      <td>4</td>\n      <td>4</td>\n    </tr>\n    <tr>\n      <th>Del Ray / Mount Dennis / Keelsdale and Silverthorn</th>\n      <td>5</td>\n      <td>5</td>\n      <td>5</td>\n      <td>5</td>\n      <td>5</td>\n      <td>5</td>\n    </tr>\n    <tr>\n      <th>Humewood-Cedarvale</th>\n      <td>4</td>\n      <td>4</td>\n      <td>4</td>\n      <td>4</td>\n      <td>4</td>\n      <td>4</td>\n    </tr>\n    <tr>\n      <th>Runnymede / The Junction North</th>\n      <td>4</td>\n      <td>4</td>\n      <td>4</td>\n      <td>4</td>\n      <td>4</td>\n      <td>4</td>\n    </tr>\n    <tr>\n      <th>Weston</th>\n      <td>2</td>\n      <td>2</td>\n      <td>2</td>\n      <td>2</td>\n      <td>2</td>\n      <td>2</td>\n    </tr>\n  </tbody>\n</table>\n</div>",
                        "text/plain": "                                                    Neighbourhood Latitude  \\\nNeighbourhood                                                                \nCaledonia-Fairbanks                                                      4   \nDel Ray / Mount Dennis / Keelsdale and Silverthorn                       5   \nHumewood-Cedarvale                                                       4   \nRunnymede / The Junction North                                           4   \nWeston                                                                   2   \n\n                                                    Neighbourhood Longitude  \\\nNeighbourhood                                                                 \nCaledonia-Fairbanks                                                       4   \nDel Ray / Mount Dennis / Keelsdale and Silverthorn                        5   \nHumewood-Cedarvale                                                        4   \nRunnymede / The Junction North                                            4   \nWeston                                                                    2   \n\n                                                    Venue  Venue Latitude  \\\nNeighbourhood                                                               \nCaledonia-Fairbanks                                     4               4   \nDel Ray / Mount Dennis / Keelsdale and Silverthorn      5               5   \nHumewood-Cedarvale                                      4               4   \nRunnymede / The Junction North                          4               4   \nWeston                                                  2               2   \n\n                                                    Venue Longitude  \\\nNeighbourhood                                                         \nCaledonia-Fairbanks                                               4   \nDel Ray / Mount Dennis / Keelsdale and Silverthorn                5   \nHumewood-Cedarvale                                                4   \nRunnymede / The Junction North                                    4   \nWeston                                                            2   \n\n                                                    Venue Category  \nNeighbourhood                                                       \nCaledonia-Fairbanks                                              4  \nDel Ray / Mount Dennis / Keelsdale and Silverthorn               5  \nHumewood-Cedarvale                                               4  \nRunnymede / The Junction North                                   4  \nWeston                                                           2  "
                    },
                    "execution_count": 122,
                    "metadata": {},
                    "output_type": "execute_result"
                }
            ],
            "source": "york_venues.groupby('Neighbourhood').count()"
        },
        {
            "cell_type": "code",
            "execution_count": 123,
            "metadata": {},
            "outputs": [
                {
                    "name": "stdout",
                    "output_type": "stream",
                    "text": "There are 16 uniques categories.\n"
                }
            ],
            "source": "print('There are {} uniques categories.'.format(len(york_venues['Venue Category'].unique())))"
        },
        {
            "cell_type": "markdown",
            "metadata": {},
            "source": "***3.5 Use to group neighborhoods into clusters***"
        },
        {
            "cell_type": "code",
            "execution_count": 124,
            "metadata": {},
            "outputs": [
                {
                    "data": {
                        "text/html": "<div>\n<style scoped>\n    .dataframe tbody tr th:only-of-type {\n        vertical-align: middle;\n    }\n\n    .dataframe tbody tr th {\n        vertical-align: top;\n    }\n\n    .dataframe thead th {\n        text-align: right;\n    }\n</style>\n<table border=\"1\" class=\"dataframe\">\n  <thead>\n    <tr style=\"text-align: right;\">\n      <th></th>\n      <th>Neighbourhood</th>\n      <th>Brewery</th>\n      <th>Bus Line</th>\n      <th>Caribbean Restaurant</th>\n      <th>Convenience Store</th>\n      <th>Fast Food Restaurant</th>\n      <th>Field</th>\n      <th>Grocery Store</th>\n      <th>Hockey Arena</th>\n      <th>Museum</th>\n      <th>Park</th>\n      <th>Pizza Place</th>\n      <th>Pool</th>\n      <th>Restaurant</th>\n      <th>Sandwich Place</th>\n      <th>Trail</th>\n      <th>Women's Store</th>\n    </tr>\n  </thead>\n  <tbody>\n    <tr>\n      <th>0</th>\n      <td>Caledonia-Fairbanks</td>\n      <td>0</td>\n      <td>0</td>\n      <td>0</td>\n      <td>0</td>\n      <td>0</td>\n      <td>0</td>\n      <td>0</td>\n      <td>0</td>\n      <td>0</td>\n      <td>1</td>\n      <td>0</td>\n      <td>0</td>\n      <td>0</td>\n      <td>0</td>\n      <td>0</td>\n      <td>0</td>\n    </tr>\n    <tr>\n      <th>1</th>\n      <td>Caledonia-Fairbanks</td>\n      <td>0</td>\n      <td>0</td>\n      <td>0</td>\n      <td>0</td>\n      <td>0</td>\n      <td>0</td>\n      <td>0</td>\n      <td>0</td>\n      <td>0</td>\n      <td>0</td>\n      <td>0</td>\n      <td>0</td>\n      <td>0</td>\n      <td>0</td>\n      <td>0</td>\n      <td>1</td>\n    </tr>\n    <tr>\n      <th>2</th>\n      <td>Caledonia-Fairbanks</td>\n      <td>0</td>\n      <td>0</td>\n      <td>0</td>\n      <td>0</td>\n      <td>0</td>\n      <td>0</td>\n      <td>0</td>\n      <td>0</td>\n      <td>0</td>\n      <td>0</td>\n      <td>0</td>\n      <td>1</td>\n      <td>0</td>\n      <td>0</td>\n      <td>0</td>\n      <td>0</td>\n    </tr>\n    <tr>\n      <th>3</th>\n      <td>Caledonia-Fairbanks</td>\n      <td>0</td>\n      <td>0</td>\n      <td>0</td>\n      <td>0</td>\n      <td>0</td>\n      <td>0</td>\n      <td>0</td>\n      <td>0</td>\n      <td>0</td>\n      <td>1</td>\n      <td>0</td>\n      <td>0</td>\n      <td>0</td>\n      <td>0</td>\n      <td>0</td>\n      <td>0</td>\n    </tr>\n    <tr>\n      <th>4</th>\n      <td>Del Ray / Mount Dennis / Keelsdale and Silvert...</td>\n      <td>0</td>\n      <td>0</td>\n      <td>0</td>\n      <td>0</td>\n      <td>0</td>\n      <td>0</td>\n      <td>0</td>\n      <td>0</td>\n      <td>0</td>\n      <td>0</td>\n      <td>0</td>\n      <td>0</td>\n      <td>0</td>\n      <td>1</td>\n      <td>0</td>\n      <td>0</td>\n    </tr>\n  </tbody>\n</table>\n</div>",
                        "text/plain": "                                       Neighbourhood  Brewery  Bus Line  \\\n0                                Caledonia-Fairbanks        0         0   \n1                                Caledonia-Fairbanks        0         0   \n2                                Caledonia-Fairbanks        0         0   \n3                                Caledonia-Fairbanks        0         0   \n4  Del Ray / Mount Dennis / Keelsdale and Silvert...        0         0   \n\n   Caribbean Restaurant  Convenience Store  Fast Food Restaurant  Field  \\\n0                     0                  0                     0      0   \n1                     0                  0                     0      0   \n2                     0                  0                     0      0   \n3                     0                  0                     0      0   \n4                     0                  0                     0      0   \n\n   Grocery Store  Hockey Arena  Museum  Park  Pizza Place  Pool  Restaurant  \\\n0              0             0       0     1            0     0           0   \n1              0             0       0     0            0     0           0   \n2              0             0       0     0            0     1           0   \n3              0             0       0     1            0     0           0   \n4              0             0       0     0            0     0           0   \n\n   Sandwich Place  Trail  Women's Store  \n0               0      0              0  \n1               0      0              1  \n2               0      0              0  \n3               0      0              0  \n4               1      0              0  "
                    },
                    "execution_count": 124,
                    "metadata": {},
                    "output_type": "execute_result"
                }
            ],
            "source": "# one hot encoding\nyork_onehot = pd.get_dummies(york_venues[['Venue Category']], prefix=\"\", prefix_sep=\"\")\n\n# add neighborhood column back to dataframe\nyork_onehot['Neighbourhood'] = york_venues['Neighbourhood'] \n\n# move neighborhood column to the first column\nyork_fixed_columns = [york_onehot.columns[-1]] + list(york_onehot.columns[:-1])\nyork_onehot = york_onehot[york_fixed_columns]\n\nyork_onehot.head()"
        },
        {
            "cell_type": "code",
            "execution_count": 125,
            "metadata": {},
            "outputs": [
                {
                    "name": "stdout",
                    "output_type": "stream",
                    "text": "<class 'pandas.core.frame.DataFrame'>\nRangeIndex: 19 entries, 0 to 18\nData columns (total 17 columns):\nNeighbourhood           19 non-null object\nBrewery                 19 non-null uint8\nBus Line                19 non-null uint8\nCaribbean Restaurant    19 non-null uint8\nConvenience Store       19 non-null uint8\nFast Food Restaurant    19 non-null uint8\nField                   19 non-null uint8\nGrocery Store           19 non-null uint8\nHockey Arena            19 non-null uint8\nMuseum                  19 non-null uint8\nPark                    19 non-null uint8\nPizza Place             19 non-null uint8\nPool                    19 non-null uint8\nRestaurant              19 non-null uint8\nSandwich Place          19 non-null uint8\nTrail                   19 non-null uint8\nWomen's Store           19 non-null uint8\ndtypes: object(1), uint8(16)\nmemory usage: 536.0+ bytes\n"
                }
            ],
            "source": "york_onehot.info()"
        },
        {
            "cell_type": "code",
            "execution_count": 126,
            "metadata": {},
            "outputs": [
                {
                    "data": {
                        "text/html": "<div>\n<style scoped>\n    .dataframe tbody tr th:only-of-type {\n        vertical-align: middle;\n    }\n\n    .dataframe tbody tr th {\n        vertical-align: top;\n    }\n\n    .dataframe thead th {\n        text-align: right;\n    }\n</style>\n<table border=\"1\" class=\"dataframe\">\n  <thead>\n    <tr style=\"text-align: right;\">\n      <th></th>\n      <th>Neighbourhood</th>\n      <th>Brewery</th>\n      <th>Bus Line</th>\n      <th>Caribbean Restaurant</th>\n      <th>Convenience Store</th>\n      <th>Fast Food Restaurant</th>\n      <th>Field</th>\n      <th>Grocery Store</th>\n      <th>Hockey Arena</th>\n      <th>Museum</th>\n      <th>Park</th>\n      <th>Pizza Place</th>\n      <th>Pool</th>\n      <th>Restaurant</th>\n      <th>Sandwich Place</th>\n      <th>Trail</th>\n      <th>Women's Store</th>\n    </tr>\n  </thead>\n  <tbody>\n    <tr>\n      <th>0</th>\n      <td>Caledonia-Fairbanks</td>\n      <td>0.00</td>\n      <td>0.00</td>\n      <td>0.0</td>\n      <td>0.0</td>\n      <td>0.0</td>\n      <td>0.00</td>\n      <td>0.00</td>\n      <td>0.00</td>\n      <td>0.0</td>\n      <td>0.50</td>\n      <td>0.00</td>\n      <td>0.25</td>\n      <td>0.0</td>\n      <td>0.0</td>\n      <td>0.00</td>\n      <td>0.25</td>\n    </tr>\n    <tr>\n      <th>1</th>\n      <td>Del Ray / Mount Dennis / Keelsdale and Silvert...</td>\n      <td>0.00</td>\n      <td>0.00</td>\n      <td>0.2</td>\n      <td>0.0</td>\n      <td>0.2</td>\n      <td>0.00</td>\n      <td>0.00</td>\n      <td>0.00</td>\n      <td>0.2</td>\n      <td>0.00</td>\n      <td>0.00</td>\n      <td>0.00</td>\n      <td>0.2</td>\n      <td>0.2</td>\n      <td>0.00</td>\n      <td>0.00</td>\n    </tr>\n    <tr>\n      <th>2</th>\n      <td>Humewood-Cedarvale</td>\n      <td>0.00</td>\n      <td>0.00</td>\n      <td>0.0</td>\n      <td>0.0</td>\n      <td>0.0</td>\n      <td>0.25</td>\n      <td>0.00</td>\n      <td>0.25</td>\n      <td>0.0</td>\n      <td>0.25</td>\n      <td>0.00</td>\n      <td>0.00</td>\n      <td>0.0</td>\n      <td>0.0</td>\n      <td>0.25</td>\n      <td>0.00</td>\n    </tr>\n    <tr>\n      <th>3</th>\n      <td>Runnymede / The Junction North</td>\n      <td>0.25</td>\n      <td>0.25</td>\n      <td>0.0</td>\n      <td>0.0</td>\n      <td>0.0</td>\n      <td>0.00</td>\n      <td>0.25</td>\n      <td>0.00</td>\n      <td>0.0</td>\n      <td>0.00</td>\n      <td>0.25</td>\n      <td>0.00</td>\n      <td>0.0</td>\n      <td>0.0</td>\n      <td>0.00</td>\n      <td>0.00</td>\n    </tr>\n    <tr>\n      <th>4</th>\n      <td>Weston</td>\n      <td>0.00</td>\n      <td>0.00</td>\n      <td>0.0</td>\n      <td>0.5</td>\n      <td>0.0</td>\n      <td>0.00</td>\n      <td>0.00</td>\n      <td>0.00</td>\n      <td>0.0</td>\n      <td>0.50</td>\n      <td>0.00</td>\n      <td>0.00</td>\n      <td>0.0</td>\n      <td>0.0</td>\n      <td>0.00</td>\n      <td>0.00</td>\n    </tr>\n  </tbody>\n</table>\n</div>",
                        "text/plain": "                                       Neighbourhood  Brewery  Bus Line  \\\n0                                Caledonia-Fairbanks     0.00      0.00   \n1  Del Ray / Mount Dennis / Keelsdale and Silvert...     0.00      0.00   \n2                                 Humewood-Cedarvale     0.00      0.00   \n3                     Runnymede / The Junction North     0.25      0.25   \n4                                             Weston     0.00      0.00   \n\n   Caribbean Restaurant  Convenience Store  Fast Food Restaurant  Field  \\\n0                   0.0                0.0                   0.0   0.00   \n1                   0.2                0.0                   0.2   0.00   \n2                   0.0                0.0                   0.0   0.25   \n3                   0.0                0.0                   0.0   0.00   \n4                   0.0                0.5                   0.0   0.00   \n\n   Grocery Store  Hockey Arena  Museum  Park  Pizza Place  Pool  Restaurant  \\\n0           0.00          0.00     0.0  0.50         0.00  0.25         0.0   \n1           0.00          0.00     0.2  0.00         0.00  0.00         0.2   \n2           0.00          0.25     0.0  0.25         0.00  0.00         0.0   \n3           0.25          0.00     0.0  0.00         0.25  0.00         0.0   \n4           0.00          0.00     0.0  0.50         0.00  0.00         0.0   \n\n   Sandwich Place  Trail  Women's Store  \n0             0.0   0.00           0.25  \n1             0.2   0.00           0.00  \n2             0.0   0.25           0.00  \n3             0.0   0.00           0.00  \n4             0.0   0.00           0.00  "
                    },
                    "execution_count": 126,
                    "metadata": {},
                    "output_type": "execute_result"
                }
            ],
            "source": "york_grouped = york_onehot.groupby('Neighbourhood').mean().reset_index()\nyork_grouped.head()"
        },
        {
            "cell_type": "code",
            "execution_count": 127,
            "metadata": {},
            "outputs": [
                {
                    "name": "stdout",
                    "output_type": "stream",
                    "text": "<class 'pandas.core.frame.DataFrame'>\nRangeIndex: 5 entries, 0 to 4\nData columns (total 17 columns):\nNeighbourhood           5 non-null object\nBrewery                 5 non-null float64\nBus Line                5 non-null float64\nCaribbean Restaurant    5 non-null float64\nConvenience Store       5 non-null float64\nFast Food Restaurant    5 non-null float64\nField                   5 non-null float64\nGrocery Store           5 non-null float64\nHockey Arena            5 non-null float64\nMuseum                  5 non-null float64\nPark                    5 non-null float64\nPizza Place             5 non-null float64\nPool                    5 non-null float64\nRestaurant              5 non-null float64\nSandwich Place          5 non-null float64\nTrail                   5 non-null float64\nWomen's Store           5 non-null float64\ndtypes: float64(16), object(1)\nmemory usage: 760.0+ bytes\n"
                }
            ],
            "source": "york_grouped.info()"
        },
        {
            "cell_type": "code",
            "execution_count": 128,
            "metadata": {},
            "outputs": [
                {
                    "name": "stdout",
                    "output_type": "stream",
                    "text": "----Caledonia-Fairbanks----\n           venue  freq\n0           Park  0.50\n1           Pool  0.25\n2  Women's Store  0.25\n\n\n----Del Ray / Mount Dennis / Keelsdale and Silverthorn----\n                  venue  freq\n0  Caribbean Restaurant   0.2\n1  Fast Food Restaurant   0.2\n2                Museum   0.2\n\n\n----Humewood-Cedarvale----\n          venue  freq\n0         Field  0.25\n1  Hockey Arena  0.25\n2          Park  0.25\n\n\n----Runnymede / The Junction North----\n           venue  freq\n0        Brewery  0.25\n1       Bus Line  0.25\n2  Grocery Store  0.25\n\n\n----Weston----\n               venue  freq\n0  Convenience Store   0.5\n1               Park   0.5\n2            Brewery   0.0\n\n\n"
                }
            ],
            "source": "num_top_venues = 3\n\nfor hood in york_grouped['Neighbourhood']:\n    print(\"----\"+hood+\"----\")\n    york_temp = york_grouped[york_grouped['Neighbourhood'] == hood].T.reset_index()\n    york_temp.columns = ['venue','freq']\n    york_temp = york_temp.iloc[1:]\n    york_temp['freq'] = york_temp['freq'].astype(float)\n    york_temp = york_temp.round({'freq': 2})\n    print(york_temp.sort_values('freq', ascending=False).reset_index(drop=True).head(num_top_venues))\n    print('\\n')"
        },
        {
            "cell_type": "markdown",
            "metadata": {},
            "source": "***Put into Pandas df***"
        },
        {
            "cell_type": "code",
            "execution_count": 129,
            "metadata": {},
            "outputs": [],
            "source": "def return_most_common_venues(row, num_top_venues):\n    row_categories = row.iloc[1:]\n    row_categories_sorted = row_categories.sort_values(ascending=False)\n    \n    return row_categories_sorted.index.values[0:num_top_venues]"
        },
        {
            "cell_type": "code",
            "execution_count": 139,
            "metadata": {},
            "outputs": [
                {
                    "data": {
                        "text/html": "<div>\n<style scoped>\n    .dataframe tbody tr th:only-of-type {\n        vertical-align: middle;\n    }\n\n    .dataframe tbody tr th {\n        vertical-align: top;\n    }\n\n    .dataframe thead th {\n        text-align: right;\n    }\n</style>\n<table border=\"1\" class=\"dataframe\">\n  <thead>\n    <tr style=\"text-align: right;\">\n      <th></th>\n      <th>Neighborhood</th>\n      <th>1st Most Common Venue</th>\n      <th>2nd Most Common Venue</th>\n      <th>3rd Most Common Venue</th>\n      <th>4th Most Common Venue</th>\n      <th>5th Most Common Venue</th>\n      <th>6th Most Common Venue</th>\n      <th>7th Most Common Venue</th>\n      <th>8th Most Common Venue</th>\n      <th>9th Most Common Venue</th>\n      <th>10th Most Common Venue</th>\n      <th>11th Most Common Venue</th>\n      <th>12th Most Common Venue</th>\n      <th>13th Most Common Venue</th>\n      <th>14th Most Common Venue</th>\n      <th>15th Most Common Venue</th>\n      <th>16th Most Common Venue</th>\n      <th>17th Most Common Venue</th>\n    </tr>\n  </thead>\n  <tbody>\n  </tbody>\n</table>\n</div>",
                        "text/plain": "Empty DataFrame\nColumns: [Neighborhood, 1st Most Common Venue, 2nd Most Common Venue, 3rd Most Common Venue, 4th Most Common Venue, 5th Most Common Venue, 6th Most Common Venue, 7th Most Common Venue, 8th Most Common Venue, 9th Most Common Venue, 10th Most Common Venue, 11th Most Common Venue, 12th Most Common Venue, 13th Most Common Venue, 14th Most Common Venue, 15th Most Common Venue, 16th Most Common Venue, 17th Most Common Venue]\nIndex: []"
                    },
                    "execution_count": 139,
                    "metadata": {},
                    "output_type": "execute_result"
                }
            ],
            "source": "num_top_venues = 17\n\nindicators = ['st', 'nd', 'rd']\n\n# create columns according to number of top venues\ncolumns = ['Neighborhood']\nfor ind in np.arange(num_top_venues):\n    try:\n        columns.append('{}{} Most Common Venue'.format(ind+1, indicators[ind]))\n    except:\n        columns.append('{}th Most Common Venue'.format(ind+1))\n\n# create a new dataframe\nyork_neighbourhoods_venues_sorted = pd.DataFrame(columns=columns)\n\nyork_neighbourhoods_venues_sorted"
        },
        {
            "cell_type": "code",
            "execution_count": 140,
            "metadata": {},
            "outputs": [
                {
                    "data": {
                        "text/html": "<div>\n<style scoped>\n    .dataframe tbody tr th:only-of-type {\n        vertical-align: middle;\n    }\n\n    .dataframe tbody tr th {\n        vertical-align: top;\n    }\n\n    .dataframe thead th {\n        text-align: right;\n    }\n</style>\n<table border=\"1\" class=\"dataframe\">\n  <thead>\n    <tr style=\"text-align: right;\">\n      <th></th>\n      <th>Neighborhood</th>\n      <th>1st Most Common Venue</th>\n      <th>2nd Most Common Venue</th>\n      <th>3rd Most Common Venue</th>\n      <th>4th Most Common Venue</th>\n      <th>5th Most Common Venue</th>\n      <th>6th Most Common Venue</th>\n      <th>7th Most Common Venue</th>\n      <th>8th Most Common Venue</th>\n      <th>9th Most Common Venue</th>\n      <th>10th Most Common Venue</th>\n      <th>11th Most Common Venue</th>\n      <th>12th Most Common Venue</th>\n      <th>13th Most Common Venue</th>\n      <th>14th Most Common Venue</th>\n      <th>15th Most Common Venue</th>\n      <th>16th Most Common Venue</th>\n      <th>17th Most Common Venue</th>\n      <th>Neighbourhood</th>\n    </tr>\n  </thead>\n  <tbody>\n    <tr>\n      <th>0</th>\n      <td>NaN</td>\n      <td>NaN</td>\n      <td>NaN</td>\n      <td>NaN</td>\n      <td>NaN</td>\n      <td>NaN</td>\n      <td>NaN</td>\n      <td>NaN</td>\n      <td>NaN</td>\n      <td>NaN</td>\n      <td>NaN</td>\n      <td>NaN</td>\n      <td>NaN</td>\n      <td>NaN</td>\n      <td>NaN</td>\n      <td>NaN</td>\n      <td>NaN</td>\n      <td>NaN</td>\n      <td>Caledonia-Fairbanks</td>\n    </tr>\n    <tr>\n      <th>1</th>\n      <td>NaN</td>\n      <td>NaN</td>\n      <td>NaN</td>\n      <td>NaN</td>\n      <td>NaN</td>\n      <td>NaN</td>\n      <td>NaN</td>\n      <td>NaN</td>\n      <td>NaN</td>\n      <td>NaN</td>\n      <td>NaN</td>\n      <td>NaN</td>\n      <td>NaN</td>\n      <td>NaN</td>\n      <td>NaN</td>\n      <td>NaN</td>\n      <td>NaN</td>\n      <td>NaN</td>\n      <td>Del Ray / Mount Dennis / Keelsdale and Silvert...</td>\n    </tr>\n  </tbody>\n</table>\n</div>",
                        "text/plain": "  Neighborhood 1st Most Common Venue 2nd Most Common Venue  \\\n0          NaN                   NaN                   NaN   \n1          NaN                   NaN                   NaN   \n\n  3rd Most Common Venue 4th Most Common Venue 5th Most Common Venue  \\\n0                   NaN                   NaN                   NaN   \n1                   NaN                   NaN                   NaN   \n\n  6th Most Common Venue 7th Most Common Venue 8th Most Common Venue  \\\n0                   NaN                   NaN                   NaN   \n1                   NaN                   NaN                   NaN   \n\n  9th Most Common Venue 10th Most Common Venue 11th Most Common Venue  \\\n0                   NaN                    NaN                    NaN   \n1                   NaN                    NaN                    NaN   \n\n  12th Most Common Venue 13th Most Common Venue 14th Most Common Venue  \\\n0                    NaN                    NaN                    NaN   \n1                    NaN                    NaN                    NaN   \n\n  15th Most Common Venue 16th Most Common Venue 17th Most Common Venue  \\\n0                    NaN                    NaN                    NaN   \n1                    NaN                    NaN                    NaN   \n\n                                       Neighbourhood  \n0                                Caledonia-Fairbanks  \n1  Del Ray / Mount Dennis / Keelsdale and Silvert...  "
                    },
                    "execution_count": 140,
                    "metadata": {},
                    "output_type": "execute_result"
                }
            ],
            "source": "york_neighbourhoods_venues_sorted['Neighbourhood'] = york_grouped['Neighbourhood']\n\nyork_neighbourhoods_venues_sorted.head(2)"
        },
        {
            "cell_type": "code",
            "execution_count": 141,
            "metadata": {},
            "outputs": [
                {
                    "ename": "ValueError",
                    "evalue": "could not broadcast input array from shape (16) into shape (18)",
                    "output_type": "error",
                    "traceback": [
                        "\u001b[0;31m---------------------------------------------------------------------------\u001b[0m",
                        "\u001b[0;31mValueError\u001b[0m                                Traceback (most recent call last)",
                        "\u001b[0;32m<ipython-input-141-e0854be3d579>\u001b[0m in \u001b[0;36m<module>\u001b[0;34m\u001b[0m\n\u001b[1;32m      1\u001b[0m \u001b[0;32mfor\u001b[0m \u001b[0mind\u001b[0m \u001b[0;32min\u001b[0m \u001b[0mnp\u001b[0m\u001b[0;34m.\u001b[0m\u001b[0marange\u001b[0m\u001b[0;34m(\u001b[0m\u001b[0myork_grouped\u001b[0m\u001b[0;34m.\u001b[0m\u001b[0mshape\u001b[0m\u001b[0;34m[\u001b[0m\u001b[0;36m0\u001b[0m\u001b[0;34m]\u001b[0m\u001b[0;34m)\u001b[0m\u001b[0;34m:\u001b[0m\u001b[0;34m\u001b[0m\u001b[0;34m\u001b[0m\u001b[0m\n\u001b[0;32m----> 2\u001b[0;31m     \u001b[0myork_neighbourhoods_venues_sorted\u001b[0m\u001b[0;34m.\u001b[0m\u001b[0miloc\u001b[0m\u001b[0;34m[\u001b[0m\u001b[0mind\u001b[0m\u001b[0;34m,\u001b[0m \u001b[0;36m1\u001b[0m\u001b[0;34m:\u001b[0m\u001b[0;34m]\u001b[0m \u001b[0;34m=\u001b[0m \u001b[0mreturn_most_common_venues\u001b[0m\u001b[0;34m(\u001b[0m\u001b[0myork_grouped\u001b[0m\u001b[0;34m.\u001b[0m\u001b[0miloc\u001b[0m\u001b[0;34m[\u001b[0m\u001b[0mind\u001b[0m\u001b[0;34m,\u001b[0m \u001b[0;34m:\u001b[0m\u001b[0;34m]\u001b[0m\u001b[0;34m,\u001b[0m \u001b[0mnum_top_venues\u001b[0m\u001b[0;34m)\u001b[0m\u001b[0;34m\u001b[0m\u001b[0;34m\u001b[0m\u001b[0m\n\u001b[0m\u001b[1;32m      3\u001b[0m \u001b[0;34m\u001b[0m\u001b[0m\n\u001b[1;32m      4\u001b[0m \u001b[0myork_neighbourhoods_venues_sorted\u001b[0m\u001b[0;34m.\u001b[0m\u001b[0mhead\u001b[0m\u001b[0;34m(\u001b[0m\u001b[0;36m2\u001b[0m\u001b[0;34m)\u001b[0m\u001b[0;34m\u001b[0m\u001b[0;34m\u001b[0m\u001b[0m\n",
                        "\u001b[0;32m/opt/conda/envs/Python36/lib/python3.6/site-packages/pandas/core/indexing.py\u001b[0m in \u001b[0;36m__setitem__\u001b[0;34m(self, key, value)\u001b[0m\n\u001b[1;32m    188\u001b[0m             \u001b[0mkey\u001b[0m \u001b[0;34m=\u001b[0m \u001b[0mcom\u001b[0m\u001b[0;34m.\u001b[0m\u001b[0mapply_if_callable\u001b[0m\u001b[0;34m(\u001b[0m\u001b[0mkey\u001b[0m\u001b[0;34m,\u001b[0m \u001b[0mself\u001b[0m\u001b[0;34m.\u001b[0m\u001b[0mobj\u001b[0m\u001b[0;34m)\u001b[0m\u001b[0;34m\u001b[0m\u001b[0;34m\u001b[0m\u001b[0m\n\u001b[1;32m    189\u001b[0m         \u001b[0mindexer\u001b[0m \u001b[0;34m=\u001b[0m \u001b[0mself\u001b[0m\u001b[0;34m.\u001b[0m\u001b[0m_get_setitem_indexer\u001b[0m\u001b[0;34m(\u001b[0m\u001b[0mkey\u001b[0m\u001b[0;34m)\u001b[0m\u001b[0;34m\u001b[0m\u001b[0;34m\u001b[0m\u001b[0m\n\u001b[0;32m--> 190\u001b[0;31m         \u001b[0mself\u001b[0m\u001b[0;34m.\u001b[0m\u001b[0m_setitem_with_indexer\u001b[0m\u001b[0;34m(\u001b[0m\u001b[0mindexer\u001b[0m\u001b[0;34m,\u001b[0m \u001b[0mvalue\u001b[0m\u001b[0;34m)\u001b[0m\u001b[0;34m\u001b[0m\u001b[0;34m\u001b[0m\u001b[0m\n\u001b[0m\u001b[1;32m    191\u001b[0m \u001b[0;34m\u001b[0m\u001b[0m\n\u001b[1;32m    192\u001b[0m     \u001b[0;32mdef\u001b[0m \u001b[0m_validate_key\u001b[0m\u001b[0;34m(\u001b[0m\u001b[0mself\u001b[0m\u001b[0;34m,\u001b[0m \u001b[0mkey\u001b[0m\u001b[0;34m,\u001b[0m \u001b[0maxis\u001b[0m\u001b[0;34m)\u001b[0m\u001b[0;34m:\u001b[0m\u001b[0;34m\u001b[0m\u001b[0;34m\u001b[0m\u001b[0m\n",
                        "\u001b[0;32m/opt/conda/envs/Python36/lib/python3.6/site-packages/pandas/core/indexing.py\u001b[0m in \u001b[0;36m_setitem_with_indexer\u001b[0;34m(self, indexer, value)\u001b[0m\n\u001b[1;32m    654\u001b[0m             \u001b[0mself\u001b[0m\u001b[0;34m.\u001b[0m\u001b[0mobj\u001b[0m\u001b[0;34m.\u001b[0m\u001b[0m_consolidate_inplace\u001b[0m\u001b[0;34m(\u001b[0m\u001b[0;34m)\u001b[0m\u001b[0;34m\u001b[0m\u001b[0;34m\u001b[0m\u001b[0m\n\u001b[1;32m    655\u001b[0m             self.obj._data = self.obj._data.setitem(indexer=indexer,\n\u001b[0;32m--> 656\u001b[0;31m                                                     value=value)\n\u001b[0m\u001b[1;32m    657\u001b[0m             \u001b[0mself\u001b[0m\u001b[0;34m.\u001b[0m\u001b[0mobj\u001b[0m\u001b[0;34m.\u001b[0m\u001b[0m_maybe_update_cacher\u001b[0m\u001b[0;34m(\u001b[0m\u001b[0mclear\u001b[0m\u001b[0;34m=\u001b[0m\u001b[0;32mTrue\u001b[0m\u001b[0;34m)\u001b[0m\u001b[0;34m\u001b[0m\u001b[0;34m\u001b[0m\u001b[0m\n\u001b[1;32m    658\u001b[0m \u001b[0;34m\u001b[0m\u001b[0m\n",
                        "\u001b[0;32m/opt/conda/envs/Python36/lib/python3.6/site-packages/pandas/core/internals/managers.py\u001b[0m in \u001b[0;36msetitem\u001b[0;34m(self, **kwargs)\u001b[0m\n\u001b[1;32m    508\u001b[0m \u001b[0;34m\u001b[0m\u001b[0m\n\u001b[1;32m    509\u001b[0m     \u001b[0;32mdef\u001b[0m \u001b[0msetitem\u001b[0m\u001b[0;34m(\u001b[0m\u001b[0mself\u001b[0m\u001b[0;34m,\u001b[0m \u001b[0;34m**\u001b[0m\u001b[0mkwargs\u001b[0m\u001b[0;34m)\u001b[0m\u001b[0;34m:\u001b[0m\u001b[0;34m\u001b[0m\u001b[0;34m\u001b[0m\u001b[0m\n\u001b[0;32m--> 510\u001b[0;31m         \u001b[0;32mreturn\u001b[0m \u001b[0mself\u001b[0m\u001b[0;34m.\u001b[0m\u001b[0mapply\u001b[0m\u001b[0;34m(\u001b[0m\u001b[0;34m'setitem'\u001b[0m\u001b[0;34m,\u001b[0m \u001b[0;34m**\u001b[0m\u001b[0mkwargs\u001b[0m\u001b[0;34m)\u001b[0m\u001b[0;34m\u001b[0m\u001b[0;34m\u001b[0m\u001b[0m\n\u001b[0m\u001b[1;32m    511\u001b[0m \u001b[0;34m\u001b[0m\u001b[0m\n\u001b[1;32m    512\u001b[0m     \u001b[0;32mdef\u001b[0m \u001b[0mputmask\u001b[0m\u001b[0;34m(\u001b[0m\u001b[0mself\u001b[0m\u001b[0;34m,\u001b[0m \u001b[0;34m**\u001b[0m\u001b[0mkwargs\u001b[0m\u001b[0;34m)\u001b[0m\u001b[0;34m:\u001b[0m\u001b[0;34m\u001b[0m\u001b[0;34m\u001b[0m\u001b[0m\n",
                        "\u001b[0;32m/opt/conda/envs/Python36/lib/python3.6/site-packages/pandas/core/internals/managers.py\u001b[0m in \u001b[0;36mapply\u001b[0;34m(self, f, axes, filter, do_integrity_check, consolidate, **kwargs)\u001b[0m\n\u001b[1;32m    393\u001b[0m                                             copy=align_copy)\n\u001b[1;32m    394\u001b[0m \u001b[0;34m\u001b[0m\u001b[0m\n\u001b[0;32m--> 395\u001b[0;31m             \u001b[0mapplied\u001b[0m \u001b[0;34m=\u001b[0m \u001b[0mgetattr\u001b[0m\u001b[0;34m(\u001b[0m\u001b[0mb\u001b[0m\u001b[0;34m,\u001b[0m \u001b[0mf\u001b[0m\u001b[0;34m)\u001b[0m\u001b[0;34m(\u001b[0m\u001b[0;34m**\u001b[0m\u001b[0mkwargs\u001b[0m\u001b[0;34m)\u001b[0m\u001b[0;34m\u001b[0m\u001b[0;34m\u001b[0m\u001b[0m\n\u001b[0m\u001b[1;32m    396\u001b[0m             \u001b[0mresult_blocks\u001b[0m \u001b[0;34m=\u001b[0m \u001b[0m_extend_blocks\u001b[0m\u001b[0;34m(\u001b[0m\u001b[0mapplied\u001b[0m\u001b[0;34m,\u001b[0m \u001b[0mresult_blocks\u001b[0m\u001b[0;34m)\u001b[0m\u001b[0;34m\u001b[0m\u001b[0;34m\u001b[0m\u001b[0m\n\u001b[1;32m    397\u001b[0m \u001b[0;34m\u001b[0m\u001b[0m\n",
                        "\u001b[0;32m/opt/conda/envs/Python36/lib/python3.6/site-packages/pandas/core/internals/blocks.py\u001b[0m in \u001b[0;36msetitem\u001b[0;34m(self, indexer, value)\u001b[0m\n\u001b[1;32m    918\u001b[0m         \u001b[0;31m# set\u001b[0m\u001b[0;34m\u001b[0m\u001b[0;34m\u001b[0m\u001b[0;34m\u001b[0m\u001b[0m\n\u001b[1;32m    919\u001b[0m         \u001b[0;32melse\u001b[0m\u001b[0;34m:\u001b[0m\u001b[0;34m\u001b[0m\u001b[0;34m\u001b[0m\u001b[0m\n\u001b[0;32m--> 920\u001b[0;31m             \u001b[0mvalues\u001b[0m\u001b[0;34m[\u001b[0m\u001b[0mindexer\u001b[0m\u001b[0;34m]\u001b[0m \u001b[0;34m=\u001b[0m \u001b[0mvalue\u001b[0m\u001b[0;34m\u001b[0m\u001b[0;34m\u001b[0m\u001b[0m\n\u001b[0m\u001b[1;32m    921\u001b[0m \u001b[0;34m\u001b[0m\u001b[0m\n\u001b[1;32m    922\u001b[0m         \u001b[0;31m# coerce and try to infer the dtypes of the result\u001b[0m\u001b[0;34m\u001b[0m\u001b[0;34m\u001b[0m\u001b[0;34m\u001b[0m\u001b[0m\n",
                        "\u001b[0;31mValueError\u001b[0m: could not broadcast input array from shape (16) into shape (18)"
                    ]
                }
            ],
            "source": "for ind in np.arange(york_grouped.shape[0]):\n    york_neighbourhoods_venues_sorted.iloc[ind, 1:] = return_most_common_venues(york_grouped.iloc[ind, :], num_top_venues)\n\nyork_neighbourhoods_venues_sorted.head(2)"
        },
        {
            "cell_type": "markdown",
            "metadata": {},
            "source": "***Use Folium library to map neighborhoods***"
        },
        {
            "cell_type": "markdown",
            "metadata": {},
            "source": "***Run K-means to cluster the neighborhood into 2 cluster***"
        },
        {
            "cell_type": "code",
            "execution_count": null,
            "metadata": {},
            "outputs": [],
            "source": "# set number of clusters\nkclusters = 2\n\nyork_grouped_clustering = york_grouped.drop('Neighborhood', 1)\n\n# run k-means clustering\nyork_kmeans = KMeans(n_clusters=kclusters, random_state=0).fit(york_grouped_clustering)\n\n# check cluster labels generated for each row in the dataframe\nyork_kmeans.labels_[0:5]"
        },
        {
            "cell_type": "code",
            "execution_count": null,
            "metadata": {},
            "outputs": [],
            "source": "# add clustering labels\nyork_neighbourhoods_venues_sorted.insert(0, 'Cluster Labels', york_kmeans.labels_)\n\nyork_merged = york_data\n\n# merge toronto_grouped with toronto_data to add latitude/longitude for each neighborhood\nyork_merged = york_merged.join(york_neighbourhoods_venues_sorted.set_index('Neighbourhood'), on='Neighbourhood')\n\nyork_merged"
        },
        {
            "cell_type": "code",
            "execution_count": null,
            "metadata": {},
            "outputs": [],
            "source": "# create map\nyork_map_clusters = folium.Map(location=[latitude, longitude], zoom_start=11)\n\n# set color scheme for the clusters\nx = np.arange(kclusters)\nys = [i + x + (i*x)**2 for i in range(kclusters)]\ncolors_array = cm.rainbow(np.linspace(0, 1, len(ys)))\nrainbow = [colors.rgb2hex(i) for i in colors_array]\n\n# add markers to the map\nmarkers_colors = []\nfor lat, lon, poi, cluster in zip(york_merged['Latitude'], york_merged['Longitude'], york_merged['Neighbourhood'], york_merged['Cluster Labels']):\n    label = folium.Popup(str(poi) + ' Cluster ' + str(cluster), parse_html=True)\n    folium.CircleMarker(\n        [lat, lon],\n        radius=5,\n        popup=label,\n        color=rainbow[cluster-1],\n        fill=True,\n        fill_color=rainbow[cluster-1],\n        fill_opacity=0.7).add_to(york_map_clusters)\n       \nyork_map_clusters\n\nyork_map_clusters.save(\"york_map_clusters.html\")\n\n#open york_map_clusters.html in browser\n#if you cannot generate the maps open PGA_map_*.html from the zip file"
        },
        {
            "cell_type": "code",
            "execution_count": null,
            "metadata": {},
            "outputs": [],
            "source": "york_merged.loc[york_merged['Cluster Labels'] == 0, york_merged.columns[[1] + list(range(5, york_merged.shape[1]))]]"
        },
        {
            "cell_type": "code",
            "execution_count": null,
            "metadata": {},
            "outputs": [],
            "source": "york_merged.loc[york_merged['Cluster Labels'] == 1, york_merged.columns[[1] + list(range(5, york_merged.shape[1]))]]"
        },
        {
            "cell_type": "markdown",
            "metadata": {},
            "source": "***3.5 Notebook to Github Repository***"
        },
        {
            "cell_type": "code",
            "execution_count": null,
            "metadata": {},
            "outputs": [],
            "source": ""
        },
        {
            "cell_type": "code",
            "execution_count": null,
            "metadata": {},
            "outputs": [],
            "source": ""
        },
        {
            "cell_type": "code",
            "execution_count": null,
            "metadata": {},
            "outputs": [],
            "source": ""
        },
        {
            "cell_type": "code",
            "execution_count": null,
            "metadata": {},
            "outputs": [],
            "source": ""
        },
        {
            "cell_type": "code",
            "execution_count": null,
            "metadata": {},
            "outputs": [],
            "source": ""
        },
        {
            "cell_type": "code",
            "execution_count": null,
            "metadata": {},
            "outputs": [],
            "source": ""
        },
        {
            "cell_type": "code",
            "execution_count": null,
            "metadata": {},
            "outputs": [],
            "source": ""
        },
        {
            "cell_type": "code",
            "execution_count": null,
            "metadata": {},
            "outputs": [],
            "source": ""
        },
        {
            "cell_type": "code",
            "execution_count": null,
            "metadata": {},
            "outputs": [],
            "source": ""
        },
        {
            "cell_type": "code",
            "execution_count": null,
            "metadata": {},
            "outputs": [],
            "source": ""
        },
        {
            "cell_type": "code",
            "execution_count": null,
            "metadata": {},
            "outputs": [],
            "source": ""
        },
        {
            "cell_type": "code",
            "execution_count": null,
            "metadata": {},
            "outputs": [],
            "source": ""
        },
        {
            "cell_type": "code",
            "execution_count": null,
            "metadata": {},
            "outputs": [],
            "source": ""
        }
    ],
    "metadata": {
        "kernelspec": {
            "display_name": "Python 3.6",
            "language": "python",
            "name": "python3"
        },
        "language_info": {
            "codemirror_mode": {
                "name": "ipython",
                "version": 3
            },
            "file_extension": ".py",
            "mimetype": "text/x-python",
            "name": "python",
            "nbconvert_exporter": "python",
            "pygments_lexer": "ipython3",
            "version": "3.6.9"
        }
    },
    "nbformat": 4,
    "nbformat_minor": 1
}